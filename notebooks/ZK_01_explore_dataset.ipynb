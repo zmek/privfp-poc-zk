{
 "cells": [
  {
   "cell_type": "markdown",
   "id": "ef2742aa",
   "metadata": {},
   "source": [
    "# 02 - Generating Dataset 1\n",
    "\n",
    "The purpose of this notebook is to explore the dataset created by [02_generate_dataset.ipynb](02_generate_dataset.ipynb)"
   ]
  },
  {
   "cell_type": "code",
   "execution_count": 2,
   "id": "532cfcf6",
   "metadata": {},
   "outputs": [],
   "source": [
    "# Reload functions every time\n",
    "%load_ext autoreload \n",
    "%autoreload 2"
   ]
  },
  {
   "cell_type": "code",
   "execution_count": 3,
   "id": "c0d258c8",
   "metadata": {},
   "outputs": [],
   "source": [
    "import json\n",
    "import os\n",
    "import sys\n",
    "\n",
    "# This will add the src directory to sys.path\n",
    "# meaning that the privacy_fingerprint will be found\n",
    "# note it assumes the current working directory is the folder containing this notebook\n",
    "sys.path.append(os.path.abspath(os.path.join(os.getcwd(), os.pardir))+'/src')"
   ]
  },
  {
   "cell_type": "code",
   "execution_count": 4,
   "id": "d506cec1",
   "metadata": {},
   "outputs": [],
   "source": [
    "# The Synthea output was saved to a directory\n",
    "output_dir = \"../experiments/02_generate_dataset\"\n",
    "os.makedirs(output_dir, exist_ok=True)\n",
    "export_directory = os.path.join(output_dir, \"synthea\")"
   ]
  },
  {
   "cell_type": "markdown",
   "metadata": {},
   "source": [
    "## Load the data and save a dataset of long visits"
   ]
  },
  {
   "cell_type": "markdown",
   "id": "e2adfdb8",
   "metadata": {},
   "source": [
    "The Synthea dataset only saves records of the type specified in expt_config.synthea.encounter_type at the time the experiment was run. Not that useful here"
   ]
  },
  {
   "cell_type": "code",
   "execution_count": 5,
   "id": "c4f7c37e",
   "metadata": {},
   "outputs": [],
   "source": [
    "\n",
    "# with open(os.path.join(output_dir, \"synthea_dataset.json\")) as fp:\n",
    "#     synthea_records = json.load(fp)\n",
    "\n",
    "# len(synthea_records)"
   ]
  },
  {
   "cell_type": "code",
   "execution_count": 6,
   "metadata": {},
   "outputs": [],
   "source": [
    "import pandas as pd\n",
    "enc = pd.read_csv('../experiments/02_generate_dataset/synthea/csv/encounters.csv')\n",
    "pat = pd.read_csv('../experiments/02_generate_dataset/synthea/csv/patients.csv')\n",
    "cond = pd.read_csv('../experiments/02_generate_dataset/synthea/csv/conditions.csv')\n",
    "med = pd.read_csv('../experiments/02_generate_dataset/synthea/csv/medications.csv')\n",
    "proc = pd.read_csv('../experiments/02_generate_dataset/synthea/csv/procedures.csv')"
   ]
  },
  {
   "cell_type": "code",
   "execution_count": 7,
   "id": "718f59b5",
   "metadata": {},
   "outputs": [],
   "source": [
    "# Convert START and STOP to datetime\n",
    "enc['START'] = pd.to_datetime(enc['START'])\n",
    "enc['STOP'] = pd.to_datetime(enc['STOP'])\n",
    "\n",
    "# Calculate time difference\n",
    "enc['DURATION'] = enc['STOP'] - enc['START']"
   ]
  },
  {
   "cell_type": "code",
   "execution_count": 9,
   "id": "ef5cfbfe",
   "metadata": {},
   "outputs": [
    {
     "data": {
      "text/plain": [
       "ENCOUNTERCLASS\n",
       "ambulatory    3526\n",
       "wellness      2051\n",
       "outpatient    1121\n",
       "emergency      482\n",
       "urgentcare     100\n",
       "inpatient       92\n",
       "hospice         22\n",
       "home            21\n",
       "snf             17\n",
       "virtual          5\n",
       "Name: count, dtype: int64"
      ]
     },
     "execution_count": 9,
     "metadata": {},
     "output_type": "execute_result"
    }
   ],
   "source": [
    "enc.ENCOUNTERCLASS.value_counts()"
   ]
  },
  {
   "cell_type": "code",
   "execution_count": 7,
   "metadata": {},
   "outputs": [
    {
     "name": "stdout",
     "output_type": "stream",
     "text": [
      "Number of unique patients with hospital inpatient\n",
      "41\n"
     ]
    },
    {
     "data": {
      "text/plain": [
       "DESCRIPTION\n",
       "Drug rehabilitation and detoxification                 41\n",
       "Admission to intensive care unit (procedure)           13\n",
       "Hospital admission (procedure)                          9\n",
       "Encounter for problem (procedure)                       6\n",
       "Admission to ward (procedure)                           5\n",
       "Admission to surgical department                        3\n",
       "Hospital admission for isolation (procedure)            3\n",
       "Patient transfer to intensive care unit (procedure)     2\n",
       "Admission to thoracic surgery department                2\n",
       "Non-urgent orthopedic admission                         2\n",
       "Follow-up visit (procedure)                             2\n",
       "Encounter for problem                                   2\n",
       "Encounter Inpatient                                     1\n",
       "Hospital admission  for observation (procedure)         1\n",
       "Name: count, dtype: int64"
      ]
     },
     "execution_count": 7,
     "metadata": {},
     "output_type": "execute_result"
    }
   ],
   "source": [
    "print(\"Number of unique patients with hospital inpatient\")\n",
    "print(len(enc[enc.ENCOUNTERCLASS == 'inpatient']['PATIENT'].unique()))\n",
    "enc[enc.ENCOUNTERCLASS == 'inpatient']['DESCRIPTION'].value_counts()"
   ]
  },
  {
   "cell_type": "code",
   "execution_count": 13,
   "id": "51637015",
   "metadata": {},
   "outputs": [
    {
     "name": "stdout",
     "output_type": "stream",
     "text": [
      "Number of unique patients with emergency visit\n"
     ]
    },
    {
     "data": {
      "text/plain": [
       "DESCRIPTION\n",
       "Emergency treatment (procedure)            253\n",
       "Emergency room admission (procedure)       145\n",
       "Obstetric emergency hospital admission      35\n",
       "Emergency Encounter                         23\n",
       "Encounter for Problem                       10\n",
       "Encounter for problem                        7\n",
       "Emergency hospital admission for asthma      6\n",
       "Emergency Room Admission                     3\n",
       "Name: count, dtype: int64"
      ]
     },
     "execution_count": 13,
     "metadata": {},
     "output_type": "execute_result"
    }
   ],
   "source": [
    "print(\"Number of unique patients with emergency visit\")\n",
    "# print(len(enc[enc.ENCOUNTERCLASS == 'inpatient']['PATIENT'].unique()))\n",
    "enc[enc.ENCOUNTERCLASS == 'emergency']['DESCRIPTION'].value_counts()"
   ]
  },
  {
   "cell_type": "code",
   "execution_count": 16,
   "metadata": {},
   "outputs": [
    {
     "name": "stdout",
     "output_type": "stream",
     "text": [
      "41\n"
     ]
    },
    {
     "data": {
      "text/plain": [
       "67215"
      ]
     },
     "execution_count": 16,
     "metadata": {},
     "output_type": "execute_result"
    }
   ],
   "source": [
    "# all inpatient visits\n",
    "\n",
    "files_to_process = []\n",
    "unique_pats_with_inpatient_visit = enc[enc.ENCOUNTERCLASS == 'inpatient']['PATIENT'].unique()\n",
    "print(len(unique_pats_with_inpatient_visit))\n",
    "\n",
    "for patient_id in unique_pats_with_inpatient_visit:\n",
    "    for file_name in os.listdir('../experiments/02_generate_dataset/synthea/fhir'):\n",
    "        if patient_id in file_name:\n",
    "            files_to_process.append(file_name)\n",
    "\n",
    "            \n",
    "all_fhir_files = []\n",
    "for file_name in os.listdir('../experiments/02_generate_dataset/synthea/fhir'):\n",
    "    all_fhir_files.append(file_name)\n",
    "\n",
    "len(all_fhir_files)"
   ]
  },
  {
   "cell_type": "code",
   "execution_count": 11,
   "metadata": {},
   "outputs": [],
   "source": [
    "# # Longest 20 visits\n",
    "# long_visits = enc.sort_values('DURATION', ascending=False).head(20)['PATIENT'].unique()\n",
    "\n",
    "# files_to_process = []\n",
    "\n",
    "# for patient_id in all_visits: #long_visits:\n",
    "#     for file_name in os.listdir('../experiments/02_generate_dataset/synthea/fhir'):\n",
    "#         if patient_id in file_name:\n",
    "#             files_to_process.append(file_name)\n",
    "\n",
    "# print(len(files_to_process))\n"
   ]
  },
  {
   "cell_type": "code",
   "execution_count": 13,
   "metadata": {},
   "outputs": [],
   "source": [
    "# Could also include these\n",
    "\n",
    "# files = os.listdir('../experiments/02_generate_dataset_inpatients/synthea/fhir/')\n",
    "# print(len(files))\n",
    "# import pandas as pd\n",
    "# enc = pd.read_csv('../experiments/02_generate_dataset_inpatients/synthea/csv/encounters.csv')\n",
    "# enc.DESCRIPTION.value_counts().tail(20)\n"
   ]
  },
  {
   "cell_type": "code",
   "execution_count": 45,
   "metadata": {},
   "outputs": [
    {
     "data": {
      "text/plain": [
       "'Patient'"
      ]
     },
     "execution_count": 45,
     "metadata": {},
     "output_type": "execute_result"
    }
   ],
   "source": [
    "records_dict['urn:uuid:60deb2ef-0d39-208c-19b7-ca5ca9c62a25']['resourceType']"
   ]
  },
  {
   "cell_type": "code",
   "execution_count": 55,
   "id": "c32291ae",
   "metadata": {},
   "outputs": [
    {
     "data": {
      "text/plain": [
       "{'Condition': [], 'Procedure': [], 'Observation': [], 'Medication': []}"
      ]
     },
     "execution_count": 55,
     "metadata": {},
     "output_type": "execute_result"
    }
   ],
   "source": [
    "other_resources"
   ]
  },
  {
   "cell_type": "code",
   "execution_count": 18,
   "metadata": {},
   "outputs": [
    {
     "name": "stdout",
     "output_type": "stream",
     "text": [
      "Shizuko29_Morar593_aa6ebc6d-72ae-e38c-9f8b-2e0c6af1b6f8.json\n",
      "Found 30 encounters and 4 other resources\n",
      "Deandra603_Alane21_Corwin846_3f54950e-2432-db02-dbb3-72d71cc32a23.json\n",
      "Found 110 encounters and 4 other resources\n",
      "Lela622_Melynda458_Wisozk929_0ed50b6e-f885-5620-1707-2efe2006afeb.json\n",
      "Found 142 encounters and 4 other resources\n",
      "Carie544_Littel644_a31d9c5f-3c66-abac-d4df-d7cdd2e2252e.json\n",
      "Found 80 encounters and 4 other resources\n",
      "Myles862_Carter549_cb45fd1b-3756-ce6c-5646-15be22239351.json\n",
      "Found 72 encounters and 4 other resources\n",
      "Gabrielle769_Roselle682_Stehr398_05fe2183-b7df-ebde-ac16-b51d519d7bb1.json\n",
      "Found 40 encounters and 4 other resources\n",
      "Parker433_Ullrich385_0c338433-4b52-8489-5f8e-1683ee2d1bb0.json\n",
      "Found 42 encounters and 4 other resources\n",
      "Hope196_Victoria535_Ortiz186_4ab94312-e896-8687-55ab-eeb11454415a.json\n",
      "Found 91 encounters and 4 other resources\n",
      "Lynelle567_Mark765_Adams676_6786c6fa-fe58-88f2-4ddf-f6425cf524d0.json\n",
      "Found 76 encounters and 4 other resources\n",
      "Maybell872_Betty470_Beier427_37ee16af-8b9b-cf49-eaa6-ddb66c1c1c29.json\n",
      "Found 81 encounters and 4 other resources\n",
      "Marcel580_Hudson301_3f431dea-cdd7-c9a6-9f49-01487fb4ec59.json\n",
      "Found 55 encounters and 4 other resources\n",
      "Denis399_Nienow652_9f7136fe-a0b8-977a-ede4-8a8c81120c36.json\n",
      "Found 52 encounters and 4 other resources\n",
      "Erik495_Corwin846_90ac42bc-cd64-0c37-600c-6484a0a0d01f.json\n",
      "Found 80 encounters and 4 other resources\n",
      "Lorelei90_Paulette168_Wunsch504_2d3904be-707b-d260-0ac0-8a0f23097371.json\n",
      "Found 32 encounters and 4 other resources\n",
      "Rigoberto443_Schiller186_0a5b0da7-e9fd-e875-469f-d9cd14eaf993.json\n",
      "Found 71 encounters and 4 other resources\n",
      "Vella930_Caitlyn56_Schmitt836_b9d3c0b8-afba-9fe1-6eee-94589109d7fc.json\n",
      "Found 35 encounters and 4 other resources\n",
      "Albert312_Kautzer186_307cac3e-ffdd-b0bb-bf94-979f13d748e3.json\n",
      "Found 76 encounters and 4 other resources\n",
      "Ira784_Brittny484_Jacobs452_39be08cc-3f6c-cf52-9b44-64436d4f9a0a.json\n",
      "Found 66 encounters and 4 other resources\n",
      "Kiley170_Bergnaum523_9b202326-a891-2dce-e4c6-195e8d8ce717.json\n",
      "Found 39 encounters and 4 other resources\n",
      "Lela622_Tressa150_Prosacco716_d98e862f-e3b0-9a56-25df-f1843cea8f8d.json\n",
      "Found 97 encounters and 4 other resources\n",
      "Alexander630_Collins926_9e163c71-a462-ad5a-bd1c-7ddf349e61e2.json\n",
      "Found 179 encounters and 4 other resources\n",
      "Modesto621_Crooks415_8c5a0702-91a4-2a27-6ace-7d2083916b17.json\n",
      "Found 22 encounters and 4 other resources\n",
      "Carl856_Monahan736_802816ff-cc18-4074-d6d9-edb8284beb32.json\n",
      "Found 86 encounters and 4 other resources\n",
      "Shirleen968_Gutmann970_6ad3fcaf-8a9e-8f05-44a5-282fab782f4d.json\n",
      "Found 67 encounters and 4 other resources\n",
      "Rodney21_Bruen238_2caf59aa-2205-e33b-c616-e87aff3dae5a.json\n",
      "Found 20 encounters and 4 other resources\n",
      "Porsche32_Sherlyn657_Lesch175_89031c6f-9efc-31a5-5aa8-3d658d47a080.json\n",
      "Found 66 encounters and 4 other resources\n",
      "Florinda19_Hwa978_Runte676_e99a8ec7-9e19-a7a9-b115-4749001f2564.json\n",
      "Found 110 encounters and 4 other resources\n",
      "Terrell212_Johns824_367434f6-dc38-0a48-2b7e-ed254fd53c93.json\n",
      "Found 97 encounters and 4 other resources\n",
      "Alva958_Kautzer186_bbbb5bdf-8479-fc9b-48fa-19bf05e7ec85.json\n",
      "Found 40 encounters and 4 other resources\n",
      "Rebeca548_Star250_Jones311_87495c35-77bb-9426-67d9-db97fe9c036c.json\n",
      "Found 60 encounters and 4 other resources\n",
      "Yolanda648_Devin82_Marks830_6761d9f0-6ba4-530a-beb0-0c0ab51002a0.json\n",
      "Found 47 encounters and 4 other resources\n",
      "Fe271_Artie871_Rempel203_9acb8a51-4608-df7e-64c3-c4502202431e.json\n",
      "Found 46 encounters and 4 other resources\n",
      "Carolynn568_Genoveva361_Farrell962_5d47bff4-b399-e39a-7564-6e98135929b9.json\n",
      "Found 254 encounters and 4 other resources\n",
      "Linn541_Elly836_Kunze215_eb8e5426-96a8-b166-8db2-6fb3d39740c7.json\n",
      "Found 44 encounters and 4 other resources\n",
      "Dennis979_Johnna810_Hackett68_4a72cfc5-8fff-d8bb-8f1f-35afd55f3a7e.json\n",
      "Found 69 encounters and 4 other resources\n",
      "Noelia656_Dee580_Rempel203_826ab6b8-9b5e-736e-5271-bd33861cc870.json\n",
      "Found 194 encounters and 4 other resources\n",
      "Tyler508_Oberbrunner298_1585f830-8762-f8ef-2309-a1fea23fda8a.json\n",
      "Found 126 encounters and 4 other resources\n",
      "Verda448_Balistreri607_6ac2bf6b-6a8c-51e9-a2dd-30eb780264c5.json\n",
      "Found 62 encounters and 4 other resources\n",
      "Alishia395_Kasie673_Abernathy524_7b173cbb-0517-d034-95ca-9c4f460482d5.json\n",
      "Found 1114 encounters and 4 other resources\n",
      "Vonnie403_Streich926_f83ba5f7-5e69-3b27-4b62-b5630c59db34.json\n",
      "Found 73 encounters and 4 other resources\n",
      "Jaimee549_Greenfelder433_60deb2ef-0d39-208c-19b7-ca5ca9c62a25.json\n",
      "Found 140 encounters and 4 other resources\n"
     ]
    }
   ],
   "source": [
    "# Create a dictionary of patients using the FHIR resources\n",
    "patient_dict = {}\n",
    "\n",
    "for filename in files_to_process: \n",
    "\n",
    "    print(filename)\n",
    "\n",
    "    encounter_dict = {}\n",
    "    other_resources = {'Condition': [], 'Procedure': [], 'Observation': [], 'Medication': []}\n",
    "\n",
    "    with open(output_dir + '/synthea/fhir/' + filename) as f:\n",
    "        data = json.load(f)\n",
    "\n",
    "    # print(filename)\n",
    "    records_dict = {}\n",
    "\n",
    "    for entry in data['entry']:\n",
    "        full_url = entry['fullUrl']\n",
    "        resource = entry['resource']\n",
    "        records_dict[full_url] = resource\n",
    "\n",
    "    for id, resource in records_dict.items():\n",
    "\n",
    "        if resource['resourceType'] == 'Patient':\n",
    "            patient_id = id\n",
    "\n",
    "        elif resource['resourceType'] == 'Encounter':\n",
    "            encounter_dict[id] = resource\n",
    "            encounter_dict[id]['related_resources'] = {'Condition': [], 'Procedure': [], 'Observation': [], 'Medication': []}\n",
    "            encounter_dict[id]['encounter_type'] = resource['type'][0]['text']\n",
    "        \n",
    "        else: \n",
    "            # save ids of other resources types, to iterate through later\n",
    "            resource_type = resource['resourceType']\n",
    "            if resource_type in other_resources:\n",
    "                other_resources[resource_type].append(id)\n",
    "\n",
    "\n",
    "    print(\"Found \" + str(len(encounter_dict.keys())) + \" encounters and \" + str(len(other_resources)) + \" other resources\")\n",
    "\n",
    "    for resource_type, ids in other_resources.items():\n",
    "        for other_ in ids:\n",
    "            related_encounter = records_dict[other_]['encounter']['reference']\n",
    "            if other_ not in encounter_dict[related_encounter]['related_resources'][resource_type]:\n",
    "                encounter_dict[related_encounter]['related_resources'][resource_type].append(records_dict[other_])\n",
    "\n",
    "\n",
    "\n",
    "    patient_dict[patient_id] = encounter_dict\n"
   ]
  },
  {
   "cell_type": "code",
   "execution_count": 26,
   "metadata": {},
   "outputs": [
    {
     "name": "stdout",
     "output_type": "stream",
     "text": [
      "urn:uuid:1ad2d889-3534-e03d-8ccc-a56b797c5f5d\n",
      "General examination of patient (procedure)\n",
      "urn:uuid:b33a2d69-77a7-e979-00d5-47ae71590c36\n",
      "General examination of patient (procedure)\n",
      "urn:uuid:9c23a063-baf9-df35-0012-f243e91b2681\n",
      "General examination of patient (procedure)\n",
      "urn:uuid:24d2af18-d958-9414-dd5c-3fff56c7244c\n",
      "General examination of patient (procedure)\n",
      "urn:uuid:1638a7f8-1dc0-e68d-99dc-84052b175604\n",
      "General examination of patient (procedure)\n",
      "urn:uuid:fb8c2afc-0ea8-6fb3-edb8-f94933669b2c\n",
      "General examination of patient (procedure)\n",
      "urn:uuid:1b6d6e76-c6fe-7cb0-b245-cd37f270d801\n",
      "Encounter for problem\n",
      "urn:uuid:d4adb040-4e75-b346-5325-4327c0d2f4dc\n",
      "General examination of patient (procedure)\n",
      "urn:uuid:4a9f44ea-948a-e84e-9184-0527bc8ac6c1\n",
      "General examination of patient (procedure)\n",
      "urn:uuid:d3a657bd-4ead-b83b-fe53-c757f43f8775\n",
      "Encounter for check up (procedure)\n",
      "urn:uuid:5940f3ce-a774-1106-40eb-7b132636020b\n",
      "General examination of patient (procedure)\n",
      "urn:uuid:f5ff82e9-3a8a-8ea1-a556-5e1235814284\n",
      "General examination of patient (procedure)\n",
      "urn:uuid:5aefa202-52d4-651a-6e61-b2053d93bc01\n",
      "General examination of patient (procedure)\n",
      "urn:uuid:3c8c4b24-e2ab-0a62-f280-09b7d8e9b15d\n",
      "General examination of patient (procedure)\n",
      "urn:uuid:f4e52915-ad14-c021-d73d-f6df4c14cbb0\n",
      "Encounter for problem (procedure)\n",
      "urn:uuid:3471b58f-7af0-11e1-4360-eace08721055\n",
      "Encounter for problem (procedure)\n",
      "urn:uuid:dff96e2a-4903-d8e8-e2a5-cecd44e9c0f9\n",
      "Encounter for problem (procedure)\n",
      "urn:uuid:20aff096-7254-6557-a0ad-db3c98828a1c\n",
      "Patient encounter procedure (procedure)\n",
      "urn:uuid:516531a1-a346-5760-7fcb-ab13a4e35a24\n",
      "Patient encounter procedure (procedure)\n",
      "urn:uuid:e292098d-f608-62e7-442f-8ff5e06497cc\n",
      "Patient encounter procedure (procedure)\n",
      "urn:uuid:7b6cf1b2-6d37-7936-52ac-4add2681b6ac\n",
      "Patient encounter procedure (procedure)\n",
      "urn:uuid:a43eedf7-be61-3e1a-c8d1-09fed2c04ea2\n",
      "Patient encounter procedure (procedure)\n",
      "urn:uuid:32def5d9-aa99-568e-ff21-a37cfe806ba9\n",
      "Patient encounter procedure (procedure)\n",
      "urn:uuid:c1e442ab-0fe5-d3b6-8d47-573c8e21f3ed\n",
      "Patient encounter procedure (procedure)\n",
      "urn:uuid:5301671b-06d8-ce0f-11d8-9c141895581c\n",
      "Patient encounter procedure (procedure)\n",
      "urn:uuid:2b0553f4-d5f7-84e5-1273-bc281f6201ff\n",
      "Patient encounter procedure (procedure)\n",
      "urn:uuid:cfceae2b-754d-9605-b769-449539b53549\n",
      "Patient encounter procedure (procedure)\n",
      "urn:uuid:57511a15-4ffd-21b4-7358-8c4f256856af\n",
      "Encounter for symptom\n",
      "urn:uuid:0fe35ff6-4402-eedf-9a29-d6477b5dcd39\n",
      "Emergency room admission (procedure)\n",
      "urn:uuid:fb2a25a8-8777-e395-24b8-a7bbd7b9c337\n",
      "Encounter for 'check-up'\n",
      "urn:uuid:cbcd1731-1bad-9fd0-63b0-9540a1329f21\n",
      "Administration of vaccine to produce active immunity (procedure)\n",
      "urn:uuid:3f822e12-2c3d-8d25-8aee-3f598b93edbc\n",
      "Administration of vaccine to produce active immunity (procedure)\n",
      "urn:uuid:497a9f68-3d9f-74b4-f6f0-1a266410a632\n",
      "Encounter for symptom\n"
     ]
    }
   ],
   "source": [
    "for encounter_id, value in patient_dict[list(patient_dict.keys())[0]].items():\n",
    "    print(encounter_id)\n",
    "    print(value['encounter_type'])\n",
    "    # for details_, encounter_details in value.items():\n",
    "    #     if details_ == 'other_resources':\n",
    "    #         print(encounter_details)"
   ]
  },
  {
   "cell_type": "code",
   "execution_count": null,
   "id": "dc0748f4",
   "metadata": {},
   "outputs": [],
   "source": [
    "# # Create a dictionary of all patients using all the FHIR resources\n",
    "# patient_dict = {}\n",
    "\n",
    "# for filename in all_fhir_files: # or use files_to_process (and see below)\n",
    "\n",
    "#     encounter_dict = {}\n",
    "#     other_resources = {'Condition': [], 'Procedure': [], 'Observation': [], 'Medication': []}\n",
    "\n",
    "#     with open(output_dir + '/synthea/fhir/' + filename) as f:\n",
    "#         data = json.load(f)\n",
    "\n",
    "#     records_dict = {}\n",
    "\n",
    "#     for entry in data['entry']:\n",
    "#         full_url = entry['fullUrl']\n",
    "#         resource = entry['resource']\n",
    "#         records_dict[full_url] = resource\n",
    "\n",
    "#     for id, resource in records_dict.items():\n",
    "\n",
    "#         if resource['resourceType'] == 'Patient':\n",
    "#             patient_id = id\n",
    "\n",
    "#         elif resource['resourceType'] == 'Encounter':\n",
    "#             if 'inpatient' in resource['type'][0]['text']: # remove this if using files_to_process\n",
    "#                 encounter_dict[id] = resource\n",
    "#                 encounter_dict[id]['related_resources'] = {'Condition': [], 'Procedure': [], 'Observation': [], 'Medication': []}\n",
    "#                 encounter_dict[id]['encounter_type'] = resource['type'][0]['text']\n",
    "            \n",
    "#         else: \n",
    "#             # save ids of other resources types, to iterate through later\n",
    "#             resource_type = resource['resourceType']\n",
    "#             if resource_type in other_resources:\n",
    "#                 other_resources[resource_type].append(id)\n",
    "\n",
    "#     # add other resources to any relevant encounters\n",
    "#     for resource_type, ids in other_resources.items():\n",
    "#         for other_ in ids:\n",
    "#             related_encounter = records_dict[other_]['encounter']['reference']\n",
    "#             if other_ not in encounter_dict[related_encounter]['related_resources'][resource_type]:\n",
    "#                 encounter_dict[related_encounter]['related_resources'][resource_type].append(records_dict[other_])\n",
    "\n",
    "\n",
    "\n",
    "#     patient_dict[patient_id] = encounter_dict"
   ]
  },
  {
   "cell_type": "code",
   "execution_count": 19,
   "metadata": {},
   "outputs": [
    {
     "name": "stdout",
     "output_type": "stream",
     "text": [
      "26 days, 0:15:00\n",
      "8 days, 0:00:00\n",
      "8 days, 0:51:23\n",
      "4 days, 0:00:00\n",
      "5 days, 0:00:00\n",
      "10 days, 0:00:00\n",
      "25 days, 0:00:00\n",
      "2 days, 7:00:00\n",
      "7 days, 0:15:00\n",
      "2 days, 0:15:00\n",
      "676 days, 11:32:17\n",
      "2 days, 1:13:47\n",
      "6 days, 0:00:00\n",
      "9 days, 0:15:00\n",
      "19 days, 0:00:00\n",
      "1 day, 0:41:48\n",
      "14 days, 0:51:33\n",
      "11 days, 12:00:00\n",
      "2 days, 13:00:00\n",
      "4 days, 0:00:00\n",
      "8 days, 0:15:00\n",
      "4 days, 0:00:00\n",
      "29 days, 0:00:00\n",
      "4 days, 0:00:00\n",
      "1 day, 4:00:00\n",
      "19 days, 0:15:00\n",
      "9 days, 18:07:30\n",
      "7 days, 0:15:00\n",
      "3 days, 0:00:00\n",
      "1 day, 0:55:13\n",
      "27 days, 18:41:24\n",
      "19 days, 0:59:38\n",
      "5 days, 0:00:00\n",
      "266 days, 20:20:15\n",
      "5 days, 7:34:46\n",
      "5 days, 0:56:07\n",
      "6 days, 0:00:00\n",
      "11 days, 0:15:00\n"
     ]
    }
   ],
   "source": [
    "## Note - I started trying to parse the the data and then thought there was surely a library! However, I have not succeeded with fhir.resources\n",
    "\n",
    "from datetime import datetime, timedelta\n",
    "\n",
    "extracted_data = {\n",
    "    \"Encounters\": [],\n",
    "    \"Conditions\": [],\n",
    "    \"Procedures\": []\n",
    "}\n",
    "\n",
    "long_visit_dict = {}\n",
    "\n",
    "\n",
    "for pat_id, encounter_dict in patient_dict.items():\n",
    "\n",
    "    for id, resource in encounter_dict.items(): \n",
    "        # encounter_dict[list(encounter_dict.keys())[0]].keys()#['related_resources']\n",
    "        # if 'admission' in resource['encounter_type']:\n",
    "            # print(value['type'][0]['text'])\n",
    "            # print(resource.keys())\n",
    "\n",
    "        text_dict = {\"Patient\": {}, \"Encounter\": {}, \"Condition\": {}, \"Procedure\": {}, \"Observation\": {}}\n",
    "        condition_counter, procedure_counter, observation_counter = 0, 0, 0\n",
    "\n",
    "        text_dict['Patient'] = pat_id\n",
    "\n",
    "        text_dict['Encounter'] = {\n",
    "            \"Encounter id\": id,\n",
    "            \"Encounter Started\": datetime.fromisoformat(resource['period']['start']).strftime('%Y-%m-%d %H:%M:%S'),\n",
    "            \"Encounter Ended\": datetime.fromisoformat(resource['period']['end']).strftime('%Y-%m-%d %H:%M:%S'),\n",
    "            \"Encounter Duration\": datetime.fromisoformat(resource['period']['end']) - \n",
    "                datetime.fromisoformat(resource['period']['start']),\n",
    "            \"Hospital Staff\": ', '.join([p['individual']['display'] for p in resource['participant']]),\n",
    "            \"Type of admission\": resource['type'][0]['text']\n",
    "        }\n",
    "\n",
    "        for key, linked_resource in resource['related_resources'].items():\n",
    "            if linked_resource:\n",
    "                for item in linked_resource:\n",
    "                    if item['resourceType'] == 'Condition':\n",
    "                        condition_counter += 1\n",
    "                        text_dict[\"Condition\"][condition_counter] = {\n",
    "                            \"Text\": item['code']['text'],\n",
    "                            \"First Recorded\": item['onsetDateTime'],\n",
    "                            \"Resolved\": item.get('abatementDateTime', None)\n",
    "                        }\n",
    "\n",
    "                    if item['resourceType'] == 'Procedure':\n",
    "                        procedure_counter += 1\n",
    "                        text_dict[\"Procedure\"][procedure_counter] = {\n",
    "                            \"Text\": item['code']['text'],\n",
    "                            \"Started\": item['performedPeriod']['start'],\n",
    "                            \"Ended\": item['performedPeriod']['end']\n",
    "                        }\n",
    "                        \n",
    "                    if item['resourceType'] == 'Medication':\n",
    "                        print(item)\n",
    "                        # text_dict[\"Procedure\"] = item['code']['text']\n",
    "                        # text_dict[\"Procedure Started\"] = item['performedPeriod']['start']\n",
    "                        # text_dict[\"Procedure Ended\"] = item['performedPeriod']['end']\n",
    "\n",
    "                    if item['resourceType'] == 'Observation':\n",
    "                        observation_counter += 1\n",
    "\n",
    "                        if 'valueQuantity' in item.keys():\n",
    "                            text_dict[\"Observation\"][observation_counter] = {\n",
    "                                \"Text\": item['code']['text'],\n",
    "                                \"Recorded\": item['effectiveDateTime'],\n",
    "                                \"Value\": item['valueQuantity']['value'],\n",
    "                                \"Units\": item['valueQuantity']['unit']\n",
    "                            } \n",
    "                        else:\n",
    "                            text_dict[\"Observation\"][observation_counter] = {\n",
    "                                \"Text\": item['code']['text'],\n",
    "                                \"Recorded\": item['effectiveDateTime']\n",
    "                        }\n",
    "\n",
    "        extracted_data[\"Encounters\"].append(text_dict)\n",
    "\n",
    "        if text_dict[\"Encounter\"][\"Encounter Duration\"] > timedelta(days=1):\n",
    "            long_visit_dict[text_dict['Patient']] = text_dict\n",
    "\n",
    "\n",
    "\n",
    "\n",
    "# Processing the data with the new format\n",
    "\n",
    "\n",
    "for id, text_dict in long_visit_dict.items():\n",
    "    print(text_dict[\"Encounter\"][\"Encounter Duration\"])\n",
    "\n"
   ]
  },
  {
   "cell_type": "code",
   "execution_count": 14,
   "id": "1062c950",
   "metadata": {},
   "outputs": [],
   "source": [
    "visit_dict_converted = long_visit_dict.copy()\n",
    "for id, text_dict in visit_dict_converted.items():\n",
    "    # if datetime.fromisoformat(text_dict[\"Encounter\"][\"Encounter Started\"]) - datetime.fromisoformat(text_dict[\"Encounter\"][\"Encounter Ended\"]) > timedelta(days = 1):\n",
    "    text_dict[\"Encounter\"][\"Encounter Duration\"] = text_dict[\"Encounter\"][\"Encounter Duration\"].total_seconds()\n",
    "    visit_dict_converted[id] = text_dict\n",
    "\n",
    "\n",
    "with open(output_dir + '/all_inpatient_visit_dict.json', 'w') as outfile:\n",
    "    json.dump(visit_dict_converted, outfile)\n",
    "\n"
   ]
  },
  {
   "cell_type": "code",
   "execution_count": 100,
   "metadata": {},
   "outputs": [
    {
     "data": {
      "text/plain": [
       "dict_keys(['urn:uuid:811ef822-fab7-3f91-35dd-106227ca25c1', 'urn:uuid:eb8e5426-96a8-b166-8db2-6fb3d39740c7', 'urn:uuid:89031c6f-9efc-31a5-5aa8-3d658d47a080', 'urn:uuid:269a888e-f74a-9fcd-0287-3127ac54e1d7', 'urn:uuid:aa6ebc6d-72ae-e38c-9f8b-2e0c6af1b6f8', 'urn:uuid:0c338433-4b52-8489-5f8e-1683ee2d1bb0', 'urn:uuid:f83ba5f7-5e69-3b27-4b62-b5630c59db34', 'urn:uuid:6ac2bf6b-6a8c-51e9-a2dd-30eb780264c5', 'urn:uuid:826ab6b8-9b5e-736e-5271-bd33861cc870', 'urn:uuid:4a72cfc5-8fff-d8bb-8f1f-35afd55f3a7e', 'urn:uuid:bbbb5bdf-8479-fc9b-48fa-19bf05e7ec85', 'urn:uuid:0a5b0da7-e9fd-e875-469f-d9cd14eaf993', 'urn:uuid:5d47bff4-b399-e39a-7564-6e98135929b9', 'urn:uuid:90ac42bc-cd64-0c37-600c-6484a0a0d01f', 'urn:uuid:d98e862f-e3b0-9a56-25df-f1843cea8f8d', 'urn:uuid:87495c35-77bb-9426-67d9-db97fe9c036c', 'urn:uuid:307cac3e-ffdd-b0bb-bf94-979f13d748e3', 'urn:uuid:43dfe830-5af7-2baf-a37d-a48d0161d1e2'])"
      ]
     },
     "execution_count": 100,
     "metadata": {},
     "output_type": "execute_result"
    }
   ],
   "source": [
    "long_visit_dict_converted = long_visit_dict.copy()\n",
    "for id, text_dict in long_visit_dict_converted.items():\n",
    "    # if datetime.fromisoformat(text_dict[\"Encounter\"][\"Encounter Started\"]) - datetime.fromisoformat(text_dict[\"Encounter\"][\"Encounter Ended\"]) > timedelta(days = 1):\n",
    "    text_dict[\"Encounter\"][\"Encounter Duration\"] = text_dict[\"Encounter\"][\"Encounter Duration\"].total_seconds()\n",
    "    long_visit_dict_converted[id] = text_dict\n",
    "\n",
    "\n",
    "with open(output_dir + '/long_visit_dict.json', 'w') as outfile:\n",
    "    json.dump(long_visit_dict_converted, outfile)\n",
    "\n",
    "\n"
   ]
  },
  {
   "cell_type": "markdown",
   "id": "0f55c253",
   "metadata": {},
   "source": [
    "## Save to dataframe"
   ]
  },
  {
   "cell_type": "code",
   "execution_count": 27,
   "id": "92e38f02",
   "metadata": {},
   "outputs": [
    {
     "name": "stdout",
     "output_type": "stream",
     "text": [
      "urn:uuid:aa6ebc6d-72ae-e38c-9f8b-2e0c6af1b6f8\n",
      "urn:uuid:3f54950e-2432-db02-dbb3-72d71cc32a23\n",
      "urn:uuid:0ed50b6e-f885-5620-1707-2efe2006afeb\n",
      "urn:uuid:a31d9c5f-3c66-abac-d4df-d7cdd2e2252e\n",
      "urn:uuid:cb45fd1b-3756-ce6c-5646-15be22239351\n",
      "urn:uuid:05fe2183-b7df-ebde-ac16-b51d519d7bb1\n",
      "urn:uuid:0c338433-4b52-8489-5f8e-1683ee2d1bb0\n",
      "urn:uuid:4ab94312-e896-8687-55ab-eeb11454415a\n",
      "urn:uuid:6786c6fa-fe58-88f2-4ddf-f6425cf524d0\n",
      "urn:uuid:37ee16af-8b9b-cf49-eaa6-ddb66c1c1c29\n",
      "urn:uuid:3f431dea-cdd7-c9a6-9f49-01487fb4ec59\n",
      "urn:uuid:9f7136fe-a0b8-977a-ede4-8a8c81120c36\n",
      "urn:uuid:90ac42bc-cd64-0c37-600c-6484a0a0d01f\n",
      "urn:uuid:2d3904be-707b-d260-0ac0-8a0f23097371\n",
      "urn:uuid:0a5b0da7-e9fd-e875-469f-d9cd14eaf993\n",
      "urn:uuid:307cac3e-ffdd-b0bb-bf94-979f13d748e3\n",
      "urn:uuid:39be08cc-3f6c-cf52-9b44-64436d4f9a0a\n",
      "urn:uuid:9b202326-a891-2dce-e4c6-195e8d8ce717\n",
      "urn:uuid:d98e862f-e3b0-9a56-25df-f1843cea8f8d\n",
      "urn:uuid:9e163c71-a462-ad5a-bd1c-7ddf349e61e2\n",
      "urn:uuid:802816ff-cc18-4074-d6d9-edb8284beb32\n",
      "urn:uuid:6ad3fcaf-8a9e-8f05-44a5-282fab782f4d\n",
      "urn:uuid:89031c6f-9efc-31a5-5aa8-3d658d47a080\n",
      "urn:uuid:e99a8ec7-9e19-a7a9-b115-4749001f2564\n",
      "urn:uuid:367434f6-dc38-0a48-2b7e-ed254fd53c93\n",
      "urn:uuid:bbbb5bdf-8479-fc9b-48fa-19bf05e7ec85\n",
      "urn:uuid:87495c35-77bb-9426-67d9-db97fe9c036c\n",
      "urn:uuid:6761d9f0-6ba4-530a-beb0-0c0ab51002a0\n",
      "urn:uuid:9acb8a51-4608-df7e-64c3-c4502202431e\n",
      "urn:uuid:5d47bff4-b399-e39a-7564-6e98135929b9\n",
      "urn:uuid:eb8e5426-96a8-b166-8db2-6fb3d39740c7\n",
      "urn:uuid:4a72cfc5-8fff-d8bb-8f1f-35afd55f3a7e\n",
      "urn:uuid:826ab6b8-9b5e-736e-5271-bd33861cc870\n",
      "urn:uuid:1585f830-8762-f8ef-2309-a1fea23fda8a\n",
      "urn:uuid:6ac2bf6b-6a8c-51e9-a2dd-30eb780264c5\n",
      "urn:uuid:7b173cbb-0517-d034-95ca-9c4f460482d5\n",
      "urn:uuid:f83ba5f7-5e69-3b27-4b62-b5630c59db34\n",
      "urn:uuid:60deb2ef-0d39-208c-19b7-ca5ca9c62a25\n"
     ]
    }
   ],
   "source": [
    "df_conditions_all = pd.DataFrame()\n",
    "df_observations_all = pd.DataFrame()\n",
    "\n",
    "for uuid, visit_dict in long_visit_dict.items():\n",
    "    print(uuid)\n",
    "    df_conditions = pd.DataFrame([\n",
    "        {'Patient':visit_dict['Patient'], \n",
    "         'Encounter': visit_dict['Encounter']['Encounter id'],\n",
    "         'Condition': value['Text'], \n",
    "         'First Recorded': value['First Recorded']}\n",
    "        for key, value in visit_dict['Condition'].items()\n",
    "    ])\n",
    "\n",
    "    df_observations = pd.DataFrame([\n",
    "        {\n",
    "            'Patient':visit_dict['Patient'], \n",
    "            'Encounter': visit_dict['Encounter']['Encounter id'],\n",
    "            'Observation': value['Text'],\n",
    "            'Recorded': value['Recorded'],\n",
    "            'Value': value['Value'] if 'Value' in value else None,\n",
    "            'Units': value['Units'] if 'Value' in value else None\n",
    "        }\n",
    "        for key, value in visit_dict['Observation'].items()\n",
    "    ])\n",
    "    df_conditions_all = pd.concat([df_conditions_all, df_conditions])\n",
    "    df_observations_all = pd.concat([df_observations_all, df_observations])\n",
    "\n"
   ]
  },
  {
   "cell_type": "code",
   "execution_count": 31,
   "id": "5b729d23",
   "metadata": {},
   "outputs": [
    {
     "data": {
      "text/plain": [
       "7"
      ]
     },
     "execution_count": 31,
     "metadata": {},
     "output_type": "execute_result"
    }
   ],
   "source": [
    "df_observations_all.groupby('Encounter')['Observation'].value_counts()\n",
    "df_conditions_all['Encounter'].nunique()\n"
   ]
  },
  {
   "cell_type": "markdown",
   "id": "f01647ce",
   "metadata": {},
   "source": [
    "## Found a patient with a long visit"
   ]
  },
  {
   "cell_type": "code",
   "execution_count": 39,
   "id": "c881161d",
   "metadata": {},
   "outputs": [],
   "source": [
    "ex = \"urn:uuid:6ac2bf6b-6a8c-51e9-a2dd-30eb780264c5\"\n",
    "# ex = \"urn:uuid:4a72cfc5-8fff-d8bb-8f1f-35afd55f3a7e\"\n",
    "\n",
    "# see the encounter for this example, with a related observation which has been noted in the patient_dict\n",
    "# encounter_dict = patient_dict[ex][\"urn:uuid:4d563c2d-50f5-a4d8-800d-d9566445e53c\"]\n",
    "# encounter_dict['related_resources']['Observation']\n",
    "\n",
    "# see the same encounter in the long visits dict\n",
    "# print(long_visit_dict[ex]['Encounter'])\n",
    "\n",
    "# see the observations for this encounter, which have now been saved with the encounter\n",
    "# long_visit_dict[ex]['Observation']\n",
    "\n",
    "# print(long_visit_dict[ex].keys())#['Patient'])\n",
    "# print(long_visit_dict[ex]['Encounter'])\n",
    "# long_visit_dict[ex]['Observation']\n",
    "\n"
   ]
  },
  {
   "cell_type": "markdown",
   "id": "8a06bbeb",
   "metadata": {},
   "source": [
    "##  Creat output for ChatGPT"
   ]
  },
  {
   "cell_type": "code",
   "execution_count": 37,
   "id": "af6154ee",
   "metadata": {},
   "outputs": [
    {
     "name": "stdout",
     "output_type": "stream",
     "text": [
      "2015-09-01 06:14:08\n",
      "The patient has these disorders and symptons\n",
      "In the last 24 hours, the following observations have been recorded\n",
      "Oxygen saturation in Arterial blood: 85%; Recorded 2015-08-31T06:21:02+01:00\n",
      "Body Weight: 73.2kg; Recorded 2015-08-31T18:21:02+01:00\n",
      "NT-proBNP: 844.85pg/mL; Recorded 2015-08-31T18:21:02+01:00\n",
      "Leukocytes [#/volume] in Blood by Automated count: 9.195310*3/uL; Recorded 2015-08-31T18:21:02+01:00\n",
      "Erythrocytes [#/volume] in Blood by Automated count: 5.594510*6/uL; Recorded 2015-08-31T18:21:02+01:00\n",
      "Hemoglobin [Mass/volume] in Blood: 14.933g/dL; Recorded 2015-08-31T18:21:02+01:00\n",
      "Hematocrit [Volume Fraction] of Blood by Automated count: 36.452%; Recorded 2015-08-31T18:21:02+01:00\n",
      "MCV [Entitic volume] by Automated count: 90.192fL; Recorded 2015-08-31T18:21:02+01:00\n",
      "MCH [Entitic mass] by Automated count: 29.685pg; Recorded 2015-08-31T18:21:02+01:00\n",
      "MCHC [Mass/volume] by Automated count: 33.25g/dL; Recorded 2015-08-31T18:21:02+01:00\n",
      "Erythrocyte distribution width [Ratio] by Automated count: 14.542%; Recorded 2015-08-31T18:21:02+01:00\n",
      "Platelets [#/volume] in Blood by Automated count: 281.3610*3/uL; Recorded 2015-08-31T18:21:02+01:00\n",
      "Glucose [Mass/volume] in Serum or Plasma: 124.64mg/dL; Recorded 2015-08-31T18:21:02+01:00\n",
      "Urea nitrogen [Mass/volume] in Serum or Plasma: 17.27mg/dL; Recorded 2015-08-31T18:21:02+01:00\n",
      "Creatinine [Mass/volume] in Serum or Plasma: 2.23mg/dL; Recorded 2015-08-31T18:21:02+01:00\n",
      "Calcium [Mass/volume] in Serum or Plasma: 9.45mg/dL; Recorded 2015-08-31T18:21:02+01:00\n",
      "Sodium [Moles/volume] in Serum or Plasma: 137.53mmol/L; Recorded 2015-08-31T18:21:02+01:00\n",
      "Potassium [Moles/volume] in Serum or Plasma: 5.16mmol/L; Recorded 2015-08-31T18:21:02+01:00\n",
      "Chloride [Moles/volume] in Serum or Plasma: 105.06mmol/L; Recorded 2015-08-31T18:21:02+01:00\n",
      "Carbon dioxide, total [Moles/volume] in Serum or Plasma: 25.91mmol/L; Recorded 2015-08-31T18:21:02+01:00\n",
      "Glomerular filtration rate/1.73 sq M.predicted: 20.13mL/min; Recorded 2015-08-31T18:21:02+01:00\n",
      "Protein [Mass/volume] in Serum or Plasma: 7.1625g/dL; Recorded 2015-08-31T18:21:02+01:00\n",
      "Albumin [Mass/volume] in Serum or Plasma: 4.4141g/dL; Recorded 2015-08-31T18:21:02+01:00\n",
      "Bilirubin.total [Mass/volume] in Serum or Plasma: 0.84235mg/dL; Recorded 2015-08-31T18:21:02+01:00\n",
      "Alkaline phosphatase [Enzymatic activity/volume] in Serum or Plasma: 97.205U/L; Recorded 2015-08-31T18:21:02+01:00\n",
      "Alanine aminotransferase [Enzymatic activity/volume] in Serum or Plasma: 16.787U/L; Recorded 2015-08-31T18:21:02+01:00\n",
      "Aspartate aminotransferase [Enzymatic activity/volume] in Serum or Plasma: 25.981U/L; Recorded 2015-08-31T18:21:02+01:00\n",
      "Magnesium [Mass/volume] in Serum or Plasma: 1.7081mg/dL; Recorded 2015-08-31T18:21:02+01:00\n",
      "Total Cholesterol: 224.61mg/dL; Recorded 2015-08-31T18:21:02+01:00\n",
      "Triglycerides: 170.51mg/dL; Recorded 2015-08-31T18:21:02+01:00\n",
      "Low Density Lipoprotein Cholesterol: 143.03mg/dL; Recorded 2015-08-31T18:21:02+01:00\n",
      "High Density Lipoprotein Cholesterol: 47.48mg/dL; Recorded 2015-08-31T18:21:02+01:00\n",
      "Hemoglobin A1c/Hemoglobin.total in Blood: 6.94%; Recorded 2015-08-31T18:21:02+01:00\n",
      "Troponin I.cardiac [Mass/volume] in Serum or Plasma by High sensitivity method: 0.011802pg/mL; Recorded 2015-08-31T18:21:02+01:00\n",
      "Ferritin [Mass/volume] in Serum or Plasma: 125.43ug/L; Recorded 2015-08-31T18:21:02+01:00\n",
      "Iron [Mass/volume] in Serum or Plasma: 161.72ug/dL; Recorded 2015-08-31T18:21:02+01:00\n",
      "Iron binding capacity [Mass/volume] in Serum or Plasma: 277.39ug/dL; Recorded 2015-08-31T18:21:02+01:00\n",
      "Iron saturation [Mass Fraction] in Serum or Plasma: 25.247%; Recorded 2015-08-31T18:21:02+01:00\n"
     ]
    }
   ],
   "source": [
    "# First 24 hours\n",
    "\n",
    "moment = datetime.fromisoformat(long_visit_dict[ex]['Encounter']['Encounter Started']) + timedelta(days = 1)\n",
    "moment = moment.replace(tzinfo=None)  # Makes 'moment' naive by removing timezone information\n",
    "\n",
    "print(moment)\n",
    "long_visit_dict[ex]['Encounter']['Encounter id']\n",
    "long_visit_dict[ex]['Encounter']['Encounter Started']\n",
    "long_visit_dict[ex]['Encounter']['Type of admission']\n",
    "print(\"The patient has these disorders and symptons\")\n",
    "for key, value in long_visit_dict[ex]['Condition'].items():\n",
    "    if datetime.fromisoformat(value['First Recorded']).replace(tzinfo=None) <= moment:\n",
    "        print(value['Text'] + ': ' + 'First recorded ' + value['First Recorded'])\n",
    "        # print(value['First Recorded'])\n",
    "\n",
    "print('In the last 24 hours, the following observations have been recorded')\n",
    "for key, value in long_visit_dict[ex]['Observation'].items():\n",
    "    if datetime.fromisoformat(value['Recorded']).replace(tzinfo=None) <= moment:\n",
    "        if 'Value' in value:\n",
    "            print(value['Text'] + ': ' + str(value['Value']) + value['Units'] + '; Recorded ' + value['Recorded'])\n",
    "        else:\n",
    "            print(value['Text'] + '; Recorded ' + value['Recorded'])\n",
    "\n",
    "        # print(value['First Recorded'])     \n"
   ]
  },
  {
   "cell_type": "code",
   "execution_count": 38,
   "id": "02540937",
   "metadata": {},
   "outputs": [
    {
     "data": {
      "text/plain": [
       "{1: {'Text': 'Medication Reconciliation (procedure)',\n",
       "  'Started': '2015-08-31T06:14:08+01:00',\n",
       "  'Ended': '2015-08-31T06:29:08+01:00'},\n",
       " 2: {'Text': 'Electrocardiographic procedure',\n",
       "  'Started': '2015-08-31T06:14:08+01:00',\n",
       "  'Ended': '2015-08-31T06:21:02+01:00'},\n",
       " 3: {'Text': 'Oxygen administration by mask (procedure)',\n",
       "  'Started': '2015-08-31T06:21:02+01:00',\n",
       "  'Ended': '2015-08-31T06:36:02+01:00'},\n",
       " 4: {'Text': 'Placing subject in prone position (procedure)',\n",
       "  'Started': '2015-08-31T06:21:02+01:00',\n",
       "  'Ended': '2015-08-31T06:36:02+01:00'},\n",
       " 5: {'Text': 'Oxygen administration by mask (procedure)',\n",
       "  'Started': '2015-09-01T06:21:02+01:00',\n",
       "  'Ended': '2015-09-01T06:36:02+01:00'},\n",
       " 6: {'Text': 'Placing subject in prone position (procedure)',\n",
       "  'Started': '2015-09-01T06:21:02+01:00',\n",
       "  'Ended': '2015-09-01T06:36:02+01:00'},\n",
       " 7: {'Text': 'Oxygen administration by mask (procedure)',\n",
       "  'Started': '2015-09-02T06:21:02+01:00',\n",
       "  'Ended': '2015-09-02T06:36:02+01:00'},\n",
       " 8: {'Text': 'Placing subject in prone position (procedure)',\n",
       "  'Started': '2015-09-02T06:21:02+01:00',\n",
       "  'Ended': '2015-09-02T06:36:02+01:00'},\n",
       " 9: {'Text': 'Oxygen administration by mask (procedure)',\n",
       "  'Started': '2015-09-03T06:21:02+01:00',\n",
       "  'Ended': '2015-09-03T06:36:02+01:00'},\n",
       " 10: {'Text': 'Placing subject in prone position (procedure)',\n",
       "  'Started': '2015-09-03T06:21:02+01:00',\n",
       "  'Ended': '2015-09-03T06:36:02+01:00'},\n",
       " 11: {'Text': 'Oxygen administration by mask (procedure)',\n",
       "  'Started': '2015-09-04T06:21:02+01:00',\n",
       "  'Ended': '2015-09-04T06:36:02+01:00'},\n",
       " 12: {'Text': 'Placing subject in prone position (procedure)',\n",
       "  'Started': '2015-09-04T06:21:02+01:00',\n",
       "  'Ended': '2015-09-04T06:36:02+01:00'},\n",
       " 13: {'Text': 'Oxygen administration by mask (procedure)',\n",
       "  'Started': '2015-09-05T06:21:02+01:00',\n",
       "  'Ended': '2015-09-05T06:36:02+01:00'},\n",
       " 14: {'Text': 'Placing subject in prone position (procedure)',\n",
       "  'Started': '2015-09-05T06:21:02+01:00',\n",
       "  'Ended': '2015-09-05T06:36:02+01:00'},\n",
       " 15: {'Text': 'Oxygen administration by mask (procedure)',\n",
       "  'Started': '2015-09-06T06:21:02+01:00',\n",
       "  'Ended': '2015-09-06T06:36:02+01:00'},\n",
       " 16: {'Text': 'Placing subject in prone position (procedure)',\n",
       "  'Started': '2015-09-06T06:21:02+01:00',\n",
       "  'Ended': '2015-09-06T06:36:02+01:00'},\n",
       " 17: {'Text': 'Oxygen administration by mask (procedure)',\n",
       "  'Started': '2015-09-07T06:21:02+01:00',\n",
       "  'Ended': '2015-09-07T06:36:02+01:00'},\n",
       " 18: {'Text': 'Placing subject in prone position (procedure)',\n",
       "  'Started': '2015-09-07T06:21:02+01:00',\n",
       "  'Ended': '2015-09-07T06:36:02+01:00'},\n",
       " 19: {'Text': 'Oxygen administration by mask (procedure)',\n",
       "  'Started': '2015-09-08T06:21:02+01:00',\n",
       "  'Ended': '2015-09-08T06:36:02+01:00'},\n",
       " 20: {'Text': 'Placing subject in prone position (procedure)',\n",
       "  'Started': '2015-09-08T06:21:02+01:00',\n",
       "  'Ended': '2015-09-08T06:36:02+01:00'},\n",
       " 21: {'Text': 'Oxygen administration by mask (procedure)',\n",
       "  'Started': '2015-09-09T06:21:02+01:00',\n",
       "  'Ended': '2015-09-09T06:36:02+01:00'},\n",
       " 22: {'Text': 'Placing subject in prone position (procedure)',\n",
       "  'Started': '2015-09-09T06:21:02+01:00',\n",
       "  'Ended': '2015-09-09T06:36:02+01:00'},\n",
       " 23: {'Text': 'Oxygen administration by mask (procedure)',\n",
       "  'Started': '2015-09-10T06:21:02+01:00',\n",
       "  'Ended': '2015-09-10T06:36:02+01:00'},\n",
       " 24: {'Text': 'Placing subject in prone position (procedure)',\n",
       "  'Started': '2015-09-10T06:21:02+01:00',\n",
       "  'Ended': '2015-09-10T06:36:02+01:00'},\n",
       " 25: {'Text': 'Oxygen administration by mask (procedure)',\n",
       "  'Started': '2015-09-11T06:21:02+01:00',\n",
       "  'Ended': '2015-09-11T06:36:02+01:00'},\n",
       " 26: {'Text': 'Placing subject in prone position (procedure)',\n",
       "  'Started': '2015-09-11T06:21:02+01:00',\n",
       "  'Ended': '2015-09-11T06:36:02+01:00'},\n",
       " 27: {'Text': 'Oxygen administration by mask (procedure)',\n",
       "  'Started': '2015-09-12T06:21:02+01:00',\n",
       "  'Ended': '2015-09-12T06:36:02+01:00'},\n",
       " 28: {'Text': 'Placing subject in prone position (procedure)',\n",
       "  'Started': '2015-09-12T06:21:02+01:00',\n",
       "  'Ended': '2015-09-12T06:36:02+01:00'},\n",
       " 29: {'Text': 'Oxygen administration by mask (procedure)',\n",
       "  'Started': '2015-09-13T06:21:02+01:00',\n",
       "  'Ended': '2015-09-13T06:36:02+01:00'},\n",
       " 30: {'Text': 'Placing subject in prone position (procedure)',\n",
       "  'Started': '2015-09-13T06:21:02+01:00',\n",
       "  'Ended': '2015-09-13T06:36:02+01:00'},\n",
       " 31: {'Text': 'Oxygen administration by mask (procedure)',\n",
       "  'Started': '2015-09-14T06:21:02+01:00',\n",
       "  'Ended': '2015-09-14T06:36:02+01:00'},\n",
       " 32: {'Text': 'Placing subject in prone position (procedure)',\n",
       "  'Started': '2015-09-14T06:21:02+01:00',\n",
       "  'Ended': '2015-09-14T06:36:02+01:00'},\n",
       " 33: {'Text': 'Oxygen administration by mask (procedure)',\n",
       "  'Started': '2015-09-15T06:21:02+01:00',\n",
       "  'Ended': '2015-09-15T06:36:02+01:00'},\n",
       " 34: {'Text': 'Placing subject in prone position (procedure)',\n",
       "  'Started': '2015-09-15T06:21:02+01:00',\n",
       "  'Ended': '2015-09-15T06:36:02+01:00'},\n",
       " 35: {'Text': 'Oxygen administration by mask (procedure)',\n",
       "  'Started': '2015-09-16T06:21:02+01:00',\n",
       "  'Ended': '2015-09-16T06:36:02+01:00'},\n",
       " 36: {'Text': 'Placing subject in prone position (procedure)',\n",
       "  'Started': '2015-09-16T06:21:02+01:00',\n",
       "  'Ended': '2015-09-16T06:36:02+01:00'},\n",
       " 37: {'Text': 'Oxygen administration by mask (procedure)',\n",
       "  'Started': '2015-09-17T06:21:02+01:00',\n",
       "  'Ended': '2015-09-17T06:36:02+01:00'},\n",
       " 38: {'Text': 'Placing subject in prone position (procedure)',\n",
       "  'Started': '2015-09-17T06:21:02+01:00',\n",
       "  'Ended': '2015-09-17T06:36:02+01:00'},\n",
       " 39: {'Text': 'Oxygen administration by mask (procedure)',\n",
       "  'Started': '2015-09-18T06:21:02+01:00',\n",
       "  'Ended': '2015-09-18T06:36:02+01:00'},\n",
       " 40: {'Text': 'Placing subject in prone position (procedure)',\n",
       "  'Started': '2015-09-18T06:21:02+01:00',\n",
       "  'Ended': '2015-09-18T06:36:02+01:00'},\n",
       " 41: {'Text': 'Heart failure education (procedure)',\n",
       "  'Started': '2015-09-19T06:21:02+01:00',\n",
       "  'Ended': '2015-09-19T07:13:46+01:00'}}"
      ]
     },
     "execution_count": 38,
     "metadata": {},
     "output_type": "execute_result"
    }
   ],
   "source": [
    "long_visit_dict[ex]['Procedure']"
   ]
  },
  {
   "cell_type": "code",
   "execution_count": 18,
   "metadata": {},
   "outputs": [
    {
     "name": "stdout",
     "output_type": "stream",
     "text": [
      "2021-01-09 04:51:40\n",
      "The hospital visit began at: 2021-01-07 04:51:40 which is 2 day ago\n",
      "The type of admission is: Hospital admission for isolation (procedure)\n",
      "The patient has these disorders and symptons\n",
      "Pneumonia (disorder): First recorded 2021-01-07T05:34:26+00:00\n",
      "Hypoxemia (disorder): First recorded 2021-01-07T05:34:26+00:00\n",
      "Respiratory distress (finding): First recorded 2021-01-07T05:34:26+00:00\n",
      "Acute respiratory failure (disorder): First recorded 2021-01-07T05:34:26+00:00\n",
      "Sepsis caused by virus (disorder): First recorded 2021-01-07T05:34:26+00:00\n",
      "In the last 24 hours, the following observations have been recorded\n",
      "Body temperature: 38.903Cel; Recorded 2021-01-08T05:34:26+00:00\n",
      "Respiratory rate: 31.361/min; Recorded 2021-01-08T05:34:26+00:00\n",
      "Heart rate: 102.77/min; Recorded 2021-01-08T05:34:26+00:00\n",
      "Oxygen saturation in Arterial blood: 75.39%; Recorded 2021-01-08T05:34:26+00:00\n",
      "Blood Pressure; Recorded 2021-01-08T05:34:26+00:00\n",
      "Body Weight: 73.1kg; Recorded 2021-01-08T05:34:26+00:00\n",
      "Leukocytes [#/volume] in Blood by Automated count: 3.61910*3/uL; Recorded 2021-01-08T05:34:26+00:00\n",
      "Erythrocytes [#/volume] in Blood by Automated count: 3.849210*6/uL; Recorded 2021-01-08T05:34:26+00:00\n",
      "Hemoglobin [Mass/volume] in Blood: 13.685g/dL; Recorded 2021-01-08T05:34:26+00:00\n",
      "Hematocrit [Volume Fraction] of Blood by Automated count: 40.892%; Recorded 2021-01-08T05:34:26+00:00\n",
      "MCV [Entitic volume] by Automated count: 88.714fL; Recorded 2021-01-08T05:34:26+00:00\n",
      "MCH [Entitic mass] by Automated count: 31.847pg; Recorded 2021-01-08T05:34:26+00:00\n",
      "MCHC [Mass/volume] by Automated count: 31.848g/dL; Recorded 2021-01-08T05:34:26+00:00\n",
      "Erythrocyte distribution width [Ratio] by Automated count: 14.01%; Recorded 2021-01-08T05:34:26+00:00\n",
      "Platelets [#/volume] in Blood by Automated count: 144.310*3/uL; Recorded 2021-01-08T05:34:26+00:00\n",
      "Neutrophils/100 leukocytes in Blood by Automated count: 17.663%; Recorded 2021-01-08T05:34:26+00:00\n",
      "Lymphocytes/100 leukocytes in Blood by Automated count: 23.347%; Recorded 2021-01-08T05:34:26+00:00\n",
      "Monocytes/100 leukocytes in Blood by Automated count: 12.095%; Recorded 2021-01-08T05:34:26+00:00\n",
      "Eosinophils/100 leukocytes in Blood by Automated count: 5.4246%; Recorded 2021-01-08T05:34:26+00:00\n",
      "Basophils/100 leukocytes in Blood by Automated count: 3.0993%; Recorded 2021-01-08T05:34:26+00:00\n",
      "Neutrophils [#/volume] in Blood by Automated count: 3.683910*3/uL; Recorded 2021-01-08T05:34:26+00:00\n",
      "Lymphocytes [#/volume] in Blood by Automated count: 0.5568610*3/uL; Recorded 2021-01-08T05:34:26+00:00\n",
      "Monocytes [#/volume] in Blood by Automated count: 0.5369410*3/uL; Recorded 2021-01-08T05:34:26+00:00\n",
      "Eosinophils [#/volume] in Blood by Automated count: 0.4993310*3/uL; Recorded 2021-01-08T05:34:26+00:00\n",
      "Basophils [#/volume] in Blood by Automated count: 0.3964110*3/uL; Recorded 2021-01-08T05:34:26+00:00\n",
      "Glucose [Mass/volume] in Serum or Plasma: 149.62mg/dL; Recorded 2021-01-08T05:34:26+00:00\n",
      "Urea nitrogen [Mass/volume] in Serum or Plasma: 8.13mg/dL; Recorded 2021-01-08T05:34:26+00:00\n",
      "Creatinine [Mass/volume] in Serum or Plasma: 2.77mg/dL; Recorded 2021-01-08T05:34:26+00:00\n",
      "Calcium [Mass/volume] in Serum or Plasma: 9.32mg/dL; Recorded 2021-01-08T05:34:26+00:00\n",
      "Sodium [Moles/volume] in Serum or Plasma: 143.1mmol/L; Recorded 2021-01-08T05:34:26+00:00\n",
      "Potassium [Moles/volume] in Serum or Plasma: 4.81mmol/L; Recorded 2021-01-08T05:34:26+00:00\n",
      "Chloride [Moles/volume] in Serum or Plasma: 109.16mmol/L; Recorded 2021-01-08T05:34:26+00:00\n",
      "Carbon dioxide, total [Moles/volume] in Serum or Plasma: 24.82mmol/L; Recorded 2021-01-08T05:34:26+00:00\n",
      "Glomerular filtration rate/1.73 sq M.predicted: 11.658mL/min; Recorded 2021-01-08T05:34:26+00:00\n",
      "Protein [Mass/volume] in Serum or Plasma: 6.0428g/dL; Recorded 2021-01-08T05:34:26+00:00\n",
      "Albumin [Mass/volume] in Serum or Plasma: 5.0976g/dL; Recorded 2021-01-08T05:34:26+00:00\n",
      "Bilirubin.total [Mass/volume] in Serum or Plasma: 12.744mg/dL; Recorded 2021-01-08T05:34:26+00:00\n",
      "Alkaline phosphatase [Enzymatic activity/volume] in Serum or Plasma: 59.269U/L; Recorded 2021-01-08T05:34:26+00:00\n",
      "Alanine aminotransferase [Enzymatic activity/volume] in Serum or Plasma: 19.186U/L; Recorded 2021-01-08T05:34:26+00:00\n",
      "Aspartate aminotransferase [Enzymatic activity/volume] in Serum or Plasma: 6.5035U/L; Recorded 2021-01-08T05:34:26+00:00\n",
      "pH of Arterial blood: 6.8388[pH]; Recorded 2021-01-08T05:34:26+00:00\n",
      "Carbon dioxide [Partial pressure] in Arterial blood: 42.9mm[Hg]; Recorded 2021-01-08T05:34:26+00:00\n",
      "Oxygen [Partial pressure] in Arterial blood: 42.545mm[Hg]; Recorded 2021-01-08T05:34:26+00:00\n",
      "Bicarbonate [Moles/volume] in Arterial blood: 23.455mmol/L; Recorded 2021-01-08T05:34:26+00:00\n",
      "Oxygen saturation in Arterial blood: 76.69%; Recorded 2021-01-08T05:34:26+00:00\n",
      "Oxygen/Inspired gas setting [Volume Fraction] Ventilator: 52.64%; Recorded 2021-01-08T05:34:26+00:00\n"
     ]
    }
   ],
   "source": [
    "# Next 24 hours\n",
    "\n",
    "day_number = 2\n",
    "\n",
    "moment = datetime.fromisoformat(long_visit_dict[ex]['Encounter']['Encounter Started']) + timedelta(days = day_number)\n",
    "moment = moment.replace(tzinfo=None)  # Makes 'moment' naive by removing timezone information\n",
    "\n",
    "print(moment)\n",
    "long_visit_dict[ex]['Encounter']['Encounter id']\n",
    "print(\"The hospital visit began at: \" + long_visit_dict[ex]['Encounter']['Encounter Started'] + \" which is \" + str(day_number) + ' day ago')\n",
    "print(\"The type of admission is: \" + long_visit_dict[ex]['Encounter']['Type of admission'])\n",
    "print(\"The patient has these disorders and symptons\")\n",
    "for key, value in long_visit_dict[ex]['Condition'].items():\n",
    "    if datetime.fromisoformat(value['First Recorded']).replace(tzinfo=None) <= moment:\n",
    "        print(value['Text'] + ': ' + 'First recorded ' + value['First Recorded'])\n",
    "        # print(value['First Recorded'])\n",
    "\n",
    "print('In the last 24 hours, the following observations have been recorded')\n",
    "for key, value in long_visit_dict[ex]['Observation'].items():\n",
    "    if datetime.fromisoformat(value['Recorded']).replace(tzinfo=None) <= moment and datetime.fromisoformat(value['Recorded']).replace(tzinfo=None) > moment - timedelta(days = 1):\n",
    "        if 'Value' in value:\n",
    "            print(value['Text'] + ': ' + str(value['Value']) + value['Units'] + '; Recorded ' + value['Recorded'])\n",
    "        else:\n",
    "            print(value['Text'] + '; Recorded ' + value['Recorded'])\n",
    "\n",
    "        # print(value['First Recorded']) "
   ]
  },
  {
   "cell_type": "code",
   "execution_count": 40,
   "id": "43e7e91d",
   "metadata": {},
   "outputs": [],
   "source": [
    "# save to df\n",
    "\n",
    "# Conditions directly from long_visit_dict\n",
    "df_conditions = pd.DataFrame([\n",
    "    {'Condition': value['Text'], 'First Recorded': value['First Recorded']}\n",
    "    for key, value in long_visit_dict[ex]['Condition'].items()\n",
    "])\n",
    "\n",
    "df_conditions = pd.DataFrame([\n",
    "    {'Condition': value['Text'], 'First Recorded': value['First Recorded']}\n",
    "    for key, value in long_visit_dict[ex]['Condition'].items()\n",
    "])\n",
    "\n",
    "df_observations = pd.DataFrame([\n",
    "    {\n",
    "        'Observation': value['Text'],\n",
    "        'Recorded': value['Recorded'],\n",
    "        'Value': value['Value'] if 'Value' in value else None,\n",
    "        'Units': value['Units'] if 'Value' in value else None\n",
    "    }\n",
    "    for key, value in long_visit_dict[ex]['Observation'].items()\n",
    "])"
   ]
  },
  {
   "cell_type": "code",
   "execution_count": 49,
   "id": "f16316a7",
   "metadata": {},
   "outputs": [
    {
     "data": {
      "text/html": [
       "<div>\n",
       "<style scoped>\n",
       "    .dataframe tbody tr th:only-of-type {\n",
       "        vertical-align: middle;\n",
       "    }\n",
       "\n",
       "    .dataframe tbody tr th {\n",
       "        vertical-align: top;\n",
       "    }\n",
       "\n",
       "    .dataframe thead th {\n",
       "        text-align: right;\n",
       "    }\n",
       "</style>\n",
       "<table border=\"1\" class=\"dataframe\">\n",
       "  <thead>\n",
       "    <tr style=\"text-align: right;\">\n",
       "      <th></th>\n",
       "      <th>Observation</th>\n",
       "      <th>Recorded</th>\n",
       "      <th>Value</th>\n",
       "      <th>Units</th>\n",
       "    </tr>\n",
       "  </thead>\n",
       "  <tbody>\n",
       "    <tr>\n",
       "      <th>3</th>\n",
       "      <td>Oxygen saturation in Arterial blood</td>\n",
       "      <td>2021-01-07 05:34:26+00:00</td>\n",
       "      <td>82.39</td>\n",
       "      <td>%</td>\n",
       "    </tr>\n",
       "    <tr>\n",
       "      <th>44</th>\n",
       "      <td>Oxygen saturation in Arterial blood</td>\n",
       "      <td>2021-01-07 05:34:26+00:00</td>\n",
       "      <td>86.01</td>\n",
       "      <td>%</td>\n",
       "    </tr>\n",
       "    <tr>\n",
       "      <th>58</th>\n",
       "      <td>Oxygen saturation in Arterial blood</td>\n",
       "      <td>2021-01-08 05:34:26+00:00</td>\n",
       "      <td>75.39</td>\n",
       "      <td>%</td>\n",
       "    </tr>\n",
       "    <tr>\n",
       "      <th>99</th>\n",
       "      <td>Oxygen saturation in Arterial blood</td>\n",
       "      <td>2021-01-08 05:34:26+00:00</td>\n",
       "      <td>76.69</td>\n",
       "      <td>%</td>\n",
       "    </tr>\n",
       "    <tr>\n",
       "      <th>104</th>\n",
       "      <td>Oxygen saturation in Arterial blood</td>\n",
       "      <td>2021-01-09 05:34:26+00:00</td>\n",
       "      <td>82.57</td>\n",
       "      <td>%</td>\n",
       "    </tr>\n",
       "    <tr>\n",
       "      <th>145</th>\n",
       "      <td>Oxygen saturation in Arterial blood</td>\n",
       "      <td>2021-01-09 05:34:26+00:00</td>\n",
       "      <td>78.92</td>\n",
       "      <td>%</td>\n",
       "    </tr>\n",
       "    <tr>\n",
       "      <th>159</th>\n",
       "      <td>Oxygen saturation in Arterial blood</td>\n",
       "      <td>2021-01-10 05:34:26+00:00</td>\n",
       "      <td>75.32</td>\n",
       "      <td>%</td>\n",
       "    </tr>\n",
       "    <tr>\n",
       "      <th>200</th>\n",
       "      <td>Oxygen saturation in Arterial blood</td>\n",
       "      <td>2021-01-10 05:34:26+00:00</td>\n",
       "      <td>75.45</td>\n",
       "      <td>%</td>\n",
       "    </tr>\n",
       "    <tr>\n",
       "      <th>205</th>\n",
       "      <td>Oxygen saturation in Arterial blood</td>\n",
       "      <td>2021-01-11 05:34:26+00:00</td>\n",
       "      <td>88.82</td>\n",
       "      <td>%</td>\n",
       "    </tr>\n",
       "    <tr>\n",
       "      <th>246</th>\n",
       "      <td>Oxygen saturation in Arterial blood</td>\n",
       "      <td>2021-01-11 05:34:26+00:00</td>\n",
       "      <td>80.35</td>\n",
       "      <td>%</td>\n",
       "    </tr>\n",
       "    <tr>\n",
       "      <th>260</th>\n",
       "      <td>Oxygen saturation in Arterial blood</td>\n",
       "      <td>2021-01-12 05:34:26+00:00</td>\n",
       "      <td>81.52</td>\n",
       "      <td>%</td>\n",
       "    </tr>\n",
       "    <tr>\n",
       "      <th>301</th>\n",
       "      <td>Oxygen saturation in Arterial blood</td>\n",
       "      <td>2021-01-12 05:34:26+00:00</td>\n",
       "      <td>76.61</td>\n",
       "      <td>%</td>\n",
       "    </tr>\n",
       "  </tbody>\n",
       "</table>\n",
       "</div>"
      ],
      "text/plain": [
       "                             Observation                  Recorded  Value  \\\n",
       "3    Oxygen saturation in Arterial blood 2021-01-07 05:34:26+00:00  82.39   \n",
       "44   Oxygen saturation in Arterial blood 2021-01-07 05:34:26+00:00  86.01   \n",
       "58   Oxygen saturation in Arterial blood 2021-01-08 05:34:26+00:00  75.39   \n",
       "99   Oxygen saturation in Arterial blood 2021-01-08 05:34:26+00:00  76.69   \n",
       "104  Oxygen saturation in Arterial blood 2021-01-09 05:34:26+00:00  82.57   \n",
       "145  Oxygen saturation in Arterial blood 2021-01-09 05:34:26+00:00  78.92   \n",
       "159  Oxygen saturation in Arterial blood 2021-01-10 05:34:26+00:00  75.32   \n",
       "200  Oxygen saturation in Arterial blood 2021-01-10 05:34:26+00:00  75.45   \n",
       "205  Oxygen saturation in Arterial blood 2021-01-11 05:34:26+00:00  88.82   \n",
       "246  Oxygen saturation in Arterial blood 2021-01-11 05:34:26+00:00  80.35   \n",
       "260  Oxygen saturation in Arterial blood 2021-01-12 05:34:26+00:00  81.52   \n",
       "301  Oxygen saturation in Arterial blood 2021-01-12 05:34:26+00:00  76.61   \n",
       "\n",
       "    Units  \n",
       "3       %  \n",
       "44      %  \n",
       "58      %  \n",
       "99      %  \n",
       "104     %  \n",
       "145     %  \n",
       "159     %  \n",
       "200     %  \n",
       "205     %  \n",
       "246     %  \n",
       "260     %  \n",
       "301     %  "
      ]
     },
     "execution_count": 49,
     "metadata": {},
     "output_type": "execute_result"
    }
   ],
   "source": [
    "df[df.Observation == 'Oxygen saturation in Arterial blood']"
   ]
  },
  {
   "cell_type": "code",
   "execution_count": 63,
   "id": "0d81a6e1",
   "metadata": {},
   "outputs": [
    {
     "data": {
      "text/plain": [
       "0    2021-01-07 05:34:26+00:00\n",
       "1    2021-01-07 05:34:26+00:00\n",
       "3    2021-01-07 05:34:26+00:00\n",
       "44   2021-01-07 05:34:26+00:00\n",
       "55   2021-01-08 05:34:26+00:00\n",
       "Name: Recorded, dtype: datetime64[ns, UTC]"
      ]
     },
     "execution_count": 63,
     "metadata": {},
     "output_type": "execute_result"
    }
   ],
   "source": [
    "df.Recorded.head()"
   ]
  },
  {
   "cell_type": "code",
   "execution_count": 71,
   "id": "d980e6e2",
   "metadata": {},
   "outputs": [
    {
     "name": "stderr",
     "output_type": "stream",
     "text": [
      "/var/folders/lr/pm79dxzs0v70y4gz98dl13440000gn/T/ipykernel_5686/2409443359.py:9: SettingWithCopyWarning: \n",
      "A value is trying to be set on a copy of a slice from a DataFrame.\n",
      "Try using .loc[row_indexer,col_indexer] = value instead\n",
      "\n",
      "See the caveats in the documentation: https://pandas.pydata.org/pandas-docs/stable/user_guide/indexing.html#returning-a-view-versus-a-copy\n",
      "  df['Recorded'] = df['Recorded'].astype(str).str[0:16].str.replace('T', ' ')\n"
     ]
    },
    {
     "data": {
      "image/png": "[encoded data removed]",
      "text/plain": [
       "<Figure size 1000x900 with 3 Axes>"
      ]
     },
     "metadata": {},
     "output_type": "display_data"
    }
   ],
   "source": [
    "import matplotlib.pyplot as plt\n",
    "import matplotlib.dates as mdates\n",
    "\n",
    "# df = df_observations[df_observations.Observation.isin(['Oxygen saturation in Arterial blood', 'Total Cholesterol'])]#'Body temperature', 'Respiratory rate'])]\n",
    "df = df_observations[df_observations.Observation.isin(['Oxygen saturation in Arterial blood', 'Body temperature', 'Respiratory rate'])]\n",
    "\n",
    "# Convert the 'Recorded' column to datetime\n",
    "# df['Recorded'] = pd.to_datetime(df['Recorded'], utc=True)\n",
    "df['Recorded'] = df['Recorded'].astype(str).str[0:16].str.replace('T', ' ')\n",
    "\n",
    "# Group by 'Observation'\n",
    "grouped = df.groupby('Observation')\n",
    "\n",
    "# Number of rows for subplots\n",
    "num_rows = len(grouped)\n",
    "\n",
    "# Create subplots\n",
    "fig, axes = plt.subplots(num_rows, 1, figsize=(10, num_rows * 3), sharex=True)\n",
    "\n",
    "# Iterate over each group and plot\n",
    "for (name, group), ax in zip(grouped, axes):\n",
    "    ax.plot(group['Recorded'], group['Value'], marker='o')\n",
    "    ax.set_title(name)\n",
    "    # ax.xaxis.set_major_formatter(mdates.DateFormatter('%Y-%m-%d %H:%M:%S'))\n",
    "    ax.set_ylabel('Value')\n",
    "\n",
    "plt.tight_layout()\n",
    "plt.show()"
   ]
  },
  {
   "cell_type": "code",
   "execution_count": null,
   "id": "1620315e",
   "metadata": {},
   "outputs": [],
   "source": [
    "filesList = os.listdir('/kaggle/input/fhir-1ksample/fhir')\n"
   ]
  },
  {
   "cell_type": "code",
   "execution_count": 52,
   "id": "915f9829",
   "metadata": {},
   "outputs": [
    {
     "ename": "ValidationError",
     "evalue": "120 validation errors for Bundle\nentry -> 1 -> resource -> address\n  extra fields not permitted (type=value_error.extra)\nentry -> 1 -> resource -> telecom\n  extra fields not permitted (type=value_error.extra)\nentry -> 3 -> resource -> class\n  value is not a valid list (type=type_error.list)\nentry -> 3 -> resource -> participant -> 0 -> individual\n  extra fields not permitted (type=value_error.extra)\nentry -> 3 -> resource -> period\n  extra fields not permitted (type=value_error.extra)\nentry -> 5 -> resource -> participant -> 0 -> role -> __root__\n  Value is expected from the instance of <class 'fhir.resources.codeableconcept.CodeableConcept'>, but got type <class 'list'> (type=value_error)\nentry -> 5 -> resource -> participant -> 1 -> role -> __root__\n  Value is expected from the instance of <class 'fhir.resources.codeableconcept.CodeableConcept'>, but got type <class 'list'> (type=value_error)\nentry -> 5 -> resource -> participant -> 2 -> role -> __root__\n  Value is expected from the instance of <class 'fhir.resources.codeableconcept.CodeableConcept'>, but got type <class 'list'> (type=value_error)\nentry -> 5 -> resource -> encounter\n  extra fields not permitted (type=value_error.extra)\nentry -> 5 -> resource -> reasonCode\n  extra fields not permitted (type=value_error.extra)\nentry -> 8 -> resource -> activity -> 0 -> detail\n  extra fields not permitted (type=value_error.extra)\nentry -> 8 -> resource -> activity -> 1 -> detail\n  extra fields not permitted (type=value_error.extra)\nentry -> 8 -> resource -> activity -> 2 -> detail\n  extra fields not permitted (type=value_error.extra)\nentry -> 8 -> resource -> activity -> 3 -> detail\n  extra fields not permitted (type=value_error.extra)\nentry -> 8 -> resource -> addresses -> 0 -> reference -> __root__\n  Invalid json str value has been provided for class <class 'fhir.resources.reference.Reference'> (type=value_error)\nentry -> 10 -> resource -> contained -> 1 -> __root__ -> kind\n  field required (type=value_error.missing)\nentry -> 11 -> resource -> address\n  extra fields not permitted (type=value_error.extra)\nentry -> 11 -> resource -> telecom\n  extra fields not permitted (type=value_error.extra)\nentry -> 13 -> resource -> class\n  value is not a valid list (type=type_error.list)\nentry -> 13 -> resource -> participant -> 0 -> individual\n  extra fields not permitted (type=value_error.extra)\nentry -> 13 -> resource -> period\n  extra fields not permitted (type=value_error.extra)\nentry -> 14 -> resource -> medication\n  field required (type=value_error.missing)\nentry -> 14 -> resource -> medicationCodeableConcept\n  extra fields not permitted (type=value_error.extra)\nentry -> 14 -> resource -> reasonReference\n  extra fields not permitted (type=value_error.extra)\nentry -> 17 -> resource -> contained -> 1 -> __root__ -> kind\n  field required (type=value_error.missing)\nentry -> 18 -> resource -> class\n  value is not a valid list (type=type_error.list)\nentry -> 18 -> resource -> participant -> 0 -> individual\n  extra fields not permitted (type=value_error.extra)\nentry -> 18 -> resource -> period\n  extra fields not permitted (type=value_error.extra)\nentry -> 21 -> resource -> participant -> 0 -> role -> __root__\n  Value is expected from the instance of <class 'fhir.resources.codeableconcept.CodeableConcept'>, but got type <class 'list'> (type=value_error)\nentry -> 21 -> resource -> participant -> 1 -> role -> __root__\n  Value is expected from the instance of <class 'fhir.resources.codeableconcept.CodeableConcept'>, but got type <class 'list'> (type=value_error)\nentry -> 21 -> resource -> participant -> 2 -> role -> __root__\n  Value is expected from the instance of <class 'fhir.resources.codeableconcept.CodeableConcept'>, but got type <class 'list'> (type=value_error)\nentry -> 21 -> resource -> encounter\n  extra fields not permitted (type=value_error.extra)\nentry -> 21 -> resource -> reasonCode\n  extra fields not permitted (type=value_error.extra)\nentry -> 27 -> resource -> activity -> 0 -> detail\n  extra fields not permitted (type=value_error.extra)\nentry -> 27 -> resource -> activity -> 1 -> detail\n  extra fields not permitted (type=value_error.extra)\nentry -> 27 -> resource -> addresses -> 0 -> reference -> __root__\n  Invalid json str value has been provided for class <class 'fhir.resources.reference.Reference'> (type=value_error)\nentry -> 29 -> resource -> contained -> 1 -> __root__ -> kind\n  field required (type=value_error.missing)\nentry -> 30 -> resource -> class\n  value is not a valid list (type=type_error.list)\nentry -> 30 -> resource -> participant -> 0 -> individual\n  extra fields not permitted (type=value_error.extra)\nentry -> 30 -> resource -> period\n  extra fields not permitted (type=value_error.extra)\nentry -> 30 -> resource -> reasonCode\n  extra fields not permitted (type=value_error.extra)\nentry -> 33 -> resource -> contained -> 1 -> __root__ -> kind\n  field required (type=value_error.missing)\nentry -> 34 -> resource -> class\n  value is not a valid list (type=type_error.list)\nentry -> 34 -> resource -> participant -> 0 -> individual\n  extra fields not permitted (type=value_error.extra)\nentry -> 34 -> resource -> period\n  extra fields not permitted (type=value_error.extra)\nentry -> 34 -> resource -> reasonCode\n  extra fields not permitted (type=value_error.extra)\nentry -> 36 -> resource -> medication\n  field required (type=value_error.missing)\nentry -> 36 -> resource -> medicationCodeableConcept\n  extra fields not permitted (type=value_error.extra)\nentry -> 36 -> resource -> reasonReference\n  extra fields not permitted (type=value_error.extra)\nentry -> 38 -> resource -> participant -> 0 -> role -> __root__\n  Value is expected from the instance of <class 'fhir.resources.codeableconcept.CodeableConcept'>, but got type <class 'list'> (type=value_error)\nentry -> 38 -> resource -> participant -> 1 -> role -> __root__\n  Value is expected from the instance of <class 'fhir.resources.codeableconcept.CodeableConcept'>, but got type <class 'list'> (type=value_error)\nentry -> 38 -> resource -> participant -> 2 -> role -> __root__\n  Value is expected from the instance of <class 'fhir.resources.codeableconcept.CodeableConcept'>, but got type <class 'list'> (type=value_error)\nentry -> 38 -> resource -> encounter\n  extra fields not permitted (type=value_error.extra)\nentry -> 38 -> resource -> reasonCode\n  extra fields not permitted (type=value_error.extra)\nentry -> 39 -> resource -> activity -> 0 -> detail\n  extra fields not permitted (type=value_error.extra)\nentry -> 39 -> resource -> activity -> 1 -> detail\n  extra fields not permitted (type=value_error.extra)\nentry -> 39 -> resource -> addresses -> 0 -> reference -> __root__\n  Invalid json str value has been provided for class <class 'fhir.resources.reference.Reference'> (type=value_error)\nentry -> 41 -> resource -> contained -> 1 -> __root__ -> kind\n  field required (type=value_error.missing)\nentry -> 42 -> resource -> class\n  value is not a valid list (type=type_error.list)\nentry -> 42 -> resource -> participant -> 0 -> individual\n  extra fields not permitted (type=value_error.extra)\nentry -> 42 -> resource -> period\n  extra fields not permitted (type=value_error.extra)\nentry -> 58 -> resource -> performedPeriod\n  extra fields not permitted (type=value_error.extra)\nentry -> 62 -> resource -> contained -> 1 -> __root__ -> kind\n  field required (type=value_error.missing)\nentry -> 63 -> resource -> class\n  value is not a valid list (type=type_error.list)\nentry -> 63 -> resource -> participant -> 0 -> individual\n  extra fields not permitted (type=value_error.extra)\nentry -> 63 -> resource -> period\n  extra fields not permitted (type=value_error.extra)\nentry -> 88 -> resource -> contained -> 1 -> __root__ -> kind\n  field required (type=value_error.missing)\nentry -> 89 -> resource -> class\n  value is not a valid list (type=type_error.list)\nentry -> 89 -> resource -> participant -> 0 -> individual\n  extra fields not permitted (type=value_error.extra)\nentry -> 89 -> resource -> period\n  extra fields not permitted (type=value_error.extra)\nentry -> 89 -> resource -> reasonCode\n  extra fields not permitted (type=value_error.extra)\nentry -> 92 -> resource -> contained -> 1 -> __root__ -> kind\n  field required (type=value_error.missing)\nentry -> 93 -> resource -> class\n  value is not a valid list (type=type_error.list)\nentry -> 93 -> resource -> participant -> 0 -> individual\n  extra fields not permitted (type=value_error.extra)\nentry -> 93 -> resource -> period\n  extra fields not permitted (type=value_error.extra)\nentry -> 109 -> resource -> performedPeriod\n  extra fields not permitted (type=value_error.extra)\nentry -> 114 -> resource -> contained -> 1 -> __root__ -> kind\n  field required (type=value_error.missing)\nentry -> 115 -> resource -> class\n  value is not a valid list (type=type_error.list)\nentry -> 115 -> resource -> participant -> 0 -> individual\n  extra fields not permitted (type=value_error.extra)\nentry -> 115 -> resource -> period\n  extra fields not permitted (type=value_error.extra)\nentry -> 142 -> resource -> performedPeriod\n  extra fields not permitted (type=value_error.extra)\nentry -> 147 -> resource -> contained -> 1 -> __root__ -> kind\n  field required (type=value_error.missing)\nentry -> 148 -> resource -> class\n  value is not a valid list (type=type_error.list)\nentry -> 148 -> resource -> participant -> 0 -> individual\n  extra fields not permitted (type=value_error.extra)\nentry -> 148 -> resource -> period\n  extra fields not permitted (type=value_error.extra)\nentry -> 168 -> resource -> performedPeriod\n  extra fields not permitted (type=value_error.extra)\nentry -> 173 -> resource -> contained -> 1 -> __root__ -> kind\n  field required (type=value_error.missing)\nentry -> 174 -> resource -> class\n  value is not a valid list (type=type_error.list)\nentry -> 174 -> resource -> participant -> 0 -> individual\n  extra fields not permitted (type=value_error.extra)\nentry -> 174 -> resource -> period\n  extra fields not permitted (type=value_error.extra)\nentry -> 193 -> resource -> contained -> 1 -> __root__ -> kind\n  field required (type=value_error.missing)\nentry -> 194 -> resource -> class\n  value is not a valid list (type=type_error.list)\nentry -> 194 -> resource -> participant -> 0 -> individual\n  extra fields not permitted (type=value_error.extra)\nentry -> 194 -> resource -> period\n  extra fields not permitted (type=value_error.extra)\nentry -> 210 -> resource -> performedPeriod\n  extra fields not permitted (type=value_error.extra)\nentry -> 214 -> resource -> contained -> 1 -> __root__ -> kind\n  field required (type=value_error.missing)\nentry -> 215 -> resource -> class\n  value is not a valid list (type=type_error.list)\nentry -> 215 -> resource -> participant -> 0 -> individual\n  extra fields not permitted (type=value_error.extra)\nentry -> 215 -> resource -> period\n  extra fields not permitted (type=value_error.extra)\nentry -> 240 -> resource -> contained -> 1 -> __root__ -> kind\n  field required (type=value_error.missing)\nentry -> 241 -> resource -> class\n  value is not a valid list (type=type_error.list)\nentry -> 241 -> resource -> participant -> 0 -> individual\n  extra fields not permitted (type=value_error.extra)\nentry -> 241 -> resource -> period\n  extra fields not permitted (type=value_error.extra)\nentry -> 241 -> resource -> reasonCode\n  extra fields not permitted (type=value_error.extra)\nentry -> 244 -> resource -> contained -> 1 -> __root__ -> kind\n  field required (type=value_error.missing)\nentry -> 245 -> resource -> class\n  value is not a valid list (type=type_error.list)\nentry -> 245 -> resource -> participant -> 0 -> individual\n  extra fields not permitted (type=value_error.extra)\nentry -> 245 -> resource -> period\n  extra fields not permitted (type=value_error.extra)\nentry -> 245 -> resource -> reasonCode\n  extra fields not permitted (type=value_error.extra)\nentry -> 248 -> resource -> contained -> 1 -> __root__ -> kind\n  field required (type=value_error.missing)\nentry -> 249 -> resource -> class\n  value is not a valid list (type=type_error.list)\nentry -> 249 -> resource -> participant -> 0 -> individual\n  extra fields not permitted (type=value_error.extra)\nentry -> 249 -> resource -> period\n  extra fields not permitted (type=value_error.extra)\nentry -> 276 -> resource -> performedPeriod\n  extra fields not permitted (type=value_error.extra)\nentry -> 281 -> resource -> contained -> 1 -> __root__ -> kind\n  field required (type=value_error.missing)\nentry -> 282 -> resource -> class\n  value is not a valid list (type=type_error.list)\nentry -> 282 -> resource -> participant -> 0 -> individual\n  extra fields not permitted (type=value_error.extra)\nentry -> 282 -> resource -> period\n  extra fields not permitted (type=value_error.extra)\nentry -> 298 -> resource -> performedPeriod\n  extra fields not permitted (type=value_error.extra)\nentry -> 302 -> resource -> contained -> 1 -> __root__ -> kind\n  field required (type=value_error.missing)",
     "output_type": "error",
     "traceback": [
      "\u001b[0;31m---------------------------------------------------------------------------\u001b[0m",
      "\u001b[0;31mValidationError\u001b[0m                           Traceback (most recent call last)",
      "Cell \u001b[0;32mIn[52], line 12\u001b[0m\n\u001b[1;32m      9\u001b[0m f \u001b[38;5;241m=\u001b[39m \u001b[38;5;28mopen\u001b[39m(\u001b[38;5;124m'\u001b[39m\u001b[38;5;124m../../synthetic-clinical-notes/data_store/fhir-1ksample/\u001b[39m\u001b[38;5;124m'\u001b[39m \u001b[38;5;241m+\u001b[39mfiles_list[\u001b[38;5;241m0\u001b[39m],)\n\u001b[1;32m     10\u001b[0m json_obj \u001b[38;5;241m=\u001b[39m json\u001b[38;5;241m.\u001b[39mload(f)\n\u001b[0;32m---> 12\u001b[0m oneBundle \u001b[38;5;241m=\u001b[39m \u001b[43mBundle\u001b[49m\u001b[38;5;241;43m.\u001b[39;49m\u001b[43mparse_obj\u001b[49m\u001b[43m(\u001b[49m\u001b[43mjson_obj\u001b[49m\u001b[43m)\u001b[49m\n",
      "File \u001b[0;32m~/Repos/privfp-poc-zk/env-privfp/lib/python3.11/site-packages/pydantic/v1/main.py:526\u001b[0m, in \u001b[0;36mBaseModel.parse_obj\u001b[0;34m(cls, obj)\u001b[0m\n\u001b[1;32m    524\u001b[0m         exc \u001b[38;5;241m=\u001b[39m \u001b[38;5;167;01mTypeError\u001b[39;00m(\u001b[38;5;124mf\u001b[39m\u001b[38;5;124m'\u001b[39m\u001b[38;5;132;01m{\u001b[39;00m\u001b[38;5;28mcls\u001b[39m\u001b[38;5;241m.\u001b[39m\u001b[38;5;18m__name__\u001b[39m\u001b[38;5;132;01m}\u001b[39;00m\u001b[38;5;124m expected dict not \u001b[39m\u001b[38;5;132;01m{\u001b[39;00mobj\u001b[38;5;241m.\u001b[39m\u001b[38;5;18m__class__\u001b[39m\u001b[38;5;241m.\u001b[39m\u001b[38;5;18m__name__\u001b[39m\u001b[38;5;132;01m}\u001b[39;00m\u001b[38;5;124m'\u001b[39m)\n\u001b[1;32m    525\u001b[0m         \u001b[38;5;28;01mraise\u001b[39;00m ValidationError([ErrorWrapper(exc, loc\u001b[38;5;241m=\u001b[39mROOT_KEY)], \u001b[38;5;28mcls\u001b[39m) \u001b[38;5;28;01mfrom\u001b[39;00m \u001b[38;5;21;01me\u001b[39;00m\n\u001b[0;32m--> 526\u001b[0m \u001b[38;5;28;01mreturn\u001b[39;00m \u001b[38;5;28;43mcls\u001b[39;49m\u001b[43m(\u001b[49m\u001b[38;5;241;43m*\u001b[39;49m\u001b[38;5;241;43m*\u001b[39;49m\u001b[43mobj\u001b[49m\u001b[43m)\u001b[49m\n",
      "File \u001b[0;32m~/Repos/privfp-poc-zk/env-privfp/lib/python3.11/site-packages/fhir/resources/core/fhirabstractmodel.py:105\u001b[0m, in \u001b[0;36mFHIRAbstractModel.__init__\u001b[0;34m(__pydantic_self__, **data)\u001b[0m\n\u001b[1;32m    102\u001b[0m \u001b[38;5;28;01mif\u001b[39;00m errors:\n\u001b[1;32m    103\u001b[0m     \u001b[38;5;28;01mraise\u001b[39;00m ValidationError(errors, __pydantic_self__\u001b[38;5;241m.\u001b[39m\u001b[38;5;18m__class__\u001b[39m)\n\u001b[0;32m--> 105\u001b[0m \u001b[43mBaseModel\u001b[49m\u001b[38;5;241;43m.\u001b[39;49m\u001b[38;5;21;43m__init__\u001b[39;49m\u001b[43m(\u001b[49m\u001b[43m__pydantic_self__\u001b[49m\u001b[43m,\u001b[49m\u001b[43m \u001b[49m\u001b[38;5;241;43m*\u001b[39;49m\u001b[38;5;241;43m*\u001b[39;49m\u001b[43mdata\u001b[49m\u001b[43m)\u001b[49m\n",
      "File \u001b[0;32m~/Repos/privfp-poc-zk/env-privfp/lib/python3.11/site-packages/pydantic/v1/main.py:341\u001b[0m, in \u001b[0;36mBaseModel.__init__\u001b[0;34m(__pydantic_self__, **data)\u001b[0m\n\u001b[1;32m    339\u001b[0m values, fields_set, validation_error \u001b[38;5;241m=\u001b[39m validate_model(__pydantic_self__\u001b[38;5;241m.\u001b[39m\u001b[38;5;18m__class__\u001b[39m, data)\n\u001b[1;32m    340\u001b[0m \u001b[38;5;28;01mif\u001b[39;00m validation_error:\n\u001b[0;32m--> 341\u001b[0m     \u001b[38;5;28;01mraise\u001b[39;00m validation_error\n\u001b[1;32m    342\u001b[0m \u001b[38;5;28;01mtry\u001b[39;00m:\n\u001b[1;32m    343\u001b[0m     object_setattr(__pydantic_self__, \u001b[38;5;124m'\u001b[39m\u001b[38;5;124m__dict__\u001b[39m\u001b[38;5;124m'\u001b[39m, values)\n",
      "\u001b[0;31mValidationError\u001b[0m: 120 validation errors for Bundle\nentry -> 1 -> resource -> address\n  extra fields not permitted (type=value_error.extra)\nentry -> 1 -> resource -> telecom\n  extra fields not permitted (type=value_error.extra)\nentry -> 3 -> resource -> class\n  value is not a valid list (type=type_error.list)\nentry -> 3 -> resource -> participant -> 0 -> individual\n  extra fields not permitted (type=value_error.extra)\nentry -> 3 -> resource -> period\n  extra fields not permitted (type=value_error.extra)\nentry -> 5 -> resource -> participant -> 0 -> role -> __root__\n  Value is expected from the instance of <class 'fhir.resources.codeableconcept.CodeableConcept'>, but got type <class 'list'> (type=value_error)\nentry -> 5 -> resource -> participant -> 1 -> role -> __root__\n  Value is expected from the instance of <class 'fhir.resources.codeableconcept.CodeableConcept'>, but got type <class 'list'> (type=value_error)\nentry -> 5 -> resource -> participant -> 2 -> role -> __root__\n  Value is expected from the instance of <class 'fhir.resources.codeableconcept.CodeableConcept'>, but got type <class 'list'> (type=value_error)\nentry -> 5 -> resource -> encounter\n  extra fields not permitted (type=value_error.extra)\nentry -> 5 -> resource -> reasonCode\n  extra fields not permitted (type=value_error.extra)\nentry -> 8 -> resource -> activity -> 0 -> detail\n  extra fields not permitted (type=value_error.extra)\nentry -> 8 -> resource -> activity -> 1 -> detail\n  extra fields not permitted (type=value_error.extra)\nentry -> 8 -> resource -> activity -> 2 -> detail\n  extra fields not permitted (type=value_error.extra)\nentry -> 8 -> resource -> activity -> 3 -> detail\n  extra fields not permitted (type=value_error.extra)\nentry -> 8 -> resource -> addresses -> 0 -> reference -> __root__\n  Invalid json str value has been provided for class <class 'fhir.resources.reference.Reference'> (type=value_error)\nentry -> 10 -> resource -> contained -> 1 -> __root__ -> kind\n  field required (type=value_error.missing)\nentry -> 11 -> resource -> address\n  extra fields not permitted (type=value_error.extra)\nentry -> 11 -> resource -> telecom\n  extra fields not permitted (type=value_error.extra)\nentry -> 13 -> resource -> class\n  value is not a valid list (type=type_error.list)\nentry -> 13 -> resource -> participant -> 0 -> individual\n  extra fields not permitted (type=value_error.extra)\nentry -> 13 -> resource -> period\n  extra fields not permitted (type=value_error.extra)\nentry -> 14 -> resource -> medication\n  field required (type=value_error.missing)\nentry -> 14 -> resource -> medicationCodeableConcept\n  extra fields not permitted (type=value_error.extra)\nentry -> 14 -> resource -> reasonReference\n  extra fields not permitted (type=value_error.extra)\nentry -> 17 -> resource -> contained -> 1 -> __root__ -> kind\n  field required (type=value_error.missing)\nentry -> 18 -> resource -> class\n  value is not a valid list (type=type_error.list)\nentry -> 18 -> resource -> participant -> 0 -> individual\n  extra fields not permitted (type=value_error.extra)\nentry -> 18 -> resource -> period\n  extra fields not permitted (type=value_error.extra)\nentry -> 21 -> resource -> participant -> 0 -> role -> __root__\n  Value is expected from the instance of <class 'fhir.resources.codeableconcept.CodeableConcept'>, but got type <class 'list'> (type=value_error)\nentry -> 21 -> resource -> participant -> 1 -> role -> __root__\n  Value is expected from the instance of <class 'fhir.resources.codeableconcept.CodeableConcept'>, but got type <class 'list'> (type=value_error)\nentry -> 21 -> resource -> participant -> 2 -> role -> __root__\n  Value is expected from the instance of <class 'fhir.resources.codeableconcept.CodeableConcept'>, but got type <class 'list'> (type=value_error)\nentry -> 21 -> resource -> encounter\n  extra fields not permitted (type=value_error.extra)\nentry -> 21 -> resource -> reasonCode\n  extra fields not permitted (type=value_error.extra)\nentry -> 27 -> resource -> activity -> 0 -> detail\n  extra fields not permitted (type=value_error.extra)\nentry -> 27 -> resource -> activity -> 1 -> detail\n  extra fields not permitted (type=value_error.extra)\nentry -> 27 -> resource -> addresses -> 0 -> reference -> __root__\n  Invalid json str value has been provided for class <class 'fhir.resources.reference.Reference'> (type=value_error)\nentry -> 29 -> resource -> contained -> 1 -> __root__ -> kind\n  field required (type=value_error.missing)\nentry -> 30 -> resource -> class\n  value is not a valid list (type=type_error.list)\nentry -> 30 -> resource -> participant -> 0 -> individual\n  extra fields not permitted (type=value_error.extra)\nentry -> 30 -> resource -> period\n  extra fields not permitted (type=value_error.extra)\nentry -> 30 -> resource -> reasonCode\n  extra fields not permitted (type=value_error.extra)\nentry -> 33 -> resource -> contained -> 1 -> __root__ -> kind\n  field required (type=value_error.missing)\nentry -> 34 -> resource -> class\n  value is not a valid list (type=type_error.list)\nentry -> 34 -> resource -> participant -> 0 -> individual\n  extra fields not permitted (type=value_error.extra)\nentry -> 34 -> resource -> period\n  extra fields not permitted (type=value_error.extra)\nentry -> 34 -> resource -> reasonCode\n  extra fields not permitted (type=value_error.extra)\nentry -> 36 -> resource -> medication\n  field required (type=value_error.missing)\nentry -> 36 -> resource -> medicationCodeableConcept\n  extra fields not permitted (type=value_error.extra)\nentry -> 36 -> resource -> reasonReference\n  extra fields not permitted (type=value_error.extra)\nentry -> 38 -> resource -> participant -> 0 -> role -> __root__\n  Value is expected from the instance of <class 'fhir.resources.codeableconcept.CodeableConcept'>, but got type <class 'list'> (type=value_error)\nentry -> 38 -> resource -> participant -> 1 -> role -> __root__\n  Value is expected from the instance of <class 'fhir.resources.codeableconcept.CodeableConcept'>, but got type <class 'list'> (type=value_error)\nentry -> 38 -> resource -> participant -> 2 -> role -> __root__\n  Value is expected from the instance of <class 'fhir.resources.codeableconcept.CodeableConcept'>, but got type <class 'list'> (type=value_error)\nentry -> 38 -> resource -> encounter\n  extra fields not permitted (type=value_error.extra)\nentry -> 38 -> resource -> reasonCode\n  extra fields not permitted (type=value_error.extra)\nentry -> 39 -> resource -> activity -> 0 -> detail\n  extra fields not permitted (type=value_error.extra)\nentry -> 39 -> resource -> activity -> 1 -> detail\n  extra fields not permitted (type=value_error.extra)\nentry -> 39 -> resource -> addresses -> 0 -> reference -> __root__\n  Invalid json str value has been provided for class <class 'fhir.resources.reference.Reference'> (type=value_error)\nentry -> 41 -> resource -> contained -> 1 -> __root__ -> kind\n  field required (type=value_error.missing)\nentry -> 42 -> resource -> class\n  value is not a valid list (type=type_error.list)\nentry -> 42 -> resource -> participant -> 0 -> individual\n  extra fields not permitted (type=value_error.extra)\nentry -> 42 -> resource -> period\n  extra fields not permitted (type=value_error.extra)\nentry -> 58 -> resource -> performedPeriod\n  extra fields not permitted (type=value_error.extra)\nentry -> 62 -> resource -> contained -> 1 -> __root__ -> kind\n  field required (type=value_error.missing)\nentry -> 63 -> resource -> class\n  value is not a valid list (type=type_error.list)\nentry -> 63 -> resource -> participant -> 0 -> individual\n  extra fields not permitted (type=value_error.extra)\nentry -> 63 -> resource -> period\n  extra fields not permitted (type=value_error.extra)\nentry -> 88 -> resource -> contained -> 1 -> __root__ -> kind\n  field required (type=value_error.missing)\nentry -> 89 -> resource -> class\n  value is not a valid list (type=type_error.list)\nentry -> 89 -> resource -> participant -> 0 -> individual\n  extra fields not permitted (type=value_error.extra)\nentry -> 89 -> resource -> period\n  extra fields not permitted (type=value_error.extra)\nentry -> 89 -> resource -> reasonCode\n  extra fields not permitted (type=value_error.extra)\nentry -> 92 -> resource -> contained -> 1 -> __root__ -> kind\n  field required (type=value_error.missing)\nentry -> 93 -> resource -> class\n  value is not a valid list (type=type_error.list)\nentry -> 93 -> resource -> participant -> 0 -> individual\n  extra fields not permitted (type=value_error.extra)\nentry -> 93 -> resource -> period\n  extra fields not permitted (type=value_error.extra)\nentry -> 109 -> resource -> performedPeriod\n  extra fields not permitted (type=value_error.extra)\nentry -> 114 -> resource -> contained -> 1 -> __root__ -> kind\n  field required (type=value_error.missing)\nentry -> 115 -> resource -> class\n  value is not a valid list (type=type_error.list)\nentry -> 115 -> resource -> participant -> 0 -> individual\n  extra fields not permitted (type=value_error.extra)\nentry -> 115 -> resource -> period\n  extra fields not permitted (type=value_error.extra)\nentry -> 142 -> resource -> performedPeriod\n  extra fields not permitted (type=value_error.extra)\nentry -> 147 -> resource -> contained -> 1 -> __root__ -> kind\n  field required (type=value_error.missing)\nentry -> 148 -> resource -> class\n  value is not a valid list (type=type_error.list)\nentry -> 148 -> resource -> participant -> 0 -> individual\n  extra fields not permitted (type=value_error.extra)\nentry -> 148 -> resource -> period\n  extra fields not permitted (type=value_error.extra)\nentry -> 168 -> resource -> performedPeriod\n  extra fields not permitted (type=value_error.extra)\nentry -> 173 -> resource -> contained -> 1 -> __root__ -> kind\n  field required (type=value_error.missing)\nentry -> 174 -> resource -> class\n  value is not a valid list (type=type_error.list)\nentry -> 174 -> resource -> participant -> 0 -> individual\n  extra fields not permitted (type=value_error.extra)\nentry -> 174 -> resource -> period\n  extra fields not permitted (type=value_error.extra)\nentry -> 193 -> resource -> contained -> 1 -> __root__ -> kind\n  field required (type=value_error.missing)\nentry -> 194 -> resource -> class\n  value is not a valid list (type=type_error.list)\nentry -> 194 -> resource -> participant -> 0 -> individual\n  extra fields not permitted (type=value_error.extra)\nentry -> 194 -> resource -> period\n  extra fields not permitted (type=value_error.extra)\nentry -> 210 -> resource -> performedPeriod\n  extra fields not permitted (type=value_error.extra)\nentry -> 214 -> resource -> contained -> 1 -> __root__ -> kind\n  field required (type=value_error.missing)\nentry -> 215 -> resource -> class\n  value is not a valid list (type=type_error.list)\nentry -> 215 -> resource -> participant -> 0 -> individual\n  extra fields not permitted (type=value_error.extra)\nentry -> 215 -> resource -> period\n  extra fields not permitted (type=value_error.extra)\nentry -> 240 -> resource -> contained -> 1 -> __root__ -> kind\n  field required (type=value_error.missing)\nentry -> 241 -> resource -> class\n  value is not a valid list (type=type_error.list)\nentry -> 241 -> resource -> participant -> 0 -> individual\n  extra fields not permitted (type=value_error.extra)\nentry -> 241 -> resource -> period\n  extra fields not permitted (type=value_error.extra)\nentry -> 241 -> resource -> reasonCode\n  extra fields not permitted (type=value_error.extra)\nentry -> 244 -> resource -> contained -> 1 -> __root__ -> kind\n  field required (type=value_error.missing)\nentry -> 245 -> resource -> class\n  value is not a valid list (type=type_error.list)\nentry -> 245 -> resource -> participant -> 0 -> individual\n  extra fields not permitted (type=value_error.extra)\nentry -> 245 -> resource -> period\n  extra fields not permitted (type=value_error.extra)\nentry -> 245 -> resource -> reasonCode\n  extra fields not permitted (type=value_error.extra)\nentry -> 248 -> resource -> contained -> 1 -> __root__ -> kind\n  field required (type=value_error.missing)\nentry -> 249 -> resource -> class\n  value is not a valid list (type=type_error.list)\nentry -> 249 -> resource -> participant -> 0 -> individual\n  extra fields not permitted (type=value_error.extra)\nentry -> 249 -> resource -> period\n  extra fields not permitted (type=value_error.extra)\nentry -> 276 -> resource -> performedPeriod\n  extra fields not permitted (type=value_error.extra)\nentry -> 281 -> resource -> contained -> 1 -> __root__ -> kind\n  field required (type=value_error.missing)\nentry -> 282 -> resource -> class\n  value is not a valid list (type=type_error.list)\nentry -> 282 -> resource -> participant -> 0 -> individual\n  extra fields not permitted (type=value_error.extra)\nentry -> 282 -> resource -> period\n  extra fields not permitted (type=value_error.extra)\nentry -> 298 -> resource -> performedPeriod\n  extra fields not permitted (type=value_error.extra)\nentry -> 302 -> resource -> contained -> 1 -> __root__ -> kind\n  field required (type=value_error.missing)"
     ]
    }
   ],
   "source": [
    "# https://www.kaggle.com/code/drscarlat/fhir-starter-parse-healthcare-bundles-into-tables\n",
    "files_list = os.listdir('../../synthetic-clinical-notes/data_store/fhir-1ksample')\n",
    "\n",
    "# !pip install fhir.resources\n",
    "\n",
    "from fhir.resources.bundle import Bundle\n",
    "\n",
    "\n",
    "f = open('../../synthetic-clinical-notes/data_store/fhir-1ksample/' +files_list[0],)\n",
    "json_obj = json.load(f)\n",
    "\n",
    "oneBundle = Bundle.parse_obj(json_obj)"
   ]
  },
  {
   "cell_type": "code",
   "execution_count": 48,
   "id": "ecb4836f",
   "metadata": {},
   "outputs": [
    {
     "data": {
      "text/plain": [
       "'Robert854_Botsford977_148ad83c-4dbc-4cb6-9334-44e6886f1e42.json'"
      ]
     },
     "execution_count": 48,
     "metadata": {},
     "output_type": "execute_result"
    }
   ],
   "source": [
    "files_list[0]"
   ]
  },
  {
   "cell_type": "code",
   "execution_count": 49,
   "id": "560a8164",
   "metadata": {},
   "outputs": [
    {
     "data": {
      "text/plain": [
       "['A&E Synethetic Data', '.DS_Store', 'fhir-1ksample', 'coherent-11-07-2022']"
      ]
     },
     "execution_count": 49,
     "metadata": {},
     "output_type": "execute_result"
    }
   ],
   "source": [
    "os.listdir('../../synthetic-clinical-notes/data_store/')"
   ]
  },
  {
   "cell_type": "code",
   "execution_count": null,
   "id": "736d7e40",
   "metadata": {},
   "outputs": [],
   "source": []
  }
 ],
 "metadata": {
  "kernelspec": {
   "display_name": "Python 3 (ipykernel)",
   "language": "python",
   "name": "python3"
  },
  "language_info": {
   "codemirror_mode": {
    "name": "ipython",
    "version": 3
   },
   "file_extension": ".py",
   "mimetype": "text/x-python",
   "name": "python",
   "nbconvert_exporter": "python",
   "pygments_lexer": "ipython3",
   "version": "3.11.4"
  }
 },
 "nbformat": 4,
 "nbformat_minor": 5
}
