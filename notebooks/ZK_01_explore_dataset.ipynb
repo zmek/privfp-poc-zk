{
 "cells": [
  {
   "cell_type": "markdown",
   "id": "ef2742aa",
   "metadata": {},
   "source": [
    "# 02 - Generating Dataset 1\n",
    "\n",
    "The purpose of this notebook is to explore the dataset created by [02_generate_dataset.ipynb](02_generate_dataset.ipynb)"
   ]
  },
  {
   "cell_type": "code",
   "execution_count": 2,
   "id": "532cfcf6",
   "metadata": {},
   "outputs": [],
   "source": [
    "# Reload functions every time\n",
    "%load_ext autoreload \n",
    "%autoreload 2"
   ]
  },
  {
   "cell_type": "code",
   "execution_count": 3,
   "id": "c0d258c8",
   "metadata": {},
   "outputs": [],
   "source": [
    "import json\n",
    "import os\n",
    "import sys\n",
    "\n",
    "# This will add the src directory to sys.path\n",
    "# meaning that the privacy_fingerprint will be found\n",
    "# note it assumes the current working directory is the folder containing this notebook\n",
    "sys.path.append(os.path.abspath(os.path.join(os.getcwd(), os.pardir))+'/src')"
   ]
  },
  {
   "cell_type": "code",
   "execution_count": 8,
   "id": "d506cec1",
   "metadata": {},
   "outputs": [],
   "source": [
    "# The Synthea output was saved to a directory\n",
    "output_dir = \"../experiments/02_generate_dataset\"\n",
    "os.makedirs(output_dir, exist_ok=True)\n",
    "export_directory = os.path.join(output_dir, \"synthea\")"
   ]
  },
  {
   "cell_type": "markdown",
   "metadata": {},
   "source": [
    "## Load the data and explore"
   ]
  },
  {
   "cell_type": "markdown",
   "id": "e2adfdb8",
   "metadata": {},
   "source": [
    "The Synthea dataset only saves records of the type specified in expt_config.synthea.encounter_type at the time the experiment was run. Not that useful here"
   ]
  },
  {
   "cell_type": "code",
   "execution_count": 10,
   "id": "c4f7c37e",
   "metadata": {},
   "outputs": [
    {
     "data": {
      "text/plain": [
       "44"
      ]
     },
     "execution_count": 10,
     "metadata": {},
     "output_type": "execute_result"
    }
   ],
   "source": [
    "\n",
    "with open(os.path.join(output_dir, \"synthea_dataset.json\")) as fp:\n",
    "    synthea_records = json.load(fp)\n",
    "\n",
    "len(synthea_records)"
   ]
  },
  {
   "cell_type": "code",
   "execution_count": 156,
   "metadata": {},
   "outputs": [],
   "source": [
    "import pandas as pd\n",
    "enc = pd.read_csv('../experiments/02_generate_dataset/synthea/csv/encounters.csv')\n",
    "pat = pd.read_csv('../experiments/02_generate_dataset/synthea/csv/patients.csv')\n",
    "cond = pd.read_csv('../experiments/02_generate_dataset/synthea/csv/conditions.csv')\n",
    "med = pd.read_csv('../experiments/02_generate_dataset/synthea/csv/medications.csv')\n",
    "proc = pd.read_csv('../experiments/02_generate_dataset/synthea/csv/procedures.csv')"
   ]
  },
  {
   "cell_type": "code",
   "execution_count": 22,
   "metadata": {},
   "outputs": [
    {
     "name": "stdout",
     "output_type": "stream",
     "text": [
      "Number of unique patients with hospital inpatient\n",
      "41\n"
     ]
    },
    {
     "data": {
      "text/plain": [
       "DESCRIPTION\n",
       "Drug rehabilitation and detoxification                 41\n",
       "Admission to intensive care unit (procedure)           13\n",
       "Hospital admission (procedure)                          9\n",
       "Encounter for problem (procedure)                       6\n",
       "Admission to ward (procedure)                           5\n",
       "Admission to surgical department                        3\n",
       "Hospital admission for isolation (procedure)            3\n",
       "Patient transfer to intensive care unit (procedure)     2\n",
       "Admission to thoracic surgery department                2\n",
       "Non-urgent orthopedic admission                         2\n",
       "Follow-up visit (procedure)                             2\n",
       "Encounter for problem                                   2\n",
       "Encounter Inpatient                                     1\n",
       "Hospital admission  for observation (procedure)         1\n",
       "Name: count, dtype: int64"
      ]
     },
     "execution_count": 22,
     "metadata": {},
     "output_type": "execute_result"
    }
   ],
   "source": [
    "print(\"Number of unique patients with hospital inpatient\")\n",
    "print(len(enc[enc.ENCOUNTERCLASS == 'inpatient']['PATIENT'].unique()))\n",
    "enc[enc.ENCOUNTERCLASS == 'inpatient']['DESCRIPTION'].value_counts()"
   ]
  },
  {
   "cell_type": "code",
   "execution_count": 31,
   "metadata": {},
   "outputs": [
    {
     "name": "stdout",
     "output_type": "stream",
     "text": [
      "41\n"
     ]
    }
   ],
   "source": [
    "files_to_process = []\n",
    "unique_pats_with_inpatient_visit = enc[enc.ENCOUNTERCLASS == 'inpatient']['PATIENT'].unique()\n",
    "print(len(unique_pats_with_inpatient_visit))\n",
    "\n",
    "for patient_id in unique_pats_with_inpatient_visit:\n",
    "    for file_name in os.listdir('../experiments/02_generate_dataset/synthea/fhir'):\n",
    "        if patient_id in file_name:\n",
    "            files_to_process.append(file_name)\n",
    "\n",
    "            \n",
    "\n"
   ]
  },
  {
   "cell_type": "code",
   "execution_count": 158,
   "metadata": {},
   "outputs": [
    {
     "name": "stdout",
     "output_type": "stream",
     "text": [
      "18\n"
     ]
    }
   ],
   "source": [
    "# Convert START and STOP to datetime\n",
    "enc['START'] = pd.to_datetime(enc['START'])\n",
    "enc['STOP'] = pd.to_datetime(enc['STOP'])\n",
    "\n",
    "# Calculate time difference\n",
    "enc['DURATION'] = enc['STOP'] - enc['START']\n",
    "\n",
    "long_visits = enc.sort_values('DURATION', ascending=False).head(20)['PATIENT'].unique()\n",
    "\n",
    "files_to_process = []\n",
    "\n",
    "for patient_id in long_visits:\n",
    "    for file_name in os.listdir('../experiments/02_generate_dataset/synthea/fhir'):\n",
    "        if patient_id in file_name:\n",
    "            files_to_process.append(file_name)\n",
    "\n",
    "print(len(files_to_process))\n"
   ]
  },
  {
   "cell_type": "code",
   "execution_count": 35,
   "metadata": {},
   "outputs": [
    {
     "name": "stdout",
     "output_type": "stream",
     "text": [
      "112\n"
     ]
    },
    {
     "data": {
      "text/plain": [
       "DESCRIPTION\n",
       "Asthma follow-up                                       27\n",
       "Follow-up encounter (procedure)                        24\n",
       "Emergency Room Admission                               20\n",
       "Emergency Encounter                                    16\n",
       "Encounter for symptom (procedure)                      14\n",
       "Death Certification                                    12\n",
       "Admission to skilled nursing facility (procedure)      12\n",
       "Admission to ward (procedure)                          10\n",
       "Emergency hospital admission for asthma                10\n",
       "Admission to hospice (procedure)                       10\n",
       "Hospital admission (procedure)                          8\n",
       "Patient-initiated encounter                             7\n",
       "Patient transfer to intensive care unit (procedure)     6\n",
       "Encounter Inpatient                                     5\n",
       "Hospital admission for isolation (procedure)            2\n",
       "Allergic disorder initial assessment                    2\n",
       "Non-urgent orthopedic admission                         1\n",
       "Allergic disorder follow-up assessment                  1\n",
       "Encounter for Problem                                   1\n",
       "Admission to intensive care unit (procedure)            1\n",
       "Name: count, dtype: int64"
      ]
     },
     "execution_count": 35,
     "metadata": {},
     "output_type": "execute_result"
    }
   ],
   "source": [
    "# Could also include these\n",
    "\n",
    "# files = os.listdir('../experiments/02_generate_dataset_inpatients/synthea/fhir/')\n",
    "# print(len(files))\n",
    "# import pandas as pd\n",
    "# enc = pd.read_csv('../experiments/02_generate_dataset_inpatients/synthea/csv/encounters.csv')\n",
    "# enc.DESCRIPTION.value_counts().tail(20)\n"
   ]
  },
  {
   "cell_type": "code",
   "execution_count": 36,
   "metadata": {},
   "outputs": [
    {
     "data": {
      "text/plain": [
       "['.DS_Store',\n",
       " 'synthea_dataset.json',\n",
       " 'synthea_dataset_inpatient.json',\n",
       " 'synthea']"
      ]
     },
     "execution_count": 36,
     "metadata": {},
     "output_type": "execute_result"
    }
   ],
   "source": [
    "os.listdir(output_dir)"
   ]
  },
  {
   "cell_type": "code",
   "execution_count": 34,
   "metadata": {},
   "outputs": [
    {
     "name": "stdout",
     "output_type": "stream",
     "text": [
      "Parthenia862_Cole117_de4da970-92c4-0296-0b6c-7d960667d075.json\n"
     ]
    }
   ],
   "source": [
    "for filename in files[0:1]:\n",
    "    print(filename)"
   ]
  },
  {
   "cell_type": "code",
   "execution_count": 159,
   "metadata": {},
   "outputs": [
    {
     "name": "stdout",
     "output_type": "stream",
     "text": [
      "Margeret29_Hauck852_811ef822-fab7-3f91-35dd-106227ca25c1.json\n",
      "Linn541_Elly836_Kunze215_eb8e5426-96a8-b166-8db2-6fb3d39740c7.json\n",
      "Porsche32_Sherlyn657_Lesch175_89031c6f-9efc-31a5-5aa8-3d658d47a080.json\n",
      "Nida800_Zoe32_Kshlerin58_269a888e-f74a-9fcd-0287-3127ac54e1d7.json\n",
      "Shizuko29_Morar593_aa6ebc6d-72ae-e38c-9f8b-2e0c6af1b6f8.json\n",
      "Parker433_Ullrich385_0c338433-4b52-8489-5f8e-1683ee2d1bb0.json\n",
      "Vonnie403_Streich926_f83ba5f7-5e69-3b27-4b62-b5630c59db34.json\n",
      "Verda448_Balistreri607_6ac2bf6b-6a8c-51e9-a2dd-30eb780264c5.json\n",
      "Noelia656_Dee580_Rempel203_826ab6b8-9b5e-736e-5271-bd33861cc870.json\n",
      "Dennis979_Johnna810_Hackett68_4a72cfc5-8fff-d8bb-8f1f-35afd55f3a7e.json\n",
      "Alva958_Kautzer186_bbbb5bdf-8479-fc9b-48fa-19bf05e7ec85.json\n",
      "Rigoberto443_Schiller186_0a5b0da7-e9fd-e875-469f-d9cd14eaf993.json\n",
      "Carolynn568_Genoveva361_Farrell962_5d47bff4-b399-e39a-7564-6e98135929b9.json\n",
      "Erik495_Corwin846_90ac42bc-cd64-0c37-600c-6484a0a0d01f.json\n",
      "Lela622_Tressa150_Prosacco716_d98e862f-e3b0-9a56-25df-f1843cea8f8d.json\n",
      "Rebeca548_Star250_Jones311_87495c35-77bb-9426-67d9-db97fe9c036c.json\n",
      "Albert312_Kautzer186_307cac3e-ffdd-b0bb-bf94-979f13d748e3.json\n",
      "Rodrick370_West559_43dfe830-5af7-2baf-a37d-a48d0161d1e2.json\n"
     ]
    }
   ],
   "source": [
    "patient_dict = {}\n",
    "\n",
    "for filename in files_to_process:\n",
    "\n",
    "    encounter_dict = {}\n",
    "    other_resources = {'Condition': [], 'Procedure': [], 'Observation': [], 'Medication': []}\n",
    "\n",
    "    with open(output_dir + '/synthea/fhir/' + filename) as f:\n",
    "        data = json.load(f)\n",
    "\n",
    "    print(filename)\n",
    "    records_dict = {}\n",
    "\n",
    "    for entry in data['entry']:\n",
    "        full_url = entry['fullUrl']\n",
    "        resource = entry['resource']\n",
    "        records_dict[full_url] = resource\n",
    "\n",
    "    for id, resource in records_dict.items():\n",
    "\n",
    "        if resource['resourceType'] == 'Patient':\n",
    "            patient_id = id\n",
    "\n",
    "        elif resource['resourceType'] == 'Encounter':\n",
    "            encounter_dict[id] = resource\n",
    "            encounter_dict[id]['related_resources'] = {'Condition': [], 'Procedure': [], 'Observation': [], 'Medication': []}\n",
    "            encounter_dict[id]['encounter_type'] = resource['type'][0]['text']\n",
    "        \n",
    "        else: \n",
    "            # save ids of other resources types, to iterate through later\n",
    "            resource_type = resource['resourceType']\n",
    "            if resource_type in other_resources:\n",
    "                other_resources[resource_type].append(id)\n",
    "\n",
    "\n",
    "    for resource_type, ids in other_resources.items():\n",
    "        for other_ in ids:\n",
    "            related_encounter = records_dict[other_]['encounter']['reference']\n",
    "            if other_ not in encounter_dict[related_encounter]['related_resources'][resource_type]:\n",
    "                encounter_dict[related_encounter]['related_resources'][resource_type].append(records_dict[other_])\n",
    "\n",
    "\n",
    "\n",
    "    patient_dict[patient_id] = encounter_dict\n"
   ]
  },
  {
   "cell_type": "code",
   "execution_count": 205,
   "metadata": {},
   "outputs": [
    {
     "name": "stdout",
     "output_type": "stream",
     "text": [
      "36 days, 0:15:00\n",
      "27 days, 18:41:24\n",
      "29 days, 0:00:00\n",
      "27 days, 0:15:00\n",
      "26 days, 0:15:00\n",
      "25 days, 0:00:00\n",
      "6 days, 0:00:00\n",
      "5 days, 7:34:46\n",
      "5 days, 0:00:00\n",
      "19 days, 0:59:38\n",
      "19 days, 0:15:00\n",
      "19 days, 0:00:00\n",
      "1 day, 0:55:13\n",
      "6 days, 0:00:00\n",
      "2 days, 13:00:00\n",
      "9 days, 18:07:30\n",
      "1 day, 0:41:48\n",
      "15 days, 0:15:00\n"
     ]
    }
   ],
   "source": [
    "## Note - I started trying to parse the the data and then thought there was surely a library! However, I have not succeeded with fhir.resources\n",
    "\n",
    "from datetime import datetime, timedelta\n",
    "\n",
    "extracted_data = {\n",
    "    \"Encounters\": [],\n",
    "    \"Conditions\": [],\n",
    "    \"Procedures\": []\n",
    "}\n",
    "\n",
    "long_visit_dict = {}\n",
    "\n",
    "\n",
    "for pat_id, encounter_dict in patient_dict.items():\n",
    "\n",
    "    for id, resource in encounter_dict.items(): \n",
    "        # encounter_dict[list(encounter_dict.keys())[0]].keys()#['related_resources']\n",
    "        # if 'admission' in resource['encounter_type']:\n",
    "            # print(value['type'][0]['text'])\n",
    "            # print(resource.keys())\n",
    "\n",
    "        text_dict = {\n",
    "            \"Patient id\": pat_id,\n",
    "            \"Encounter id\": id,\n",
    "            \"Encounter Started\": datetime.fromisoformat(resource['period']['start']).strftime('%Y-%m-%d %H:%M:%S'),\n",
    "            \"Encounter Ended\": datetime.fromisoformat(resource['period']['end']).strftime('%Y-%m-%d %H:%M:%S'),\n",
    "            \"Encounter Duration\": datetime.fromisoformat(resource['period']['end']) - \n",
    "                datetime.fromisoformat(resource['period']['start']),\n",
    "            \"Hospital Staff\": ', '.join([p['individual']['display'] for p in resource['participant']]),\n",
    "            \"Type of admission\": resource['type'][0]['text']\n",
    "        }\n",
    "\n",
    "        for key, linked_resource in resource['related_resources'].items():\n",
    "            if linked_resource:\n",
    "                for item in linked_resource:\n",
    "                    if item['resourceType'] == 'Condition':\n",
    "                        text_dict[\"Condition\"] = item['code']['text']\n",
    "                        text_dict[\"Condition First Recorded\"] = item['onsetDateTime']\n",
    "                        if 'abatementDateTime' in item:\n",
    "                            text_dict[\"Condition Resolved\"] = item['abatementDateTime']\n",
    "\n",
    "                    if item['resourceType'] == 'Procedure':\n",
    "                        # print(item)\n",
    "                        text_dict[\"Procedure\"] = item['code']['text']\n",
    "                        text_dict[\"Procedure Started\"] = item['performedPeriod']['start']\n",
    "                        text_dict[\"Procedure Ended\"] = item['performedPeriod']['end']\n",
    "                        \n",
    "\n",
    "        extracted_data[\"Encounters\"].append(text_dict)\n",
    "\n",
    "        if text_dict[\"Encounter Duration\"] > timedelta(days=1):\n",
    "            long_visit_dict[text_dict['Patient id']] = text_dict\n",
    "\n",
    "\n",
    "\n",
    "\n",
    "# Processing the data with the new format\n",
    "\n",
    "\n",
    "for id, text_dict in long_visit_dict.items():\n",
    "    print(text_dict[\"Encounter Duration\"])\n"
   ]
  },
  {
   "cell_type": "code",
   "execution_count": 206,
   "metadata": {},
   "outputs": [
    {
     "data": {
      "text/plain": [
       "{'urn:uuid:811ef822-fab7-3f91-35dd-106227ca25c1': {'Patient id': 'urn:uuid:811ef822-fab7-3f91-35dd-106227ca25c1',\n",
       "  'Encounter id': 'urn:uuid:ff4668b4-92d0-53a6-4fa2-534e7bfc1edc',\n",
       "  'Encounter Started': '2022-05-20 19:37:52',\n",
       "  'Encounter Ended': '2022-06-25 19:52:52',\n",
       "  'Encounter Duration': 3111300.0,\n",
       "  'Hospital Staff': 'Dr. Delcie812 Casper496',\n",
       "  'Type of admission': 'Admission to skilled nursing facility (procedure)',\n",
       "  'Procedure': 'Discharge from skilled nursing facility (procedure)',\n",
       "  'Procedure Started': '2022-06-25T19:37:52+01:00',\n",
       "  'Procedure Ended': '2022-06-25T19:52:52+01:00'},\n",
       " 'urn:uuid:eb8e5426-96a8-b166-8db2-6fb3d39740c7': {'Patient id': 'urn:uuid:eb8e5426-96a8-b166-8db2-6fb3d39740c7',\n",
       "  'Encounter id': 'urn:uuid:febc613a-4fa4-9164-a9da-dc9495e24b0d',\n",
       "  'Encounter Started': '2020-12-20 01:49:13',\n",
       "  'Encounter Ended': '2021-01-16 20:30:37',\n",
       "  'Encounter Duration': 2400084.0,\n",
       "  'Hospital Staff': 'Dr. Lavon272 Erdman779',\n",
       "  'Type of admission': 'Encounter for problem (procedure)',\n",
       "  'Condition': 'Abnormal findings diagnostic imaging heart+coronary circulat (finding)',\n",
       "  'Condition First Recorded': '2020-12-20T03:41:42+00:00',\n",
       "  'Procedure': 'Referral to cardiac surgery service (procedure)',\n",
       "  'Procedure Started': '2020-12-20T07:26:42+00:00',\n",
       "  'Procedure Ended': '2020-12-20T07:38:28+00:00'},\n",
       " 'urn:uuid:89031c6f-9efc-31a5-5aa8-3d658d47a080': {'Patient id': 'urn:uuid:89031c6f-9efc-31a5-5aa8-3d658d47a080',\n",
       "  'Encounter id': 'urn:uuid:988afe38-fb6b-e0c2-fc43-59b39de7b5b9',\n",
       "  'Encounter Started': '2017-01-30 20:35:27',\n",
       "  'Encounter Ended': '2017-02-28 20:35:27',\n",
       "  'Encounter Duration': 2505600.0,\n",
       "  'Hospital Staff': 'Dr. Sergio619 Volkman526',\n",
       "  'Type of admission': 'Admission to hospice (procedure)',\n",
       "  'Procedure': 'Hospice care (regime/therapy)',\n",
       "  'Procedure Started': '2017-02-13T20:35:27+00:00',\n",
       "  'Procedure Ended': '2017-02-13T20:50:27+00:00'},\n",
       " 'urn:uuid:269a888e-f74a-9fcd-0287-3127ac54e1d7': {'Patient id': 'urn:uuid:269a888e-f74a-9fcd-0287-3127ac54e1d7',\n",
       "  'Encounter id': 'urn:uuid:c0b574a3-cb65-f57b-fc24-330936d8146f',\n",
       "  'Encounter Started': '2021-04-06 10:55:01',\n",
       "  'Encounter Ended': '2021-05-03 11:10:01',\n",
       "  'Encounter Duration': 2333700.0,\n",
       "  'Hospital Staff': 'Dr. Hyman89 Schmeler639',\n",
       "  'Type of admission': 'Admission to hospice (procedure)',\n",
       "  'Procedure': 'Patient discharge (procedure)',\n",
       "  'Procedure Started': '2021-05-03T10:55:01+01:00',\n",
       "  'Procedure Ended': '2021-05-03T11:10:01+01:00'},\n",
       " 'urn:uuid:aa6ebc6d-72ae-e38c-9f8b-2e0c6af1b6f8': {'Patient id': 'urn:uuid:aa6ebc6d-72ae-e38c-9f8b-2e0c6af1b6f8',\n",
       "  'Encounter id': 'urn:uuid:441802e5-48e2-d381-7fbd-6c0d528a0566',\n",
       "  'Encounter Started': '2020-08-06 13:08:58',\n",
       "  'Encounter Ended': '2020-09-01 13:23:58',\n",
       "  'Encounter Duration': 2247300.0,\n",
       "  'Hospital Staff': 'Dr. Guillermo498 Fay398',\n",
       "  'Type of admission': 'Admission to hospice (procedure)',\n",
       "  'Procedure': 'Patient discharge (procedure)',\n",
       "  'Procedure Started': '2020-09-01T13:08:58+01:00',\n",
       "  'Procedure Ended': '2020-09-01T13:23:58+01:00'},\n",
       " 'urn:uuid:0c338433-4b52-8489-5f8e-1683ee2d1bb0': {'Patient id': 'urn:uuid:0c338433-4b52-8489-5f8e-1683ee2d1bb0',\n",
       "  'Encounter id': 'urn:uuid:7eb64fda-8653-3b36-fab0-da96253a7461',\n",
       "  'Encounter Started': '2023-03-13 02:46:58',\n",
       "  'Encounter Ended': '2023-04-07 03:46:58',\n",
       "  'Encounter Duration': 2160000.0,\n",
       "  'Hospital Staff': 'Dr. Mason910 Heller342',\n",
       "  'Type of admission': 'Drug rehabilitation and detoxification'},\n",
       " 'urn:uuid:f83ba5f7-5e69-3b27-4b62-b5630c59db34': {'Patient id': 'urn:uuid:f83ba5f7-5e69-3b27-4b62-b5630c59db34',\n",
       "  'Encounter id': 'urn:uuid:eca67403-70d0-401c-323a-9fc27c1ea850',\n",
       "  'Encounter Started': '2022-06-09 22:56:33',\n",
       "  'Encounter Ended': '2022-06-15 22:56:33',\n",
       "  'Encounter Duration': 518400.0,\n",
       "  'Hospital Staff': 'Dr. Jaime666 Klein929',\n",
       "  'Type of admission': 'Drug rehabilitation and detoxification'},\n",
       " 'urn:uuid:6ac2bf6b-6a8c-51e9-a2dd-30eb780264c5': {'Patient id': 'urn:uuid:6ac2bf6b-6a8c-51e9-a2dd-30eb780264c5',\n",
       "  'Encounter id': 'urn:uuid:4d563c2d-50f5-a4d8-800d-d9566445e53c',\n",
       "  'Encounter Started': '2021-01-07 04:51:40',\n",
       "  'Encounter Ended': '2021-01-12 12:26:26',\n",
       "  'Encounter Duration': 459286.0,\n",
       "  'Hospital Staff': 'Dr. Madelaine318 Walker122',\n",
       "  'Type of admission': 'Hospital admission for isolation (procedure)',\n",
       "  'Condition': 'Sepsis caused by virus (disorder)',\n",
       "  'Condition First Recorded': '2021-01-07T05:34:26+00:00',\n",
       "  'Procedure': 'Placing subject in prone position (procedure)',\n",
       "  'Procedure Started': '2021-01-12T05:34:26+00:00',\n",
       "  'Procedure Ended': '2021-01-12T05:49:26+00:00'},\n",
       " 'urn:uuid:826ab6b8-9b5e-736e-5271-bd33861cc870': {'Patient id': 'urn:uuid:826ab6b8-9b5e-736e-5271-bd33861cc870',\n",
       "  'Encounter id': 'urn:uuid:57ad63b2-3497-b826-60e4-35b91a7fc8e3',\n",
       "  'Encounter Started': '2023-01-20 23:22:23',\n",
       "  'Encounter Ended': '2023-01-25 23:22:23',\n",
       "  'Encounter Duration': 432000.0,\n",
       "  'Hospital Staff': 'Dr. Marcus77 Schamberger479',\n",
       "  'Type of admission': 'Drug rehabilitation and detoxification'},\n",
       " 'urn:uuid:4a72cfc5-8fff-d8bb-8f1f-35afd55f3a7e': {'Patient id': 'urn:uuid:4a72cfc5-8fff-d8bb-8f1f-35afd55f3a7e',\n",
       "  'Encounter id': 'urn:uuid:f683e9dc-d93d-ebfd-867b-156cf521e382',\n",
       "  'Encounter Started': '2015-08-31 06:14:08',\n",
       "  'Encounter Ended': '2015-09-19 07:13:46',\n",
       "  'Encounter Duration': 1645178.0,\n",
       "  'Hospital Staff': 'Dr. Lavon272 Erdman779',\n",
       "  'Type of admission': 'Admission to intensive care unit (procedure)',\n",
       "  'Procedure': 'Heart failure education (procedure)',\n",
       "  'Procedure Started': '2015-09-19T06:21:02+01:00',\n",
       "  'Procedure Ended': '2015-09-19T07:13:46+01:00'},\n",
       " 'urn:uuid:bbbb5bdf-8479-fc9b-48fa-19bf05e7ec85': {'Patient id': 'urn:uuid:bbbb5bdf-8479-fc9b-48fa-19bf05e7ec85',\n",
       "  'Encounter id': 'urn:uuid:028b57ca-8fb8-fd7d-5c20-7af713742582',\n",
       "  'Encounter Started': '2020-07-21 06:18:27',\n",
       "  'Encounter Ended': '2020-08-09 06:33:27',\n",
       "  'Encounter Duration': 1642500.0,\n",
       "  'Hospital Staff': 'Dr. Dylan44 Robel940',\n",
       "  'Type of admission': 'Admission to skilled nursing facility (procedure)',\n",
       "  'Procedure': 'Discharge from skilled nursing facility (procedure)',\n",
       "  'Procedure Started': '2020-08-09T06:18:27+01:00',\n",
       "  'Procedure Ended': '2020-08-09T06:33:27+01:00'},\n",
       " 'urn:uuid:0a5b0da7-e9fd-e875-469f-d9cd14eaf993': {'Patient id': 'urn:uuid:0a5b0da7-e9fd-e875-469f-d9cd14eaf993',\n",
       "  'Encounter id': 'urn:uuid:0ec43adf-8499-2cd7-3df8-f142ef2b919c',\n",
       "  'Encounter Started': '2015-08-31 00:42:47',\n",
       "  'Encounter Ended': '2015-09-19 00:42:47',\n",
       "  'Encounter Duration': 1641600.0,\n",
       "  'Hospital Staff': 'Dr. Hunter736 Lesch175',\n",
       "  'Type of admission': 'Drug rehabilitation and detoxification'},\n",
       " 'urn:uuid:5d47bff4-b399-e39a-7564-6e98135929b9': {'Patient id': 'urn:uuid:5d47bff4-b399-e39a-7564-6e98135929b9',\n",
       "  'Encounter id': 'urn:uuid:b18d594d-1afc-85b3-7ae0-ddfcf84a0e10',\n",
       "  'Encounter Started': '2016-06-13 20:04:07',\n",
       "  'Encounter Ended': '2016-06-14 20:59:20',\n",
       "  'Encounter Duration': 89713.0,\n",
       "  'Hospital Staff': 'Dr. Lavon272 Erdman779',\n",
       "  'Type of admission': 'Admission to intensive care unit (procedure)',\n",
       "  'Procedure': 'Heart failure education (procedure)',\n",
       "  'Procedure Started': '2016-06-14T20:11:05+01:00',\n",
       "  'Procedure Ended': '2016-06-14T20:59:20+01:00'},\n",
       " 'urn:uuid:90ac42bc-cd64-0c37-600c-6484a0a0d01f': {'Patient id': 'urn:uuid:90ac42bc-cd64-0c37-600c-6484a0a0d01f',\n",
       "  'Encounter id': 'urn:uuid:196bcdc5-bb29-c2de-ec94-57bd4af72509',\n",
       "  'Encounter Started': '2023-02-18 02:44:43',\n",
       "  'Encounter Ended': '2023-02-24 02:44:43',\n",
       "  'Encounter Duration': 518400.0,\n",
       "  'Hospital Staff': 'Dr. Joanna347 Abbott774',\n",
       "  'Type of admission': 'Drug rehabilitation and detoxification'},\n",
       " 'urn:uuid:d98e862f-e3b0-9a56-25df-f1843cea8f8d': {'Patient id': 'urn:uuid:d98e862f-e3b0-9a56-25df-f1843cea8f8d',\n",
       "  'Encounter id': 'urn:uuid:de5a64a9-1290-c1ed-8c6b-7d570a033bd8',\n",
       "  'Encounter Started': '2015-01-25 06:02:17',\n",
       "  'Encounter Ended': '2015-01-27 19:02:17',\n",
       "  'Encounter Duration': 219600.0,\n",
       "  'Hospital Staff': 'Dr. Kim439 Hyatt152',\n",
       "  'Type of admission': 'Admission to thoracic surgery department',\n",
       "  'Procedure': 'Postoperative care (regime/therapy)',\n",
       "  'Procedure Started': '2015-01-25T06:02:17+00:00',\n",
       "  'Procedure Ended': '2015-01-27T19:02:17+00:00'},\n",
       " 'urn:uuid:87495c35-77bb-9426-67d9-db97fe9c036c': {'Patient id': 'urn:uuid:87495c35-77bb-9426-67d9-db97fe9c036c',\n",
       "  'Encounter id': 'urn:uuid:67226a71-eb7d-1a8a-18a8-ef39dc69cec5',\n",
       "  'Encounter Started': '2003-11-20 10:18:13',\n",
       "  'Encounter Ended': '2003-11-30 04:25:43',\n",
       "  'Encounter Duration': 842850.0,\n",
       "  'Hospital Staff': 'Dr. Sergio619 Volkman526',\n",
       "  'Type of admission': 'Encounter for problem',\n",
       "  'Procedure': 'Patient discharge (procedure)',\n",
       "  'Procedure Started': '2003-12-02T04:10:43+00:00',\n",
       "  'Procedure Ended': '2003-12-02T04:25:43+00:00'},\n",
       " 'urn:uuid:307cac3e-ffdd-b0bb-bf94-979f13d748e3': {'Patient id': 'urn:uuid:307cac3e-ffdd-b0bb-bf94-979f13d748e3',\n",
       "  'Encounter id': 'urn:uuid:5ac3d8bc-f028-8897-edbc-d2695c3ad0fb',\n",
       "  'Encounter Started': '2021-05-09 09:52:17',\n",
       "  'Encounter Ended': '2021-05-10 10:34:05',\n",
       "  'Encounter Duration': 88908.0,\n",
       "  'Hospital Staff': 'Dr. Lavon272 Erdman779',\n",
       "  'Type of admission': 'Admission to intensive care unit (procedure)',\n",
       "  'Condition': 'Infectious mediastinitis (disorder)',\n",
       "  'Condition First Recorded': '2021-05-09T09:52:17+01:00',\n",
       "  'Condition Resolved': '2021-05-09T09:52:17+01:00',\n",
       "  'Procedure': 'Discharge to ward (procedure)',\n",
       "  'Procedure Started': '2021-05-10T10:19:05+01:00',\n",
       "  'Procedure Ended': '2021-05-10T10:34:05+01:00'},\n",
       " 'urn:uuid:43dfe830-5af7-2baf-a37d-a48d0161d1e2': {'Patient id': 'urn:uuid:43dfe830-5af7-2baf-a37d-a48d0161d1e2',\n",
       "  'Encounter id': 'urn:uuid:0bcee51d-a1df-c3be-639e-46912cde7d8e',\n",
       "  'Encounter Started': '2023-01-27 08:03:27',\n",
       "  'Encounter Ended': '2023-02-11 08:18:27',\n",
       "  'Encounter Duration': 1296900.0,\n",
       "  'Hospital Staff': 'Dr. Cira533 Jakubowski832',\n",
       "  'Type of admission': 'Admission to skilled nursing facility (procedure)',\n",
       "  'Procedure': 'Discharge from skilled nursing facility (procedure)',\n",
       "  'Procedure Started': '2023-02-11T08:03:27+00:00',\n",
       "  'Procedure Ended': '2023-02-11T08:18:27+00:00'}}"
      ]
     },
     "execution_count": 206,
     "metadata": {},
     "output_type": "execute_result"
    }
   ],
   "source": [
    "long_visit_dict_converted = long_visit_dict.copy()\n",
    "for id, text_dict in long_visit_dict_converted.items():\n",
    "    if text_dict[\"Encounter Duration\"] > timedelta(days=1):\n",
    "        text_dict[\"Encounter Duration\"] = text_dict[\"Encounter Duration\"].total_seconds()\n",
    "        long_visit_dict_converted[id] = text_dict\n",
    "\n",
    "\n",
    "with open(output_dir + '/long_visit_dict.json', 'w') as outfile:\n",
    "    json.dump(long_visit_dict_converted, outfile)\n",
    "\n",
    "\n",
    "long_visit_dict_converted"
   ]
  },
  {
   "cell_type": "code",
   "execution_count": 166,
   "metadata": {},
   "outputs": [
    {
     "data": {
      "text/plain": [
       "{'resourceType': 'Condition',\n",
       " 'id': 'addc2769-4509-7be4-d48a-d733105a0b50',\n",
       " 'clinicalStatus': {'coding': [{'system': 'http://terminology.hl7.org/CodeSystem/condition-clinical',\n",
       "    'code': 'active'}]},\n",
       " 'verificationStatus': {'coding': [{'system': 'http://terminology.hl7.org/CodeSystem/condition-ver-status',\n",
       "    'code': 'confirmed'}]},\n",
       " 'code': {'coding': [{'system': 'http://snomed.info/sct',\n",
       "    'code': '428251008',\n",
       "    'display': 'History of appendectomy'}],\n",
       "  'text': 'History of appendectomy'},\n",
       " 'subject': {'reference': 'urn:uuid:cf5c6029-50c2-e2a6-9f1d-529426345c66'},\n",
       " 'encounter': {'reference': 'urn:uuid:44d6a587-12e2-aa9f-5c06-268fbdaddd6d'},\n",
       " 'onsetDateTime': '1993-11-15T08:35:02+00:00',\n",
       " 'recordedDate': '1993-11-15T08:35:02+00:00'}"
      ]
     },
     "execution_count": 166,
     "metadata": {},
     "output_type": "execute_result"
    }
   ],
   "source": [
    "import json\n",
    "\n",
    "def extract_fhir_data(fhir_json):\n",
    "    # Initialize the result dictionary\n",
    "    extracted_data = {\n",
    "        \"Encounters\": [],\n",
    "        \"Conditions\": [],\n",
    "        \"Procedures\": []\n",
    "    }\n",
    "\n",
    "    # Extract Encounter information\n",
    "    if \"Encounter\" in fhir_json:\n",
    "        encounter = fhir_json['Encounter']\n",
    "        extracted_data[\"Encounters\"].append({\n",
    "            \"Date\": encounter['period']['start'][:10],\n",
    "            \"Duration\": f\"{encounter['period']['start'][11:]} - {encounter['period']['end'][11:]}\",\n",
    "            \"Provider\": encounter.get('serviceProvider', {}).get('display', 'Unknown'),\n",
    "            \"Participant\": ', '.join([p['individual']['display'] for p in encounter['participant']]),\n",
    "            \"Type\": encounter['type'][0]['text']\n",
    "        })\n",
    "\n",
    "    # Extract Condition information\n",
    "    for condition in fhir_json.get('Condition', []):\n",
    "        extracted_data[\"Conditions\"].append({\n",
    "            \"Status\": condition['clinicalStatus']['coding'][0]['display'],\n",
    "            \"Onset\": condition['onsetDateTime'][:10],\n",
    "            \"Resolution\": condition['abatementDateTime'][:10]\n",
    "        })\n",
    "\n",
    "    # Extract Procedure information\n",
    "    for procedure in fhir_json.get('Procedure', []):\n",
    "        extracted_data[\"Procedures\"].append({\n",
    "            \"Name\": procedure['code']['text'],\n",
    "            \"Date\": procedure['performedPeriod']['start'][:10],\n",
    "            \"Duration\": f\"{procedure['performedPeriod']['start'][11:]} - {procedure['performedPeriod']['end'][11:]}\"\n",
    "        })\n",
    "\n",
    "    return extracted_data\n",
    "\n",
    "# Example usage:\n",
    "fhir_json = [Your FHIR JSON Data]\n",
    "result = extract_fhir_data(fhir_json)\n",
    "print(json.dumps(result, indent=4))\n"
   ]
  },
  {
   "cell_type": "code",
   "execution_count": 192,
   "metadata": {},
   "outputs": [
    {
     "data": {
      "text/plain": [
       "'Parthenia862_Cole117_de4da970-92c4-0296-0b6c-7d960667d075.json'"
      ]
     },
     "execution_count": 192,
     "metadata": {},
     "output_type": "execute_result"
    }
   ],
   "source": [
    "[index for index, file in enumerate(files) if 'Kling' in files]\n",
    "\n",
    "files[0]\n",
    "\n",
    "\n"
   ]
  },
  {
   "cell_type": "code",
   "execution_count": 81,
   "metadata": {},
   "outputs": [
    {
     "name": "stdout",
     "output_type": "stream",
     "text": [
      "Types of encounters which have obs\n",
      "Counter({'Encounter for check up (procedure)': 81, 'Encounter for symptom': 73, 'General examination of patient (procedure)': 73, 'Patient encounter procedure': 35, 'Encounter for problem (procedure)': 4, 'Drug rehabilitation and detoxification': 2})\n",
      "Types of encounters which have procedures\n"
     ]
    },
    {
     "data": {
      "text/plain": [
       "Counter({'Patient encounter procedure': 44,\n",
       "         'Encounter for problem (procedure)': 38,\n",
       "         'Encounter for symptom': 21,\n",
       "         'General examination of patient (procedure)': 9,\n",
       "         'Admission to skilled nursing facility (procedure)': 8,\n",
       "         'Encounter for check up (procedure)': 7,\n",
       "         'Non-urgent orthopedic admission': 2,\n",
       "         'Emergency room admission (procedure)': 1})"
      ]
     },
     "execution_count": 81,
     "metadata": {},
     "output_type": "execute_result"
    }
   ],
   "source": [
    "related_encounter_types = []\n",
    "for obs_instance in observations:\n",
    "    related_encounter = obs_instance['encounter']['reference'].replace(\"urn:uuid:\", \"\")\n",
    "    # print(encounters_dict[related_encounter]['type'][0]['text'])\n",
    "    related_encounter_types.append(encounters_dict[related_encounter]['type'][0]['text'])\n",
    "\n",
    "print(\"Types of encounters which have obs\")\n",
    "print(Counter(related_encounter_types))\n",
    "\n",
    "related_encounter_types = []\n",
    "for proc_instance in procedures:\n",
    "    related_encounter = proc_instance['encounter']['reference'].replace(\"urn:uuid:\", \"\")\n",
    "    # print(encounters_dict[related_encounter]['type'][0]['text'])\n",
    "    related_encounter_types.append(encounters_dict[related_encounter]['type'][0]['text'])\n",
    "\n",
    "print(\"Types of encounters which have procedures\")\n",
    "Counter(related_encounter_types)"
   ]
  },
  {
   "cell_type": "code",
   "execution_count": 36,
   "metadata": {},
   "outputs": [
    {
     "name": "stdout",
     "output_type": "stream",
     "text": [
      "dict_keys(['resourceType', 'id', 'status', 'class', 'type', 'subject', 'participant', 'period', 'reasonCode', 'serviceProvider'])\n",
      "{'resourceType': 'Encounter', 'id': '44d6a587-12e2-aa9f-5c06-268fbdaddd6d', 'status': 'finished', 'class': {'system': 'http://terminology.hl7.org/CodeSystem/v3-ActCode', 'code': 'IMP'}, 'type': [{'coding': [{'system': 'http://snomed.info/sct', 'code': '183452005', 'display': 'Encounter Inpatient'}], 'text': 'Encounter Inpatient'}], 'subject': {'reference': 'urn:uuid:cf5c6029-50c2-e2a6-9f1d-529426345c66', 'display': 'Ms. Simone657 Joey457 Kling921'}, 'participant': [{'type': [{'coding': [{'system': 'http://terminology.hl7.org/CodeSystem/v3-ParticipationType', 'code': 'PPRF', 'display': 'primary performer'}], 'text': 'primary performer'}], 'period': {'start': '1993-11-15T08:35:02+00:00', 'end': '1993-11-20T06:16:30+00:00'}, 'individual': {'reference': 'Practitioner?identifier=http://hl7.org/fhir/sid/us-npi|9999997692', 'display': 'Dr. Rod343 Frami345'}}], 'period': {'start': '1993-11-15T08:35:02+00:00', 'end': '1993-11-20T06:16:30+00:00'}, 'reasonCode': [{'coding': [{'system': 'http://snomed.info/sct', 'code': '74400008', 'display': 'Appendicitis'}]}], 'hospitalization': {'dischargeDisposition': {'coding': [{'system': 'http://www.nubc.org/patient-discharge', 'code': '01', 'display': 'Discharged to home care or self care (routine discharge)'}], 'text': 'Discharged to home care or self care (routine discharge)'}}, 'serviceProvider': {'reference': 'Organization?identifier=https://github.com/synthetichealth/synthea|8e06337c-3de0-3ff7-84ab-6f9259cb06f5', 'display': 'Naomi House & Jacksplace'}}\n"
     ]
    }
   ],
   "source": [
    "print(encounters[0].keys()) # hospitalization is not in\n",
    "for _ in encounters:\n",
    "    if 'hospitalization' in _.keys():\n",
    "        print(_)"
   ]
  },
  {
   "cell_type": "code",
   "execution_count": 38,
   "metadata": {},
   "outputs": [
    {
     "data": {
      "text/plain": [
       "[{'resourceType': 'Encounter',\n",
       "  'id': '44d6a587-12e2-aa9f-5c06-268fbdaddd6d',\n",
       "  'status': 'finished',\n",
       "  'class': {'system': 'http://terminology.hl7.org/CodeSystem/v3-ActCode',\n",
       "   'code': 'IMP'},\n",
       "  'type': [{'coding': [{'system': 'http://snomed.info/sct',\n",
       "      'code': '183452005',\n",
       "      'display': 'Encounter Inpatient'}],\n",
       "    'text': 'Encounter Inpatient'}],\n",
       "  'subject': {'reference': 'urn:uuid:cf5c6029-50c2-e2a6-9f1d-529426345c66',\n",
       "   'display': 'Ms. Simone657 Joey457 Kling921'},\n",
       "  'participant': [{'type': [{'coding': [{'system': 'http://terminology.hl7.org/CodeSystem/v3-ParticipationType',\n",
       "        'code': 'PPRF',\n",
       "        'display': 'primary performer'}],\n",
       "      'text': 'primary performer'}],\n",
       "    'period': {'start': '1993-11-15T08:35:02+00:00',\n",
       "     'end': '1993-11-20T06:16:30+00:00'},\n",
       "    'individual': {'reference': 'Practitioner?identifier=http://hl7.org/fhir/sid/us-npi|9999997692',\n",
       "     'display': 'Dr. Rod343 Frami345'}}],\n",
       "  'period': {'start': '1993-11-15T08:35:02+00:00',\n",
       "   'end': '1993-11-20T06:16:30+00:00'},\n",
       "  'reasonCode': [{'coding': [{'system': 'http://snomed.info/sct',\n",
       "      'code': '74400008',\n",
       "      'display': 'Appendicitis'}]}],\n",
       "  'hospitalization': {'dischargeDisposition': {'coding': [{'system': 'http://www.nubc.org/patient-discharge',\n",
       "      'code': '01',\n",
       "      'display': 'Discharged to home care or self care (routine discharge)'}],\n",
       "    'text': 'Discharged to home care or self care (routine discharge)'}},\n",
       "  'serviceProvider': {'reference': 'Organization?identifier=https://github.com/synthetichealth/synthea|8e06337c-3de0-3ff7-84ab-6f9259cb06f5',\n",
       "   'display': 'Naomi House & Jacksplace'}}]"
      ]
     },
     "execution_count": 38,
     "metadata": {},
     "output_type": "execute_result"
    }
   ],
   "source": [
    "inpat_visits\n",
    "\n",
    "# Initialize lists to hold labs (Observations) and diagnostic reports\n",
    "related_observations = []  # This will include lab results\n",
    "related_diagnostic_reports = []\n",
    "\n",
    "for entry in data['entry']:\n",
    "    resource = entry['resource']\n",
    "    resource_type = resource['resourceType']\n",
    "\n",
    "    # Check for Observation or DiagnosticReport\n",
    "    if resource_type in ['Observation', 'DiagnosticReport']:\n",
    "        # Check if they are related to the inpatient encounters\n",
    "        if 'encounter' in resource and resource['encounter']['reference'] in inpatient_ids:\n",
    "            if resource_type == 'Observation':\n",
    "                related_observations.append(resource)  # This includes lab results\n",
    "            elif resource_type == 'DiagnosticReport':\n",
    "                related_diagnostic_reports.append(resource)"
   ]
  },
  {
   "cell_type": "code",
   "execution_count": 20,
   "metadata": {},
   "outputs": [],
   "source": [
    "\n",
    "# Assuming inpat_visits contains your filtered inpatient visits\n",
    "if inpat_visits:\n",
    "    # Write all inpatient encounters to a new JSON file\n",
    "    with open('../experiments/02_generate_dataset_for_tom/synthea/fhir_examples/Angelo118_Franecki195_2.json', 'w') as outfile:\n",
    "        json.dump(inpat_visits, outfile)"
   ]
  },
  {
   "cell_type": "markdown",
   "id": "11797ed3",
   "metadata": {},
   "source": [
    "## Explore relationships in Synthea\n",
    "\n",
    "https://learn.microsoft.com/en-us/fabric/data-science/tutorial-relationships-detection\n",
    "\n",
    "This requires Azure"
   ]
  },
  {
   "cell_type": "code",
   "execution_count": 44,
   "id": "0266d5a0",
   "metadata": {},
   "outputs": [],
   "source": [
    "# import sempy\n",
    "# from sempy.relationships import (\n",
    "#     find_relationships,\n",
    "#     list_relationship_violations,\n",
    "#     plot_relationship_metadata\n",
    "# )"
   ]
  },
  {
   "cell_type": "markdown",
   "id": "c0738cc8",
   "metadata": {},
   "source": [
    "## Load background tables \n",
    "\n",
    "The structured notes from Synthea can then be converted to free-text clinical notes."
   ]
  },
  {
   "cell_type": "code",
   "execution_count": 46,
   "id": "12b34d36",
   "metadata": {},
   "outputs": [],
   "source": [
    "import pandas as pd\n",
    "enc = pd.read_csv('../experiments/02_generate_dataset/synthea/csv/encounters.csv')\n",
    "pat = pd.read_csv('../experiments/02_generate_dataset/synthea/csv/patients.csv')\n",
    "cond = pd.read_csv('../experiments/02_generate_dataset/synthea/csv/conditions.csv')\n",
    "med = pd.read_csv('../experiments/02_generate_dataset/synthea/csv/medications.csv')\n",
    "proc = pd.read_csv('../experiments/02_generate_dataset/synthea/csv/procedures.csv')"
   ]
  },
  {
   "cell_type": "code",
   "execution_count": 23,
   "id": "45f7e569",
   "metadata": {},
   "outputs": [
    {
     "ename": "NameError",
     "evalue": "name 'enc' is not defined",
     "output_type": "error",
     "traceback": [
      "\u001b[0;31m---------------------------------------------------------------------------\u001b[0m",
      "\u001b[0;31mNameError\u001b[0m                                 Traceback (most recent call last)",
      "\u001b[1;32m/Users/zellaking/Repos/privfp-poc-zk/notebooks/ZK_01_explore_dataset.ipynb Cell 15\u001b[0m line \u001b[0;36m1\n\u001b[0;32m----> <a href='vscode-notebook-cell:/Users/zellaking/Repos/privfp-poc-zk/notebooks/ZK_01_explore_dataset.ipynb#X15sZmlsZQ%3D%3D?line=0'>1</a>\u001b[0m inp \u001b[39m=\u001b[39m enc[enc\u001b[39m.\u001b[39mENCOUNTERCLASS \u001b[39m==\u001b[39m \u001b[39m'\u001b[39m\u001b[39minpatient\u001b[39m\u001b[39m'\u001b[39m]\n\u001b[1;32m      <a href='vscode-notebook-cell:/Users/zellaking/Repos/privfp-poc-zk/notebooks/ZK_01_explore_dataset.ipynb#X15sZmlsZQ%3D%3D?line=1'>2</a>\u001b[0m \u001b[39m# inp.head(2).T\u001b[39;00m\n\u001b[1;32m      <a href='vscode-notebook-cell:/Users/zellaking/Repos/privfp-poc-zk/notebooks/ZK_01_explore_dataset.ipynb#X15sZmlsZQ%3D%3D?line=2'>3</a>\u001b[0m     \u001b[39m# enc.ENCOUNTERCLASS.value_counts()\u001b[39;00m\n\u001b[1;32m      <a href='vscode-notebook-cell:/Users/zellaking/Repos/privfp-poc-zk/notebooks/ZK_01_explore_dataset.ipynb#X15sZmlsZQ%3D%3D?line=3'>4</a>\u001b[0m \u001b[39m# len(inp.PATIENT.unique())#.size\u001b[39;00m\n",
      "\u001b[0;31mNameError\u001b[0m: name 'enc' is not defined"
     ]
    }
   ],
   "source": [
    "inp = enc[enc.ENCOUNTERCLASS == 'inpatient']\n",
    "# inp.head(2).T\n",
    "    # enc.ENCOUNTERCLASS.value_counts()\n",
    "# len(inp.PATIENT.unique())#.size"
   ]
  },
  {
   "cell_type": "code",
   "execution_count": 24,
   "metadata": {},
   "outputs": [],
   "source": [
    "ex_pat = '5cb0dac2-b3e6-3018-ea64-814bf7bcd780'\n",
    "\n"
   ]
  },
  {
   "cell_type": "code",
   "execution_count": 127,
   "id": "1fea71ae",
   "metadata": {},
   "outputs": [
    {
     "data": {
      "text/html": [
       "<div>\n",
       "<style scoped>\n",
       "    .dataframe tbody tr th:only-of-type {\n",
       "        vertical-align: middle;\n",
       "    }\n",
       "\n",
       "    .dataframe tbody tr th {\n",
       "        vertical-align: top;\n",
       "    }\n",
       "\n",
       "    .dataframe thead th {\n",
       "        text-align: right;\n",
       "    }\n",
       "</style>\n",
       "<table border=\"1\" class=\"dataframe\">\n",
       "  <thead>\n",
       "    <tr style=\"text-align: right;\">\n",
       "      <th></th>\n",
       "      <th>Id</th>\n",
       "      <th>START</th>\n",
       "      <th>STOP</th>\n",
       "      <th>PATIENT</th>\n",
       "      <th>ORGANIZATION</th>\n",
       "      <th>PROVIDER</th>\n",
       "      <th>PAYER</th>\n",
       "      <th>ENCOUNTERCLASS</th>\n",
       "      <th>CODE</th>\n",
       "      <th>DESCRIPTION</th>\n",
       "      <th>BASE_ENCOUNTER_COST</th>\n",
       "      <th>TOTAL_CLAIM_COST</th>\n",
       "      <th>PAYER_COVERAGE</th>\n",
       "      <th>REASONCODE</th>\n",
       "      <th>REASONDESCRIPTION</th>\n",
       "    </tr>\n",
       "  </thead>\n",
       "  <tbody>\n",
       "    <tr>\n",
       "      <th>808</th>\n",
       "      <td>cb338fc9-c430-0671-e0c4-e4d805815cc6</td>\n",
       "      <td>2020-11-01T19:55:43Z</td>\n",
       "      <td>2020-11-10T20:45:13Z</td>\n",
       "      <td>5cb0dac2-b3e6-3018-ea64-814bf7bcd780</td>\n",
       "      <td>9e0eba2f-7955-3835-9ef0-cc75aa3fdad2</td>\n",
       "      <td>5fc8e82e-9d1c-3b15-9281-2a58e6ce33ae</td>\n",
       "      <td>329794ac-8260-3252-90dd-cc5284fe15b9</td>\n",
       "      <td>inpatient</td>\n",
       "      <td>1505002</td>\n",
       "      <td>Hospital admission for isolation (procedure)</td>\n",
       "      <td>125.0</td>\n",
       "      <td>22281.21</td>\n",
       "      <td>22281.21</td>\n",
       "      <td>840539006.0</td>\n",
       "      <td>COVID-19</td>\n",
       "    </tr>\n",
       "    <tr>\n",
       "      <th>826</th>\n",
       "      <td>19f506f5-920f-89f4-7040-cc1e2d2be8f3</td>\n",
       "      <td>2021-01-23T19:43:01Z</td>\n",
       "      <td>2021-01-24T19:43:01Z</td>\n",
       "      <td>5cb0dac2-b3e6-3018-ea64-814bf7bcd780</td>\n",
       "      <td>9e0eba2f-7955-3835-9ef0-cc75aa3fdad2</td>\n",
       "      <td>5fc8e82e-9d1c-3b15-9281-2a58e6ce33ae</td>\n",
       "      <td>329794ac-8260-3252-90dd-cc5284fe15b9</td>\n",
       "      <td>inpatient</td>\n",
       "      <td>305408004</td>\n",
       "      <td>Admission to surgical department</td>\n",
       "      <td>125.0</td>\n",
       "      <td>9163.80</td>\n",
       "      <td>9163.80</td>\n",
       "      <td>NaN</td>\n",
       "      <td>NaN</td>\n",
       "    </tr>\n",
       "  </tbody>\n",
       "</table>\n",
       "</div>"
      ],
      "text/plain": [
       "                                       Id                 START  \\\n",
       "808  cb338fc9-c430-0671-e0c4-e4d805815cc6  2020-11-01T19:55:43Z   \n",
       "826  19f506f5-920f-89f4-7040-cc1e2d2be8f3  2021-01-23T19:43:01Z   \n",
       "\n",
       "                     STOP                               PATIENT  \\\n",
       "808  2020-11-10T20:45:13Z  5cb0dac2-b3e6-3018-ea64-814bf7bcd780   \n",
       "826  2021-01-24T19:43:01Z  5cb0dac2-b3e6-3018-ea64-814bf7bcd780   \n",
       "\n",
       "                             ORGANIZATION  \\\n",
       "808  9e0eba2f-7955-3835-9ef0-cc75aa3fdad2   \n",
       "826  9e0eba2f-7955-3835-9ef0-cc75aa3fdad2   \n",
       "\n",
       "                                 PROVIDER  \\\n",
       "808  5fc8e82e-9d1c-3b15-9281-2a58e6ce33ae   \n",
       "826  5fc8e82e-9d1c-3b15-9281-2a58e6ce33ae   \n",
       "\n",
       "                                    PAYER ENCOUNTERCLASS       CODE  \\\n",
       "808  329794ac-8260-3252-90dd-cc5284fe15b9      inpatient    1505002   \n",
       "826  329794ac-8260-3252-90dd-cc5284fe15b9      inpatient  305408004   \n",
       "\n",
       "                                      DESCRIPTION  BASE_ENCOUNTER_COST  \\\n",
       "808  Hospital admission for isolation (procedure)                125.0   \n",
       "826              Admission to surgical department                125.0   \n",
       "\n",
       "     TOTAL_CLAIM_COST  PAYER_COVERAGE   REASONCODE REASONDESCRIPTION  \n",
       "808          22281.21        22281.21  840539006.0          COVID-19  \n",
       "826           9163.80         9163.80          NaN               NaN  "
      ]
     },
     "execution_count": 127,
     "metadata": {},
     "output_type": "execute_result"
    }
   ],
   "source": [
    "inp[inp.PATIENT == ex_pat]\n",
    "\n",
    "cond[cond.PATIENT == ex_pat]\n",
    "med[med.PATIENT == ex_pat]\n",
    "\n",
    "proc[(proc.ENCOUNTER.isin(inp.Id.values)) & (proc.PATIENT == ex_pat)]"
   ]
  },
  {
   "cell_type": "code",
   "execution_count": null,
   "id": "d0d4d296",
   "metadata": {},
   "outputs": [],
   "source": []
  },
  {
   "cell_type": "code",
   "execution_count": null,
   "id": "daa4c775",
   "metadata": {},
   "outputs": [],
   "source": []
  },
  {
   "cell_type": "code",
   "execution_count": 31,
   "id": "5440bad8",
   "metadata": {},
   "outputs": [
    {
     "data": {
      "text/plain": [
       "'text-davinci-003'"
      ]
     },
     "execution_count": 31,
     "metadata": {},
     "output_type": "execute_result"
    }
   ],
   "source": [
    "import privacy_fingerprint.generate.language_model as llm\n",
    "\n",
    "from privacy_fingerprint.common.config import (\n",
    "    load_experiment_config,\n",
    "    load_experiment_config_from_file,\n",
    "    load_global_config_from_file,\n",
    ")\n",
    "# config = load_experiment_config_from_file()\n",
    "config = load_experiment_config_from_file(\"../configs/experiment_config.yaml\")\n",
    "\n",
    "config.openai.model"
   ]
  },
  {
   "cell_type": "code",
   "execution_count": 34,
   "metadata": {},
   "outputs": [
    {
     "ename": "FileNotFoundError",
     "evalue": "[Errno 2] No such file or directory: '../configs/global_config.yaml'",
     "output_type": "error",
     "traceback": [
      "\u001b[0;31m---------------------------------------------------------------------------\u001b[0m",
      "\u001b[0;31mFileNotFoundError\u001b[0m                         Traceback (most recent call last)",
      "\u001b[1;32m/Users/zellaking/Repos/privfp-poc-zk/notebooks/ZK_01_explore_dataset.ipynb Cell 21\u001b[0m line \u001b[0;36m1\n\u001b[0;32m----> <a href='vscode-notebook-cell:/Users/zellaking/Repos/privfp-poc-zk/notebooks/ZK_01_explore_dataset.ipynb#X43sZmlsZQ%3D%3D?line=0'>1</a>\u001b[0m config \u001b[39m=\u001b[39m load_global_config_from_file(\u001b[39m\"\u001b[39;49m\u001b[39m../configs/global_config.yaml\u001b[39;49m\u001b[39m\"\u001b[39;49m)\n",
      "File \u001b[0;32m~/Repos/privfp-poc-zk/src/privacy_fingerprint/common/config/__init__.py:53\u001b[0m, in \u001b[0;36mload_global_config_from_file\u001b[0;34m(filename, environ)\u001b[0m\n\u001b[1;32m     41\u001b[0m \u001b[39mdef\u001b[39;00m \u001b[39mload_global_config_from_file\u001b[39m(\n\u001b[1;32m     42\u001b[0m     filename: \u001b[39mstr\u001b[39m, environ: Optional[Dict] \u001b[39m=\u001b[39m \u001b[39mNone\u001b[39;00m\n\u001b[1;32m     43\u001b[0m ) \u001b[39m-\u001b[39m\u001b[39m>\u001b[39m GlobalConfig:\n\u001b[1;32m     44\u001b[0m \u001b[39m    \u001b[39m\u001b[39m\"\"\"Load the global config for the privacy fingerprint tool\u001b[39;00m\n\u001b[1;32m     45\u001b[0m \n\u001b[1;32m     46\u001b[0m \u001b[39m    Config values are first loaded from the file and then if matching values are found in\u001b[39;00m\n\u001b[0;32m   (...)\u001b[0m\n\u001b[1;32m     51\u001b[0m \u001b[39m    :param environ: Dictionary of values used to override values in the file\u001b[39;00m\n\u001b[1;32m     52\u001b[0m \u001b[39m    :returns: Config object\"\"\"\u001b[39;00m\n\u001b[0;32m---> 53\u001b[0m     \u001b[39mwith\u001b[39;00m \u001b[39mopen\u001b[39;49m(filename) \u001b[39mas\u001b[39;00m fp:\n\u001b[1;32m     54\u001b[0m         config \u001b[39m=\u001b[39m yaml\u001b[39m.\u001b[39msafe_load(fp)\n\u001b[1;32m     55\u001b[0m     \u001b[39mif\u001b[39;00m environ \u001b[39mis\u001b[39;00m \u001b[39mNone\u001b[39;00m:\n",
      "\u001b[0;31mFileNotFoundError\u001b[0m: [Errno 2] No such file or directory: '../configs/global_config.yaml'"
     ]
    }
   ],
   "source": [
    "config = load_global_config_from_file(\"../configs/global_config.yaml\")\n"
   ]
  },
  {
   "cell_type": "code",
   "execution_count": 33,
   "id": "a69eacff",
   "metadata": {},
   "outputs": [
    {
     "ename": "AttributeError",
     "evalue": "'NoneType' object has no attribute 'cache'",
     "output_type": "error",
     "traceback": [
      "\u001b[0;31m---------------------------------------------------------------------------\u001b[0m",
      "\u001b[0;31mAttributeError\u001b[0m                            Traceback (most recent call last)",
      "\u001b[1;32m/Users/zellaking/Repos/privfp-poc-zk/notebooks/ZK_01_explore_dataset.ipynb Cell 21\u001b[0m line \u001b[0;36m2\n\u001b[1;32m      <a href='vscode-notebook-cell:/Users/zellaking/Repos/privfp-poc-zk/notebooks/ZK_01_explore_dataset.ipynb#X31sZmlsZQ%3D%3D?line=0'>1</a>\u001b[0m clinical_note_generator \u001b[39m=\u001b[39m llm\u001b[39m.\u001b[39mLMGenerator()\n\u001b[0;32m----> <a href='vscode-notebook-cell:/Users/zellaking/Repos/privfp-poc-zk/notebooks/ZK_01_explore_dataset.ipynb#X31sZmlsZQ%3D%3D?line=1'>2</a>\u001b[0m llm_results \u001b[39m=\u001b[39m \u001b[39mlist\u001b[39m(clinical_note_generator\u001b[39m.\u001b[39;49mgenerate_text(inpat_visits))\n\u001b[1;32m      <a href='vscode-notebook-cell:/Users/zellaking/Repos/privfp-poc-zk/notebooks/ZK_01_explore_dataset.ipynb#X31sZmlsZQ%3D%3D?line=3'>4</a>\u001b[0m \u001b[39mwith\u001b[39;00m \u001b[39mopen\u001b[39m(\u001b[39m'\u001b[39m\u001b[39m../experiments/02_generate_dataset_for_tom/synthea/fhir_examples/Angelo118_Franecki195_note.json\u001b[39m\u001b[39m'\u001b[39m, \u001b[39m'\u001b[39m\u001b[39mw\u001b[39m\u001b[39m'\u001b[39m) \u001b[39mas\u001b[39;00m fp:\n\u001b[1;32m      <a href='vscode-notebook-cell:/Users/zellaking/Repos/privfp-poc-zk/notebooks/ZK_01_explore_dataset.ipynb#X31sZmlsZQ%3D%3D?line=4'>5</a>\u001b[0m     json\u001b[39m.\u001b[39mdump(llm_results, fp)\n",
      "File \u001b[0;32m~/Repos/privfp-poc-zk/src/privacy_fingerprint/generate/language_model.py:47\u001b[0m, in \u001b[0;36mgenerate_text\u001b[0;34m(self, records)\u001b[0m\n\u001b[1;32m     42\u001b[0m \u001b[39mdef\u001b[39;00m \u001b[39mgenerate_text\u001b[39m(\u001b[39mself\u001b[39m, records: List[Dict[\u001b[39mstr\u001b[39m, Any]]) \u001b[39m-\u001b[39m\u001b[39m>\u001b[39m Iterable[\u001b[39mstr\u001b[39m]:\n\u001b[1;32m     43\u001b[0m \u001b[39m    \u001b[39m\u001b[39m\"\"\"Convert a series of structured records into unstructured clinical notes\u001b[39;00m\n\u001b[1;32m     44\u001b[0m \n\u001b[1;32m     45\u001b[0m \u001b[39m    :param records: List of structured records\u001b[39;00m\n\u001b[1;32m     46\u001b[0m \u001b[39m    :returns: Iterable of unstructured clinical notes\u001b[39;00m\n\u001b[0;32m---> 47\u001b[0m \u001b[39m    \"\"\"\u001b[39;00m\n\u001b[1;32m     48\u001b[0m     config \u001b[39m=\u001b[39m load_global_config()\n\u001b[1;32m     49\u001b[0m     cache_miss_records \u001b[39m=\u001b[39m \u001b[39mself\u001b[39m\u001b[39m.\u001b[39mget_cache_miss_records(records)\n",
      "File \u001b[0;32m~/Repos/privfp-poc-zk/src/privacy_fingerprint/generate/language_model.py:127\u001b[0m, in \u001b[0;36mget_cache_miss_records\u001b[0;34m(self, records)\u001b[0m\n\u001b[1;32m    123\u001b[0m \u001b[39mdef\u001b[39;00m \u001b[39mget_cache_miss_records\u001b[39m(\u001b[39mself\u001b[39m, records):\n\u001b[1;32m    124\u001b[0m \u001b[39m    \u001b[39m\u001b[39m\"\"\"Get records that have not yet been saved to the cache\u001b[39;00m\n\u001b[1;32m    125\u001b[0m \n\u001b[1;32m    126\u001b[0m \u001b[39m    :param records: List of records\u001b[39;00m\n\u001b[0;32m--> 127\u001b[0m \u001b[39m    :returns: List of records not in the cache\"\"\"\u001b[39;00m\n\u001b[1;32m    128\u001b[0m     record_lookup \u001b[39m=\u001b[39m {\u001b[39mself\u001b[39m\u001b[39m.\u001b[39mrecord_id(record): record \u001b[39mfor\u001b[39;00m record \u001b[39min\u001b[39;00m records}\n\u001b[1;32m    129\u001b[0m     \u001b[39mwith\u001b[39;00m get_session()() \u001b[39mas\u001b[39;00m session:\n",
      "File \u001b[0;32m~/Repos/privfp-poc-zk/src/privacy_fingerprint/common/db.py:23\u001b[0m, in \u001b[0;36mget_session\u001b[0;34m()\u001b[0m\n\u001b[1;32m     21\u001b[0m config \u001b[39m=\u001b[39m load_global_config()\n\u001b[1;32m     22\u001b[0m connection \u001b[39m=\u001b[39m \u001b[39m\"\u001b[39m\u001b[39msqlite+pysqlite://\u001b[39m\u001b[39m\"\u001b[39m\n\u001b[0;32m---> 23\u001b[0m \u001b[39mif\u001b[39;00m config\u001b[39m.\u001b[39;49mcache\u001b[39m.\u001b[39mfile_name \u001b[39m!=\u001b[39m \u001b[39m\"\u001b[39m\u001b[39m\"\u001b[39m:\n\u001b[1;32m     24\u001b[0m     connection \u001b[39m=\u001b[39m \u001b[39mf\u001b[39m\u001b[39m\"\u001b[39m\u001b[39m{\u001b[39;00mconnection\u001b[39m}\u001b[39;00m\u001b[39m/\u001b[39m\u001b[39m{\u001b[39;00mconfig\u001b[39m.\u001b[39mcache\u001b[39m.\u001b[39mfile_name\u001b[39m}\u001b[39;00m\u001b[39m\"\u001b[39m\n\u001b[1;32m     25\u001b[0m \u001b[39melse\u001b[39;00m:\n",
      "\u001b[0;31mAttributeError\u001b[0m: 'NoneType' object has no attribute 'cache'"
     ]
    }
   ],
   "source": [
    "clinical_note_generator = llm.LMGenerator()\n",
    "llm_results = list(clinical_note_generator.generate_text(inpat_visits))\n",
    "\n",
    "with open('../experiments/02_generate_dataset_for_tom/synthea/fhir_examples/Angelo118_Franecki195_note.json', 'w') as fp:\n",
    "    json.dump(llm_results, fp)"
   ]
  },
  {
   "cell_type": "code",
   "execution_count": null,
   "id": "a1e23603",
   "metadata": {},
   "outputs": [],
   "source": [
    "# If using a previously generated set of records they can be loaded as follows:\n",
    "\n",
    "with open(os.path.join(output_dir, \"llm_dataset.json\")) as fp:\n",
    "    llm_results = json.load(fp)"
   ]
  },
  {
   "cell_type": "code",
   "execution_count": null,
   "id": "21fbc893",
   "metadata": {},
   "outputs": [],
   "source": [
    "# The NER step using AWS ComprehendMedical is the most expensive step.\n",
    "# The cost can be estimated with the following function:\n",
    "\n",
    "print(\"Estimated cost is $\", aws.calculate_ner_cost(llm_results))"
   ]
  },
  {
   "cell_type": "code",
   "execution_count": null,
   "id": "8b2f917b",
   "metadata": {},
   "outputs": [],
   "source": [
    "aws_extract = aws.ComprehendExtractor()\n",
    "ner_records = [aws_extract.extract_record(r) for r in llm_results]\n",
    "\n",
    "with open(os.path.join(output_dir, \"ner_dataset.json\"), \"w\") as fp:\n",
    "    json.dump(ner_records, fp)"
   ]
  },
  {
   "cell_type": "code",
   "execution_count": null,
   "id": "e0bbc2df",
   "metadata": {},
   "outputs": [],
   "source": [
    "# If using a previously generated set of records they can be loaded as follows:\n",
    "\n",
    "with open(os.path.join(output_dir, \"ner_dataset.json\")) as fp:\n",
    "    ner_records = json.load(fp)"
   ]
  },
  {
   "cell_type": "markdown",
   "id": "8ddd1b0f",
   "metadata": {},
   "source": [
    "With the raw NER results generated, experiments will move to individual notebooks."
   ]
  }
 ],
 "metadata": {
  "kernelspec": {
   "display_name": "Python 3 (ipykernel)",
   "language": "python",
   "name": "python3"
  },
  "language_info": {
   "codemirror_mode": {
    "name": "ipython",
    "version": 3
   },
   "file_extension": ".py",
   "mimetype": "text/x-python",
   "name": "python",
   "nbconvert_exporter": "python",
   "pygments_lexer": "ipython3",
   "version": "3.11.4"
  }
 },
 "nbformat": 4,
 "nbformat_minor": 5
}
