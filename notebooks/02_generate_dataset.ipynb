{
 "cells": [
  {
   "cell_type": "markdown",
   "id": "ef2742aa",
   "metadata": {},
   "source": [
    "# 02 - Generating Dataset 1\n",
    "\n",
    "The purpose of this notebook is to create a dataset that will be used for testing the performance of the package and conducting a series of experiments.\n",
    "\n",
    "By separating the creation of the dataset from its use it should be easier to re-use the dataset for the different tests and experiments."
   ]
  },
  {
   "cell_type": "code",
   "execution_count": 18,
   "id": "532cfcf6",
   "metadata": {},
   "outputs": [
    {
     "name": "stdout",
     "output_type": "stream",
     "text": [
      "The autoreload extension is already loaded. To reload it, use:\n",
      "  %reload_ext autoreload\n"
     ]
    }
   ],
   "source": [
    "# Reload functions every time\n",
    "%load_ext autoreload \n",
    "%autoreload 2"
   ]
  },
  {
   "cell_type": "code",
   "execution_count": 19,
   "id": "c0d258c8",
   "metadata": {},
   "outputs": [],
   "source": [
    "import json\n",
    "import os\n",
    "import sys\n",
    "\n",
    "# This will add the src directory to sys.path\n",
    "# meaning that the privacy_fingerprint will be found\n",
    "# note it assumes the current working directory is the folder containing this notebook\n",
    "sys.path.append(os.path.abspath(os.path.join(os.getcwd(), os.pardir))+'/src')"
   ]
  },
  {
   "cell_type": "code",
   "execution_count": 20,
   "metadata": {},
   "outputs": [],
   "source": [
    "# from dotenv import load_dotenv\n",
    "# load_dotenv() \n",
    "# api_key =  os.getenv('OPENAI_API_KEY')\n"
   ]
  },
  {
   "cell_type": "code",
   "execution_count": 21,
   "id": "7e293e2a",
   "metadata": {},
   "outputs": [],
   "source": [
    "from privacy_fingerprint.common.config import (\n",
    "    load_global_config_from_file,\n",
    "    load_experiment_config_from_file,\n",
    "    load_experiment_config,\n",
    ")\n",
    "import privacy_fingerprint.generate.synthea as synthea\n",
    "import privacy_fingerprint.generate.language_model as llm\n",
    "import privacy_fingerprint.extract.aws_comprehend as aws"
   ]
  },
  {
   "cell_type": "code",
   "execution_count": 25,
   "id": "893b018a",
   "metadata": {},
   "outputs": [
    {
     "name": "stderr",
     "output_type": "stream",
     "text": [
      "/var/folders/lr/pm79dxzs0v70y4gz98dl13440000gn/T/ipykernel_20583/1344694839.py:12: PydanticDeprecatedSince20: The `dict` method is deprecated; use `model_dump` instead. Deprecated in Pydantic V2.0 to be removed in V3.0. See Pydantic V2 Migration Guide at https://errors.pydantic.dev/2.4/migration/\n",
      "  load_experiment_config(expt_config.dict())\n"
     ]
    },
    {
     "data": {
      "text/plain": [
       "ExperimentConfig(synthea=ExperimentSyntheaConfig(county='Hampshire', encounter_type='Admission to surgical department', num_records=100, extra_config={}, records_per_patient=1, ethnicity_types=['White - British', 'White - Irish', 'White - Any other White background', 'Mixed - White and Black Caribbean', 'Mixed - White and Black African', 'Mixed - White and Asian', 'Mixed - Any other mixed background', 'Asian or Asian British - Indian', 'Asian or Asian British - Pakistani', 'Asian or Asian British - Bangladeshi', 'Asian or Asian British - Any other Asian background', 'Black or Black British - Caribbean', 'Black or Black British - African', 'Black or Black British - Any other Black background', 'Other Ethnic Groups - Chinese', 'Other Ethnic Groups - Any other ethnic group']), openai=ExperimentOpenAPIConfig(model='text-davinci-003', max_tokens=256, temperature=0.7, prompt='Describe this patient as if you were a medical doctor.'), scoring=ScoringConfig(encoding_scheme='one-hot', max_columns=30))"
      ]
     },
     "execution_count": 25,
     "metadata": {},
     "output_type": "execute_result"
    }
   ],
   "source": [
    "# Example config files are available in the config directory.\n",
    "# These files will need to be customised with your API keys.\n",
    "\n",
    "load_global_config_from_file(\"../configs/global_configs.yaml\")\n",
    "load_experiment_config_from_file(\"../configs/experiment_config.yaml\")\n",
    "\n",
    "# Config options can be modified inline. To keep this notebook/experiment small\n",
    "# the number of records will be changed to 10.\n",
    "expt_config = load_experiment_config()\n",
    "# expt_config.synthea.encounter_type = \"Encounter for symptom\"\n",
    "expt_config.synthea.num_records = 100  # 100_000 used to create dataset1\n",
    "load_experiment_config(expt_config.dict())"
   ]
  },
  {
   "cell_type": "code",
   "execution_count": 26,
   "metadata": {},
   "outputs": [
    {
     "data": {
      "text/plain": [
       "'Admission to surgical department'"
      ]
     },
     "execution_count": 26,
     "metadata": {},
     "output_type": "execute_result"
    }
   ],
   "source": [
    "expt_config.synthea.encounter_type"
   ]
  },
  {
   "cell_type": "code",
   "execution_count": 27,
   "id": "d506cec1",
   "metadata": {},
   "outputs": [],
   "source": [
    "# The Synthea output will be saved to a directory\n",
    "output_dir = \"../experiments/02_generate_dataset_surgical\"\n",
    "os.makedirs(output_dir, exist_ok=True)\n",
    "export_directory = os.path.join(output_dir, \"synthea\")"
   ]
  },
  {
   "cell_type": "code",
   "execution_count": 28,
   "id": "8fa65aa1",
   "metadata": {},
   "outputs": [
    {
     "name": "stdout",
     "output_type": "stream",
     "text": [
      "2023-11-26 18:04:16.202625\n",
      "Admission to surgical department\n",
      "2023-11-26 18:04:50.558877\n"
     ]
    }
   ],
   "source": [
    "# CAUTION: Given the number of records, running this cell will be extremely slow.\n",
    "import datetime\n",
    "print(datetime.datetime.now())\n",
    "\n",
    "# Generate structured records\n",
    "synthea_records = synthea.generate_records(export_directory)\n",
    "\n",
    "with open(os.path.join(output_dir, \"synthea_dataset.json\"), \"w\") as fp:\n",
    "    json.dump(synthea_records, fp)\n",
    "    \n",
    "print(datetime.datetime.now())"
   ]
  },
  {
   "cell_type": "markdown",
   "metadata": {},
   "source": [
    "This is the number of encounters of the specified type found in the generate records:"
   ]
  },
  {
   "cell_type": "code",
   "execution_count": 29,
   "metadata": {},
   "outputs": [
    {
     "data": {
      "text/plain": [
       "2"
      ]
     },
     "execution_count": 29,
     "metadata": {},
     "output_type": "execute_result"
    }
   ],
   "source": [
    "len(synthea_records)"
   ]
  },
  {
   "cell_type": "markdown",
   "id": "23ead513",
   "metadata": {},
   "source": [
    "A modified version of the above was run. This generated 100k records in Synthea but then limited the import of those records to 1000. This then formed our dataset1. The records generated in our run are available separately to this repository."
   ]
  },
  {
   "cell_type": "code",
   "execution_count": 30,
   "id": "21da9d0d",
   "metadata": {},
   "outputs": [],
   "source": [
    "# If using a previously generated set of records they can be loaded as follows:\n",
    "\n",
    "with open(os.path.join(output_dir, \"synthea_dataset.json\")) as fp:\n",
    "    synthea_records = json.load(fp)"
   ]
  },
  {
   "cell_type": "markdown",
   "id": "c0738cc8",
   "metadata": {},
   "source": [
    "The structured notes from Synthea can then be converted to free-text clinical notes.\n",
    "\n",
    "If this fails"
   ]
  },
  {
   "cell_type": "code",
   "execution_count": 31,
   "metadata": {},
   "outputs": [
    {
     "data": {
      "text/plain": [
       "[{'name': 'Mrs. Gaynelle Nitzsche',\n",
       "  'NHS number': '105 724 7753',\n",
       "  'address': '195 Johns Crossing Apt 63, Kimpton, SP11 1NJ',\n",
       "  'date of birth': '1987-12-21',\n",
       "  'marital status': 'married',\n",
       "  'ethnicity': 'White - Any other White background',\n",
       "  'gender': 'female',\n",
       "  'visit type': 'Admission to surgical department',\n",
       "  'visit date': '2023-03-05T21:47:13Z',\n",
       "  'provider': {'doctor': 'Kayla Klein', 'facility': 'Charlton Hill Surgery'},\n",
       "  'visit reason': nan,\n",
       "  'procedures': [{'description': 'Bilateral tubal ligation',\n",
       "    'reasondescription': nan},\n",
       "   {'description': 'Postoperative care (regime/therapy)',\n",
       "    'reasondescription': nan}],\n",
       "  'care plan': [{'description': 'Minor surgery care management',\n",
       "    'reasondescription': nan}]},\n",
       " {'name': 'Ms. Meaghan Ritchie',\n",
       "  'NHS number': '192 182 7200',\n",
       "  'address': '560 Mueller Heights Apt 0, Portsmouth, PO5 6ZH',\n",
       "  'date of birth': '1982-12-04',\n",
       "  'marital status': 'single',\n",
       "  'ethnicity': 'Other Ethnic Groups - Chinese',\n",
       "  'gender': 'female',\n",
       "  'visit type': 'Admission to surgical department',\n",
       "  'visit date': '2018-07-15T07:59:33Z',\n",
       "  'provider': {'doctor': 'Tereasa Mueller',\n",
       "   'facility': 'Copnor Road Practice'},\n",
       "  'visit reason': nan,\n",
       "  'procedures': [{'description': 'Bilateral tubal ligation',\n",
       "    'reasondescription': nan},\n",
       "   {'description': 'Postoperative care (regime/therapy)',\n",
       "    'reasondescription': nan}],\n",
       "  'care plan': [{'description': 'Minor surgery care management',\n",
       "    'reasondescription': nan}]}]"
      ]
     },
     "execution_count": 31,
     "metadata": {},
     "output_type": "execute_result"
    }
   ],
   "source": [
    "synthea_records"
   ]
  },
  {
   "cell_type": "code",
   "execution_count": 15,
   "id": "a69eacff",
   "metadata": {},
   "outputs": [],
   "source": [
    "clinical_note_generator = llm.LMGenerator()\n",
    "llm_results = list(clinical_note_generator.generate_text(synthea_records))\n",
    "\n",
    "with open(os.path.join(output_dir, \"llm_dataset.json\"), \"w\") as fp:\n",
    "    json.dump(llm_results, fp)"
   ]
  },
  {
   "cell_type": "code",
   "execution_count": 16,
   "metadata": {},
   "outputs": [
    {
     "data": {
      "text/plain": [
       "['\\n\\nMr. Lupe Hintz is a 51-year-old male of Asian or Asian British - Any other Asian background ethnicity who is married. He was admitted to New Milton Medical Center on 1982-05-09 under the care of Dr. Robbie Windler for an inpatient encounter related to appendicitis and a history of appendectomy.',\n",
       " \"\\n\\nMrs. Shana O'Conner is a 68-year-old white female of Irish ethnicity who is married and resides at 761 Kulas Ferry Unit 10, Basingstoke, RG21 0YS. She is registered with NHS number 825 927 9365. She visited the Basingstoke and North Hampshire Hospital on 2009-10-24, 10:56:46, for an inpatient encounter under the care of doctor Chanell Robel. The reason for the visit was appendicitis. She has a history of appendectomy.\",\n",
       " \"\\n\\nMrs. Un Daniel is a 55-year-old female of mixed background who was recently admitted to Swan Surgery for an encounter inpatient visit on March 23, 1967. The primary reason for the visit was for appendicitis. The patient's past medical history includes a history of appendectomy. The patient's marital status is married.\",\n",
       " '\\n\\nMr. Carol Towne is a 49-year-old married male of Black or Black British - Any other Black background ethnicity. His NHS number is 237 621 6874 and he lives at 846 Boyle Stravenue, Upton, SO16 9GJ. \\n\\nMr. Towne visited Charlton Hill Surgery on 29th July 1976 at 14:31 for an inpatient encounter with Dr. Jaime Klein. The visit was for appendicitis, and Mr. Towne has a history of appendectomy.']"
      ]
     },
     "execution_count": 16,
     "metadata": {},
     "output_type": "execute_result"
    }
   ],
   "source": [
    "llm_results"
   ]
  },
  {
   "cell_type": "code",
   "execution_count": null,
   "id": "a1e23603",
   "metadata": {},
   "outputs": [],
   "source": [
    "# If using a previously generated set of records they can be loaded as follows:\n",
    "\n",
    "with open(os.path.join(output_dir, \"llm_dataset.json\")) as fp:\n",
    "    llm_results = json.load(fp)"
   ]
  },
  {
   "cell_type": "code",
   "execution_count": null,
   "id": "21fbc893",
   "metadata": {},
   "outputs": [],
   "source": [
    "# The NER step using AWS ComprehendMedical is the most expensive step.\n",
    "# The cost can be estimated with the following function:\n",
    "\n",
    "print(\"Estimated cost is $\", aws.calculate_ner_cost(llm_results))"
   ]
  },
  {
   "cell_type": "code",
   "execution_count": null,
   "id": "8b2f917b",
   "metadata": {},
   "outputs": [],
   "source": [
    "aws_extract = aws.ComprehendExtractor()\n",
    "ner_records = [aws_extract.extract_record(r) for r in llm_results]\n",
    "\n",
    "with open(os.path.join(output_dir, \"ner_dataset.json\"), \"w\") as fp:\n",
    "    json.dump(ner_records, fp)"
   ]
  },
  {
   "cell_type": "code",
   "execution_count": null,
   "id": "e0bbc2df",
   "metadata": {},
   "outputs": [],
   "source": [
    "# If using a previously generated set of records they can be loaded as follows:\n",
    "\n",
    "with open(os.path.join(output_dir, \"ner_dataset.json\")) as fp:\n",
    "    ner_records = json.load(fp)"
   ]
  },
  {
   "cell_type": "markdown",
   "id": "8ddd1b0f",
   "metadata": {},
   "source": [
    "With the raw NER results generated, experiments will move to individual notebooks."
   ]
  }
 ],
 "metadata": {
  "kernelspec": {
   "display_name": "Python 3 (ipykernel)",
   "language": "python",
   "name": "python3"
  },
  "language_info": {
   "codemirror_mode": {
    "name": "ipython",
    "version": 3
   },
   "file_extension": ".py",
   "mimetype": "text/x-python",
   "name": "python",
   "nbconvert_exporter": "python",
   "pygments_lexer": "ipython3",
   "version": "3.11.4"
  }
 },
 "nbformat": 4,
 "nbformat_minor": 5
}
