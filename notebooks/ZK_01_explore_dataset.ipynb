{
 "cells": [
  {
   "cell_type": "markdown",
   "id": "ef2742aa",
   "metadata": {},
   "source": [
    "# 02 - Generating Dataset 1\n",
    "\n",
    "The purpose of this notebook is to explore the dataset created by [02_generate_dataset.ipynb](02_generate_dataset.ipynb)"
   ]
  },
  {
   "cell_type": "code",
   "execution_count": 1,
   "id": "532cfcf6",
   "metadata": {},
   "outputs": [],
   "source": [
    "# Reload functions every time\n",
    "%load_ext autoreload \n",
    "%autoreload 2"
   ]
  },
  {
   "cell_type": "code",
   "execution_count": 2,
   "id": "c0d258c8",
   "metadata": {},
   "outputs": [],
   "source": [
    "import json\n",
    "import os\n",
    "import sys\n",
    "\n",
    "# This will add the src directory to sys.path\n",
    "# meaning that the privacy_fingerprint will be found\n",
    "# note it assumes the current working directory is the folder containing this notebook\n",
    "sys.path.append(os.path.abspath(os.path.join(os.getcwd(), os.pardir))+'/src')"
   ]
  },
  {
   "cell_type": "code",
   "execution_count": 4,
   "id": "d506cec1",
   "metadata": {},
   "outputs": [],
   "source": [
    "# The Synthea output was saved to a directory\n",
    "output_dir = \"../experiments/02_generate_dataset\"\n",
    "os.makedirs(output_dir, exist_ok=True)\n",
    "export_directory = os.path.join(output_dir, \"synthea\")"
   ]
  },
  {
   "cell_type": "markdown",
   "id": "e2adfdb8",
   "metadata": {},
   "source": [
    "The Synthea dataset only saves 1000 records, all of which are encounter for symptom"
   ]
  },
  {
   "cell_type": "code",
   "execution_count": 5,
   "id": "c4f7c37e",
   "metadata": {},
   "outputs": [
    {
     "name": "stdout",
     "output_type": "stream",
     "text": [
      "44\n",
      "Counter({'Encounter Inpatient': 44})\n"
     ]
    }
   ],
   "source": [
    "\n",
    "with open(os.path.join(output_dir, \"synthea_dataset.json\")) as fp:\n",
    "    synthea_records = json.load(fp)\n",
    "\n",
    "records_dict = {}\n",
    "for record in synthea_records:\n",
    "    nhs_number = record['NHS number']\n",
    "    records_dict[nhs_number] = record\n",
    "records_dict\n",
    "print(len(records_dict))\n",
    "\n",
    "visit_types = []\n",
    "\n",
    "for record in records_dict.values():\n",
    "    visit_type = record['visit type']\n",
    "    visit_types.append(visit_type)\n",
    "\n",
    "from collections import Counter\n",
    "visit_type_counts = Counter(visit_types)\n",
    "\n",
    "print(visit_type_counts)"
   ]
  },
  {
   "cell_type": "code",
   "execution_count": 12,
   "metadata": {},
   "outputs": [
    {
     "name": "stdout",
     "output_type": "stream",
     "text": [
      "Ms. Simone Kling\n",
      "596 827 0617\n",
      "411 Gibson Port Apt 51, Crawley, SO21 6PZ\n",
      "1974-05-15\n",
      "single\n",
      "White - British\n",
      "female\n",
      "Encounter Inpatient\n",
      "1993-11-15T08:35:02Z\n",
      "{'doctor': 'Rod Frami', 'facility': 'Naomi House & Jacksplace'}\n",
      "Appendicitis\n",
      "['History of appendectomy']\n"
     ]
    }
   ],
   "source": [
    "ex = list(records_dict.keys())[0]\n",
    "\n",
    "for key, value in records_dict[ex].items():\n",
    "    print(value)"
   ]
  },
  {
   "cell_type": "code",
   "execution_count": 19,
   "metadata": {},
   "outputs": [
    {
     "name": "stdout",
     "output_type": "stream",
     "text": [
      "Simone657_Kling921_cf5c6029-50c2-e2a6-9f1d-529426345c66.json\n"
     ]
    }
   ],
   "source": [
    "for _ in os.listdir('../experiments/02_generate_dataset/synthea/fhir'):\n",
    "    if \"Kling\" in _ and \"Simone\" in _:\n",
    "        print(_)"
   ]
  },
  {
   "cell_type": "markdown",
   "id": "5f3a5ef1",
   "metadata": {},
   "source": [
    "Here I'm experimenting with one FHIR bundle "
   ]
  },
  {
   "cell_type": "code",
   "execution_count": 78,
   "id": "ee989f5a",
   "metadata": {},
   "outputs": [
    {
     "name": "stdout",
     "output_type": "stream",
     "text": [
      "Resource types for this patient\n",
      "Counter({'Observation': 268, 'Procedure': 130, 'Claim': 120, 'ExplanationOfBenefit': 120, 'Encounter': 117, 'Condition': 53, 'DiagnosticReport': 34, 'SupplyDelivery': 15, 'Immunization': 12, 'Device': 3, 'CareTeam': 3, 'CarePlan': 3, 'MedicationRequest': 3, 'Patient': 1, 'ImagingStudy': 1})\n",
      "Counter({'Patient encounter procedure': 40, 'Encounter for problem (procedure)': 35, 'General examination of patient (procedure)': 10, 'Encounter for symptom': 9, 'Encounter for check up (procedure)': 7, 'Emergency treatment (procedure)': 3, 'Emergency room admission (procedure)': 3, 'Prenatal initial visit': 2, 'Drug rehabilitation and detoxification': 2, 'Emergency Room Admission': 1, 'Encounter Inpatient': 1, 'Encounter for problem': 1, 'Non-urgent orthopedic admission': 1, 'Admission to skilled nursing facility (procedure)': 1, 'Urgent care clinic (procedure)': 1})\n",
      "44d6a587-12e2-aa9f-5c06-268fbdaddd6d\n"
     ]
    }
   ],
   "source": [
    "\n",
    "from collections import Counter\n",
    "import json\n",
    "\n",
    "\n",
    "with open('../experiments/02_generate_dataset/synthea/fhir/Simone657_Kling921_cf5c6029-50c2-e2a6-9f1d-529426345c66.json') as f:\n",
    "   data = json.load(f)\n",
    "\n",
    "records_dict = {}\n",
    "resource_types = []\n",
    "encounters = []\n",
    "observations = []\n",
    "procedures = []\n",
    "\n",
    "for entry in data['entry']:\n",
    "    full_url = entry['fullUrl']\n",
    "    resource = entry['resource']\n",
    "    records_dict[full_url] = resource\n",
    "\n",
    "    resource_type = resource['resourceType']\n",
    "    resource_types.append(resource_type)\n",
    "\n",
    "    if resource['resourceType'] == 'Encounter':\n",
    "        encounters.append(resource)\n",
    "    if resource['resourceType'] == 'Observation':\n",
    "        observations.append(resource)\n",
    "    if resource['resourceType'] == 'Procedure':\n",
    "        procedures.append(resource)\n",
    "\n",
    "type_counts = Counter(resource_types)\n",
    "\n",
    "print(\"Resource types for this patient\")\n",
    "print(type_counts) \n",
    "# print(encounters[0]['id'])\n",
    "\n",
    "# convert encounters objects to dict\n",
    "encounters_dict = {}\n",
    "for encounter in encounters:\n",
    "  id = encounter['id']\n",
    "  encounters_dict[id] = encounter\n",
    "\n",
    "# explore types of encounters \n",
    "encounter_types = []\n",
    "\n",
    "for key,value in encounters_dict.items():\n",
    "\n",
    "  for type in value['type']:\n",
    "    \n",
    "    if 'text' in type:\n",
    "      encounter_type = type['text']\n",
    "      encounter_types.append(encounter_type) \n",
    "\n",
    "type_counts = Counter(encounter_types)\n",
    "print(type_counts)\n",
    "\n",
    "# Narrowing to inpatient visits\n",
    "inpat_visits = []\n",
    "\n",
    "for id, encounter in encounters_dict.items():\n",
    "  for type in encounter['type']:\n",
    "    # if 'admission' in type.get('text', '').lower():\n",
    "    if 'encounter inpatient' in type.get('text', '').lower():\n",
    "      inpat_visits.append(encounter)\n",
    "\n",
    "# identif\n",
    "\n",
    "for encounter in inpat_visits:\n",
    "  \n",
    "  print(encounter['id'])\n",
    "  start = encounter['period']['start']\n",
    "  end = encounter['period']['end']\n",
    "\n",
    "  # Initialize lists to hold labs (Observations) and diagnostic reports\n",
    "  related_observations = []  # This will include lab results\n",
    "  related_procedures = []\n",
    "\n",
    "  for entry in data['entry']:\n",
    "      resource = entry['resource']\n",
    "      resource_type = resource['resourceType']\n",
    "\n",
    "      # Check for Observation or DiagnosticReport\n",
    "      if resource_type in ['Observation', 'Procedure']:\n",
    "\n",
    "          # Check if they are related to the inpatient encounters\n",
    "        if 'encounter' in resource: #and encounter['id'] in resource['encounter']['reference']:\n",
    "            # print(resource['encounter']['reference'])\n",
    "            if resource_type == 'Observation':\n",
    "                related_observations.append(resource)  # This includes lab results\n",
    "            elif resource_type == 'Procedure':\n",
    "                related_procedures.append(resource)\n",
    "    \n",
    "\n",
    "\n",
    "\n",
    "\n",
    "\n"
   ]
  },
  {
   "cell_type": "code",
   "execution_count": 81,
   "metadata": {},
   "outputs": [
    {
     "name": "stdout",
     "output_type": "stream",
     "text": [
      "Types of encounters which have obs\n",
      "Counter({'Encounter for check up (procedure)': 81, 'Encounter for symptom': 73, 'General examination of patient (procedure)': 73, 'Patient encounter procedure': 35, 'Encounter for problem (procedure)': 4, 'Drug rehabilitation and detoxification': 2})\n",
      "Types of encounters which have procedures\n"
     ]
    },
    {
     "data": {
      "text/plain": [
       "Counter({'Patient encounter procedure': 44,\n",
       "         'Encounter for problem (procedure)': 38,\n",
       "         'Encounter for symptom': 21,\n",
       "         'General examination of patient (procedure)': 9,\n",
       "         'Admission to skilled nursing facility (procedure)': 8,\n",
       "         'Encounter for check up (procedure)': 7,\n",
       "         'Non-urgent orthopedic admission': 2,\n",
       "         'Emergency room admission (procedure)': 1})"
      ]
     },
     "execution_count": 81,
     "metadata": {},
     "output_type": "execute_result"
    }
   ],
   "source": [
    "related_encounter_types = []\n",
    "for obs_instance in observations:\n",
    "    related_encounter = obs_instance['encounter']['reference'].replace(\"urn:uuid:\", \"\")\n",
    "    # print(encounters_dict[related_encounter]['type'][0]['text'])\n",
    "    related_encounter_types.append(encounters_dict[related_encounter]['type'][0]['text'])\n",
    "\n",
    "print(\"Types of encounters which have obs\")\n",
    "print(Counter(related_encounter_types))\n",
    "\n",
    "related_encounter_types = []\n",
    "for proc_instance in procedures:\n",
    "    related_encounter = proc_instance['encounter']['reference'].replace(\"urn:uuid:\", \"\")\n",
    "    # print(encounters_dict[related_encounter]['type'][0]['text'])\n",
    "    related_encounter_types.append(encounters_dict[related_encounter]['type'][0]['text'])\n",
    "\n",
    "print(\"Types of encounters which have procedures\")\n",
    "Counter(related_encounter_types)"
   ]
  },
  {
   "cell_type": "code",
   "execution_count": 36,
   "metadata": {},
   "outputs": [
    {
     "name": "stdout",
     "output_type": "stream",
     "text": [
      "dict_keys(['resourceType', 'id', 'status', 'class', 'type', 'subject', 'participant', 'period', 'reasonCode', 'serviceProvider'])\n",
      "{'resourceType': 'Encounter', 'id': '44d6a587-12e2-aa9f-5c06-268fbdaddd6d', 'status': 'finished', 'class': {'system': 'http://terminology.hl7.org/CodeSystem/v3-ActCode', 'code': 'IMP'}, 'type': [{'coding': [{'system': 'http://snomed.info/sct', 'code': '183452005', 'display': 'Encounter Inpatient'}], 'text': 'Encounter Inpatient'}], 'subject': {'reference': 'urn:uuid:cf5c6029-50c2-e2a6-9f1d-529426345c66', 'display': 'Ms. Simone657 Joey457 Kling921'}, 'participant': [{'type': [{'coding': [{'system': 'http://terminology.hl7.org/CodeSystem/v3-ParticipationType', 'code': 'PPRF', 'display': 'primary performer'}], 'text': 'primary performer'}], 'period': {'start': '1993-11-15T08:35:02+00:00', 'end': '1993-11-20T06:16:30+00:00'}, 'individual': {'reference': 'Practitioner?identifier=http://hl7.org/fhir/sid/us-npi|9999997692', 'display': 'Dr. Rod343 Frami345'}}], 'period': {'start': '1993-11-15T08:35:02+00:00', 'end': '1993-11-20T06:16:30+00:00'}, 'reasonCode': [{'coding': [{'system': 'http://snomed.info/sct', 'code': '74400008', 'display': 'Appendicitis'}]}], 'hospitalization': {'dischargeDisposition': {'coding': [{'system': 'http://www.nubc.org/patient-discharge', 'code': '01', 'display': 'Discharged to home care or self care (routine discharge)'}], 'text': 'Discharged to home care or self care (routine discharge)'}}, 'serviceProvider': {'reference': 'Organization?identifier=https://github.com/synthetichealth/synthea|8e06337c-3de0-3ff7-84ab-6f9259cb06f5', 'display': 'Naomi House & Jacksplace'}}\n"
     ]
    }
   ],
   "source": [
    "print(encounters[0].keys()) # hospitalization is not in\n",
    "for _ in encounters:\n",
    "    if 'hospitalization' in _.keys():\n",
    "        print(_)"
   ]
  },
  {
   "cell_type": "code",
   "execution_count": 38,
   "metadata": {},
   "outputs": [
    {
     "data": {
      "text/plain": [
       "[{'resourceType': 'Encounter',\n",
       "  'id': '44d6a587-12e2-aa9f-5c06-268fbdaddd6d',\n",
       "  'status': 'finished',\n",
       "  'class': {'system': 'http://terminology.hl7.org/CodeSystem/v3-ActCode',\n",
       "   'code': 'IMP'},\n",
       "  'type': [{'coding': [{'system': 'http://snomed.info/sct',\n",
       "      'code': '183452005',\n",
       "      'display': 'Encounter Inpatient'}],\n",
       "    'text': 'Encounter Inpatient'}],\n",
       "  'subject': {'reference': 'urn:uuid:cf5c6029-50c2-e2a6-9f1d-529426345c66',\n",
       "   'display': 'Ms. Simone657 Joey457 Kling921'},\n",
       "  'participant': [{'type': [{'coding': [{'system': 'http://terminology.hl7.org/CodeSystem/v3-ParticipationType',\n",
       "        'code': 'PPRF',\n",
       "        'display': 'primary performer'}],\n",
       "      'text': 'primary performer'}],\n",
       "    'period': {'start': '1993-11-15T08:35:02+00:00',\n",
       "     'end': '1993-11-20T06:16:30+00:00'},\n",
       "    'individual': {'reference': 'Practitioner?identifier=http://hl7.org/fhir/sid/us-npi|9999997692',\n",
       "     'display': 'Dr. Rod343 Frami345'}}],\n",
       "  'period': {'start': '1993-11-15T08:35:02+00:00',\n",
       "   'end': '1993-11-20T06:16:30+00:00'},\n",
       "  'reasonCode': [{'coding': [{'system': 'http://snomed.info/sct',\n",
       "      'code': '74400008',\n",
       "      'display': 'Appendicitis'}]}],\n",
       "  'hospitalization': {'dischargeDisposition': {'coding': [{'system': 'http://www.nubc.org/patient-discharge',\n",
       "      'code': '01',\n",
       "      'display': 'Discharged to home care or self care (routine discharge)'}],\n",
       "    'text': 'Discharged to home care or self care (routine discharge)'}},\n",
       "  'serviceProvider': {'reference': 'Organization?identifier=https://github.com/synthetichealth/synthea|8e06337c-3de0-3ff7-84ab-6f9259cb06f5',\n",
       "   'display': 'Naomi House & Jacksplace'}}]"
      ]
     },
     "execution_count": 38,
     "metadata": {},
     "output_type": "execute_result"
    }
   ],
   "source": [
    "inpat_visits\n",
    "\n",
    "# Initialize lists to hold labs (Observations) and diagnostic reports\n",
    "related_observations = []  # This will include lab results\n",
    "related_diagnostic_reports = []\n",
    "\n",
    "for entry in data['entry']:\n",
    "    resource = entry['resource']\n",
    "    resource_type = resource['resourceType']\n",
    "\n",
    "    # Check for Observation or DiagnosticReport\n",
    "    if resource_type in ['Observation', 'DiagnosticReport']:\n",
    "        # Check if they are related to the inpatient encounters\n",
    "        if 'encounter' in resource and resource['encounter']['reference'] in inpatient_ids:\n",
    "            if resource_type == 'Observation':\n",
    "                related_observations.append(resource)  # This includes lab results\n",
    "            elif resource_type == 'DiagnosticReport':\n",
    "                related_diagnostic_reports.append(resource)"
   ]
  },
  {
   "cell_type": "code",
   "execution_count": 20,
   "metadata": {},
   "outputs": [],
   "source": [
    "\n",
    "# Assuming inpat_visits contains your filtered inpatient visits\n",
    "if inpat_visits:\n",
    "    # Write all inpatient encounters to a new JSON file\n",
    "    with open('../experiments/02_generate_dataset_for_tom/synthea/fhir_examples/Angelo118_Franecki195_2.json', 'w') as outfile:\n",
    "        json.dump(inpat_visits, outfile)"
   ]
  },
  {
   "cell_type": "markdown",
   "id": "11797ed3",
   "metadata": {},
   "source": [
    "## Explore relationships in Synthea\n",
    "\n",
    "https://learn.microsoft.com/en-us/fabric/data-science/tutorial-relationships-detection\n",
    "\n",
    "This requires Azure"
   ]
  },
  {
   "cell_type": "code",
   "execution_count": 44,
   "id": "0266d5a0",
   "metadata": {},
   "outputs": [],
   "source": [
    "# import sempy\n",
    "# from sempy.relationships import (\n",
    "#     find_relationships,\n",
    "#     list_relationship_violations,\n",
    "#     plot_relationship_metadata\n",
    "# )"
   ]
  },
  {
   "cell_type": "markdown",
   "id": "c0738cc8",
   "metadata": {},
   "source": [
    "## Load background tables \n",
    "\n",
    "The structured notes from Synthea can then be converted to free-text clinical notes."
   ]
  },
  {
   "cell_type": "code",
   "execution_count": 46,
   "id": "12b34d36",
   "metadata": {},
   "outputs": [],
   "source": [
    "import pandas as pd\n",
    "enc = pd.read_csv('../experiments/02_generate_dataset/synthea/csv/encounters.csv')\n",
    "pat = pd.read_csv('../experiments/02_generate_dataset/synthea/csv/patients.csv')\n",
    "cond = pd.read_csv('../experiments/02_generate_dataset/synthea/csv/conditions.csv')\n",
    "med = pd.read_csv('../experiments/02_generate_dataset/synthea/csv/medications.csv')\n",
    "proc = pd.read_csv('../experiments/02_generate_dataset/synthea/csv/procedures.csv')"
   ]
  },
  {
   "cell_type": "code",
   "execution_count": 23,
   "id": "45f7e569",
   "metadata": {},
   "outputs": [
    {
     "ename": "NameError",
     "evalue": "name 'enc' is not defined",
     "output_type": "error",
     "traceback": [
      "\u001b[0;31m---------------------------------------------------------------------------\u001b[0m",
      "\u001b[0;31mNameError\u001b[0m                                 Traceback (most recent call last)",
      "\u001b[1;32m/Users/zellaking/Repos/privfp-poc-zk/notebooks/ZK_01_explore_dataset.ipynb Cell 15\u001b[0m line \u001b[0;36m1\n\u001b[0;32m----> <a href='vscode-notebook-cell:/Users/zellaking/Repos/privfp-poc-zk/notebooks/ZK_01_explore_dataset.ipynb#X15sZmlsZQ%3D%3D?line=0'>1</a>\u001b[0m inp \u001b[39m=\u001b[39m enc[enc\u001b[39m.\u001b[39mENCOUNTERCLASS \u001b[39m==\u001b[39m \u001b[39m'\u001b[39m\u001b[39minpatient\u001b[39m\u001b[39m'\u001b[39m]\n\u001b[1;32m      <a href='vscode-notebook-cell:/Users/zellaking/Repos/privfp-poc-zk/notebooks/ZK_01_explore_dataset.ipynb#X15sZmlsZQ%3D%3D?line=1'>2</a>\u001b[0m \u001b[39m# inp.head(2).T\u001b[39;00m\n\u001b[1;32m      <a href='vscode-notebook-cell:/Users/zellaking/Repos/privfp-poc-zk/notebooks/ZK_01_explore_dataset.ipynb#X15sZmlsZQ%3D%3D?line=2'>3</a>\u001b[0m     \u001b[39m# enc.ENCOUNTERCLASS.value_counts()\u001b[39;00m\n\u001b[1;32m      <a href='vscode-notebook-cell:/Users/zellaking/Repos/privfp-poc-zk/notebooks/ZK_01_explore_dataset.ipynb#X15sZmlsZQ%3D%3D?line=3'>4</a>\u001b[0m \u001b[39m# len(inp.PATIENT.unique())#.size\u001b[39;00m\n",
      "\u001b[0;31mNameError\u001b[0m: name 'enc' is not defined"
     ]
    }
   ],
   "source": [
    "inp = enc[enc.ENCOUNTERCLASS == 'inpatient']\n",
    "# inp.head(2).T\n",
    "    # enc.ENCOUNTERCLASS.value_counts()\n",
    "# len(inp.PATIENT.unique())#.size"
   ]
  },
  {
   "cell_type": "code",
   "execution_count": 24,
   "metadata": {},
   "outputs": [],
   "source": [
    "ex_pat = '5cb0dac2-b3e6-3018-ea64-814bf7bcd780'\n",
    "\n"
   ]
  },
  {
   "cell_type": "code",
   "execution_count": 127,
   "id": "1fea71ae",
   "metadata": {},
   "outputs": [
    {
     "data": {
      "text/html": [
       "<div>\n",
       "<style scoped>\n",
       "    .dataframe tbody tr th:only-of-type {\n",
       "        vertical-align: middle;\n",
       "    }\n",
       "\n",
       "    .dataframe tbody tr th {\n",
       "        vertical-align: top;\n",
       "    }\n",
       "\n",
       "    .dataframe thead th {\n",
       "        text-align: right;\n",
       "    }\n",
       "</style>\n",
       "<table border=\"1\" class=\"dataframe\">\n",
       "  <thead>\n",
       "    <tr style=\"text-align: right;\">\n",
       "      <th></th>\n",
       "      <th>Id</th>\n",
       "      <th>START</th>\n",
       "      <th>STOP</th>\n",
       "      <th>PATIENT</th>\n",
       "      <th>ORGANIZATION</th>\n",
       "      <th>PROVIDER</th>\n",
       "      <th>PAYER</th>\n",
       "      <th>ENCOUNTERCLASS</th>\n",
       "      <th>CODE</th>\n",
       "      <th>DESCRIPTION</th>\n",
       "      <th>BASE_ENCOUNTER_COST</th>\n",
       "      <th>TOTAL_CLAIM_COST</th>\n",
       "      <th>PAYER_COVERAGE</th>\n",
       "      <th>REASONCODE</th>\n",
       "      <th>REASONDESCRIPTION</th>\n",
       "    </tr>\n",
       "  </thead>\n",
       "  <tbody>\n",
       "    <tr>\n",
       "      <th>808</th>\n",
       "      <td>cb338fc9-c430-0671-e0c4-e4d805815cc6</td>\n",
       "      <td>2020-11-01T19:55:43Z</td>\n",
       "      <td>2020-11-10T20:45:13Z</td>\n",
       "      <td>5cb0dac2-b3e6-3018-ea64-814bf7bcd780</td>\n",
       "      <td>9e0eba2f-7955-3835-9ef0-cc75aa3fdad2</td>\n",
       "      <td>5fc8e82e-9d1c-3b15-9281-2a58e6ce33ae</td>\n",
       "      <td>329794ac-8260-3252-90dd-cc5284fe15b9</td>\n",
       "      <td>inpatient</td>\n",
       "      <td>1505002</td>\n",
       "      <td>Hospital admission for isolation (procedure)</td>\n",
       "      <td>125.0</td>\n",
       "      <td>22281.21</td>\n",
       "      <td>22281.21</td>\n",
       "      <td>840539006.0</td>\n",
       "      <td>COVID-19</td>\n",
       "    </tr>\n",
       "    <tr>\n",
       "      <th>826</th>\n",
       "      <td>19f506f5-920f-89f4-7040-cc1e2d2be8f3</td>\n",
       "      <td>2021-01-23T19:43:01Z</td>\n",
       "      <td>2021-01-24T19:43:01Z</td>\n",
       "      <td>5cb0dac2-b3e6-3018-ea64-814bf7bcd780</td>\n",
       "      <td>9e0eba2f-7955-3835-9ef0-cc75aa3fdad2</td>\n",
       "      <td>5fc8e82e-9d1c-3b15-9281-2a58e6ce33ae</td>\n",
       "      <td>329794ac-8260-3252-90dd-cc5284fe15b9</td>\n",
       "      <td>inpatient</td>\n",
       "      <td>305408004</td>\n",
       "      <td>Admission to surgical department</td>\n",
       "      <td>125.0</td>\n",
       "      <td>9163.80</td>\n",
       "      <td>9163.80</td>\n",
       "      <td>NaN</td>\n",
       "      <td>NaN</td>\n",
       "    </tr>\n",
       "  </tbody>\n",
       "</table>\n",
       "</div>"
      ],
      "text/plain": [
       "                                       Id                 START  \\\n",
       "808  cb338fc9-c430-0671-e0c4-e4d805815cc6  2020-11-01T19:55:43Z   \n",
       "826  19f506f5-920f-89f4-7040-cc1e2d2be8f3  2021-01-23T19:43:01Z   \n",
       "\n",
       "                     STOP                               PATIENT  \\\n",
       "808  2020-11-10T20:45:13Z  5cb0dac2-b3e6-3018-ea64-814bf7bcd780   \n",
       "826  2021-01-24T19:43:01Z  5cb0dac2-b3e6-3018-ea64-814bf7bcd780   \n",
       "\n",
       "                             ORGANIZATION  \\\n",
       "808  9e0eba2f-7955-3835-9ef0-cc75aa3fdad2   \n",
       "826  9e0eba2f-7955-3835-9ef0-cc75aa3fdad2   \n",
       "\n",
       "                                 PROVIDER  \\\n",
       "808  5fc8e82e-9d1c-3b15-9281-2a58e6ce33ae   \n",
       "826  5fc8e82e-9d1c-3b15-9281-2a58e6ce33ae   \n",
       "\n",
       "                                    PAYER ENCOUNTERCLASS       CODE  \\\n",
       "808  329794ac-8260-3252-90dd-cc5284fe15b9      inpatient    1505002   \n",
       "826  329794ac-8260-3252-90dd-cc5284fe15b9      inpatient  305408004   \n",
       "\n",
       "                                      DESCRIPTION  BASE_ENCOUNTER_COST  \\\n",
       "808  Hospital admission for isolation (procedure)                125.0   \n",
       "826              Admission to surgical department                125.0   \n",
       "\n",
       "     TOTAL_CLAIM_COST  PAYER_COVERAGE   REASONCODE REASONDESCRIPTION  \n",
       "808          22281.21        22281.21  840539006.0          COVID-19  \n",
       "826           9163.80         9163.80          NaN               NaN  "
      ]
     },
     "execution_count": 127,
     "metadata": {},
     "output_type": "execute_result"
    }
   ],
   "source": [
    "inp[inp.PATIENT == ex_pat]\n",
    "\n",
    "cond[cond.PATIENT == ex_pat]\n",
    "med[med.PATIENT == ex_pat]\n",
    "\n",
    "proc[(proc.ENCOUNTER.isin(inp.Id.values)) & (proc.PATIENT == ex_pat)]"
   ]
  },
  {
   "cell_type": "code",
   "execution_count": null,
   "id": "d0d4d296",
   "metadata": {},
   "outputs": [],
   "source": []
  },
  {
   "cell_type": "code",
   "execution_count": null,
   "id": "daa4c775",
   "metadata": {},
   "outputs": [],
   "source": []
  },
  {
   "cell_type": "code",
   "execution_count": 31,
   "id": "5440bad8",
   "metadata": {},
   "outputs": [
    {
     "data": {
      "text/plain": [
       "'text-davinci-003'"
      ]
     },
     "execution_count": 31,
     "metadata": {},
     "output_type": "execute_result"
    }
   ],
   "source": [
    "import privacy_fingerprint.generate.language_model as llm\n",
    "\n",
    "from privacy_fingerprint.common.config import (\n",
    "    load_experiment_config,\n",
    "    load_experiment_config_from_file,\n",
    "    load_global_config_from_file,\n",
    ")\n",
    "# config = load_experiment_config_from_file()\n",
    "config = load_experiment_config_from_file(\"../configs/experiment_config.yaml\")\n",
    "\n",
    "config.openai.model"
   ]
  },
  {
   "cell_type": "code",
   "execution_count": 34,
   "metadata": {},
   "outputs": [
    {
     "ename": "FileNotFoundError",
     "evalue": "[Errno 2] No such file or directory: '../configs/global_config.yaml'",
     "output_type": "error",
     "traceback": [
      "\u001b[0;31m---------------------------------------------------------------------------\u001b[0m",
      "\u001b[0;31mFileNotFoundError\u001b[0m                         Traceback (most recent call last)",
      "\u001b[1;32m/Users/zellaking/Repos/privfp-poc-zk/notebooks/ZK_01_explore_dataset.ipynb Cell 21\u001b[0m line \u001b[0;36m1\n\u001b[0;32m----> <a href='vscode-notebook-cell:/Users/zellaking/Repos/privfp-poc-zk/notebooks/ZK_01_explore_dataset.ipynb#X43sZmlsZQ%3D%3D?line=0'>1</a>\u001b[0m config \u001b[39m=\u001b[39m load_global_config_from_file(\u001b[39m\"\u001b[39;49m\u001b[39m../configs/global_config.yaml\u001b[39;49m\u001b[39m\"\u001b[39;49m)\n",
      "File \u001b[0;32m~/Repos/privfp-poc-zk/src/privacy_fingerprint/common/config/__init__.py:53\u001b[0m, in \u001b[0;36mload_global_config_from_file\u001b[0;34m(filename, environ)\u001b[0m\n\u001b[1;32m     41\u001b[0m \u001b[39mdef\u001b[39;00m \u001b[39mload_global_config_from_file\u001b[39m(\n\u001b[1;32m     42\u001b[0m     filename: \u001b[39mstr\u001b[39m, environ: Optional[Dict] \u001b[39m=\u001b[39m \u001b[39mNone\u001b[39;00m\n\u001b[1;32m     43\u001b[0m ) \u001b[39m-\u001b[39m\u001b[39m>\u001b[39m GlobalConfig:\n\u001b[1;32m     44\u001b[0m \u001b[39m    \u001b[39m\u001b[39m\"\"\"Load the global config for the privacy fingerprint tool\u001b[39;00m\n\u001b[1;32m     45\u001b[0m \n\u001b[1;32m     46\u001b[0m \u001b[39m    Config values are first loaded from the file and then if matching values are found in\u001b[39;00m\n\u001b[0;32m   (...)\u001b[0m\n\u001b[1;32m     51\u001b[0m \u001b[39m    :param environ: Dictionary of values used to override values in the file\u001b[39;00m\n\u001b[1;32m     52\u001b[0m \u001b[39m    :returns: Config object\"\"\"\u001b[39;00m\n\u001b[0;32m---> 53\u001b[0m     \u001b[39mwith\u001b[39;00m \u001b[39mopen\u001b[39;49m(filename) \u001b[39mas\u001b[39;00m fp:\n\u001b[1;32m     54\u001b[0m         config \u001b[39m=\u001b[39m yaml\u001b[39m.\u001b[39msafe_load(fp)\n\u001b[1;32m     55\u001b[0m     \u001b[39mif\u001b[39;00m environ \u001b[39mis\u001b[39;00m \u001b[39mNone\u001b[39;00m:\n",
      "\u001b[0;31mFileNotFoundError\u001b[0m: [Errno 2] No such file or directory: '../configs/global_config.yaml'"
     ]
    }
   ],
   "source": [
    "config = load_global_config_from_file(\"../configs/global_config.yaml\")\n"
   ]
  },
  {
   "cell_type": "code",
   "execution_count": 33,
   "id": "a69eacff",
   "metadata": {},
   "outputs": [
    {
     "ename": "AttributeError",
     "evalue": "'NoneType' object has no attribute 'cache'",
     "output_type": "error",
     "traceback": [
      "\u001b[0;31m---------------------------------------------------------------------------\u001b[0m",
      "\u001b[0;31mAttributeError\u001b[0m                            Traceback (most recent call last)",
      "\u001b[1;32m/Users/zellaking/Repos/privfp-poc-zk/notebooks/ZK_01_explore_dataset.ipynb Cell 21\u001b[0m line \u001b[0;36m2\n\u001b[1;32m      <a href='vscode-notebook-cell:/Users/zellaking/Repos/privfp-poc-zk/notebooks/ZK_01_explore_dataset.ipynb#X31sZmlsZQ%3D%3D?line=0'>1</a>\u001b[0m clinical_note_generator \u001b[39m=\u001b[39m llm\u001b[39m.\u001b[39mLMGenerator()\n\u001b[0;32m----> <a href='vscode-notebook-cell:/Users/zellaking/Repos/privfp-poc-zk/notebooks/ZK_01_explore_dataset.ipynb#X31sZmlsZQ%3D%3D?line=1'>2</a>\u001b[0m llm_results \u001b[39m=\u001b[39m \u001b[39mlist\u001b[39m(clinical_note_generator\u001b[39m.\u001b[39;49mgenerate_text(inpat_visits))\n\u001b[1;32m      <a href='vscode-notebook-cell:/Users/zellaking/Repos/privfp-poc-zk/notebooks/ZK_01_explore_dataset.ipynb#X31sZmlsZQ%3D%3D?line=3'>4</a>\u001b[0m \u001b[39mwith\u001b[39;00m \u001b[39mopen\u001b[39m(\u001b[39m'\u001b[39m\u001b[39m../experiments/02_generate_dataset_for_tom/synthea/fhir_examples/Angelo118_Franecki195_note.json\u001b[39m\u001b[39m'\u001b[39m, \u001b[39m'\u001b[39m\u001b[39mw\u001b[39m\u001b[39m'\u001b[39m) \u001b[39mas\u001b[39;00m fp:\n\u001b[1;32m      <a href='vscode-notebook-cell:/Users/zellaking/Repos/privfp-poc-zk/notebooks/ZK_01_explore_dataset.ipynb#X31sZmlsZQ%3D%3D?line=4'>5</a>\u001b[0m     json\u001b[39m.\u001b[39mdump(llm_results, fp)\n",
      "File \u001b[0;32m~/Repos/privfp-poc-zk/src/privacy_fingerprint/generate/language_model.py:47\u001b[0m, in \u001b[0;36mgenerate_text\u001b[0;34m(self, records)\u001b[0m\n\u001b[1;32m     42\u001b[0m \u001b[39mdef\u001b[39;00m \u001b[39mgenerate_text\u001b[39m(\u001b[39mself\u001b[39m, records: List[Dict[\u001b[39mstr\u001b[39m, Any]]) \u001b[39m-\u001b[39m\u001b[39m>\u001b[39m Iterable[\u001b[39mstr\u001b[39m]:\n\u001b[1;32m     43\u001b[0m \u001b[39m    \u001b[39m\u001b[39m\"\"\"Convert a series of structured records into unstructured clinical notes\u001b[39;00m\n\u001b[1;32m     44\u001b[0m \n\u001b[1;32m     45\u001b[0m \u001b[39m    :param records: List of structured records\u001b[39;00m\n\u001b[1;32m     46\u001b[0m \u001b[39m    :returns: Iterable of unstructured clinical notes\u001b[39;00m\n\u001b[0;32m---> 47\u001b[0m \u001b[39m    \"\"\"\u001b[39;00m\n\u001b[1;32m     48\u001b[0m     config \u001b[39m=\u001b[39m load_global_config()\n\u001b[1;32m     49\u001b[0m     cache_miss_records \u001b[39m=\u001b[39m \u001b[39mself\u001b[39m\u001b[39m.\u001b[39mget_cache_miss_records(records)\n",
      "File \u001b[0;32m~/Repos/privfp-poc-zk/src/privacy_fingerprint/generate/language_model.py:127\u001b[0m, in \u001b[0;36mget_cache_miss_records\u001b[0;34m(self, records)\u001b[0m\n\u001b[1;32m    123\u001b[0m \u001b[39mdef\u001b[39;00m \u001b[39mget_cache_miss_records\u001b[39m(\u001b[39mself\u001b[39m, records):\n\u001b[1;32m    124\u001b[0m \u001b[39m    \u001b[39m\u001b[39m\"\"\"Get records that have not yet been saved to the cache\u001b[39;00m\n\u001b[1;32m    125\u001b[0m \n\u001b[1;32m    126\u001b[0m \u001b[39m    :param records: List of records\u001b[39;00m\n\u001b[0;32m--> 127\u001b[0m \u001b[39m    :returns: List of records not in the cache\"\"\"\u001b[39;00m\n\u001b[1;32m    128\u001b[0m     record_lookup \u001b[39m=\u001b[39m {\u001b[39mself\u001b[39m\u001b[39m.\u001b[39mrecord_id(record): record \u001b[39mfor\u001b[39;00m record \u001b[39min\u001b[39;00m records}\n\u001b[1;32m    129\u001b[0m     \u001b[39mwith\u001b[39;00m get_session()() \u001b[39mas\u001b[39;00m session:\n",
      "File \u001b[0;32m~/Repos/privfp-poc-zk/src/privacy_fingerprint/common/db.py:23\u001b[0m, in \u001b[0;36mget_session\u001b[0;34m()\u001b[0m\n\u001b[1;32m     21\u001b[0m config \u001b[39m=\u001b[39m load_global_config()\n\u001b[1;32m     22\u001b[0m connection \u001b[39m=\u001b[39m \u001b[39m\"\u001b[39m\u001b[39msqlite+pysqlite://\u001b[39m\u001b[39m\"\u001b[39m\n\u001b[0;32m---> 23\u001b[0m \u001b[39mif\u001b[39;00m config\u001b[39m.\u001b[39;49mcache\u001b[39m.\u001b[39mfile_name \u001b[39m!=\u001b[39m \u001b[39m\"\u001b[39m\u001b[39m\"\u001b[39m:\n\u001b[1;32m     24\u001b[0m     connection \u001b[39m=\u001b[39m \u001b[39mf\u001b[39m\u001b[39m\"\u001b[39m\u001b[39m{\u001b[39;00mconnection\u001b[39m}\u001b[39;00m\u001b[39m/\u001b[39m\u001b[39m{\u001b[39;00mconfig\u001b[39m.\u001b[39mcache\u001b[39m.\u001b[39mfile_name\u001b[39m}\u001b[39;00m\u001b[39m\"\u001b[39m\n\u001b[1;32m     25\u001b[0m \u001b[39melse\u001b[39;00m:\n",
      "\u001b[0;31mAttributeError\u001b[0m: 'NoneType' object has no attribute 'cache'"
     ]
    }
   ],
   "source": [
    "clinical_note_generator = llm.LMGenerator()\n",
    "llm_results = list(clinical_note_generator.generate_text(inpat_visits))\n",
    "\n",
    "with open('../experiments/02_generate_dataset_for_tom/synthea/fhir_examples/Angelo118_Franecki195_note.json', 'w') as fp:\n",
    "    json.dump(llm_results, fp)"
   ]
  },
  {
   "cell_type": "code",
   "execution_count": null,
   "id": "a1e23603",
   "metadata": {},
   "outputs": [],
   "source": [
    "# If using a previously generated set of records they can be loaded as follows:\n",
    "\n",
    "with open(os.path.join(output_dir, \"llm_dataset.json\")) as fp:\n",
    "    llm_results = json.load(fp)"
   ]
  },
  {
   "cell_type": "code",
   "execution_count": null,
   "id": "21fbc893",
   "metadata": {},
   "outputs": [],
   "source": [
    "# The NER step using AWS ComprehendMedical is the most expensive step.\n",
    "# The cost can be estimated with the following function:\n",
    "\n",
    "print(\"Estimated cost is $\", aws.calculate_ner_cost(llm_results))"
   ]
  },
  {
   "cell_type": "code",
   "execution_count": null,
   "id": "8b2f917b",
   "metadata": {},
   "outputs": [],
   "source": [
    "aws_extract = aws.ComprehendExtractor()\n",
    "ner_records = [aws_extract.extract_record(r) for r in llm_results]\n",
    "\n",
    "with open(os.path.join(output_dir, \"ner_dataset.json\"), \"w\") as fp:\n",
    "    json.dump(ner_records, fp)"
   ]
  },
  {
   "cell_type": "code",
   "execution_count": null,
   "id": "e0bbc2df",
   "metadata": {},
   "outputs": [],
   "source": [
    "# If using a previously generated set of records they can be loaded as follows:\n",
    "\n",
    "with open(os.path.join(output_dir, \"ner_dataset.json\")) as fp:\n",
    "    ner_records = json.load(fp)"
   ]
  },
  {
   "cell_type": "markdown",
   "id": "8ddd1b0f",
   "metadata": {},
   "source": [
    "With the raw NER results generated, experiments will move to individual notebooks."
   ]
  }
 ],
 "metadata": {
  "kernelspec": {
   "display_name": "Python 3 (ipykernel)",
   "language": "python",
   "name": "python3"
  },
  "language_info": {
   "codemirror_mode": {
    "name": "ipython",
    "version": 3
   },
   "file_extension": ".py",
   "mimetype": "text/x-python",
   "name": "python",
   "nbconvert_exporter": "python",
   "pygments_lexer": "ipython3",
   "version": "3.11.4"
  }
 },
 "nbformat": 4,
 "nbformat_minor": 5
}
